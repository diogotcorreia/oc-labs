{
 "cells": [
  {
   "cell_type": "markdown",
   "metadata": {},
   "source": [
    "# Memory Hierarchy"
   ]
  },
  {
   "cell_type": "markdown",
   "metadata": {},
   "source": [
    "## 2 Procedure"
   ]
  },
  {
   "cell_type": "markdown",
   "metadata": {},
   "source": [
    "### 2.1 Understanding the Program\n",
    "Without delving into the details of the signal processing application, analyze the flow of the C program.\n",
    "Observe the data access patterns and identify the critical sequence of accesses which may have a larger\n",
    "impact on the performance of the system."
   ]
  },
  {
   "cell_type": "markdown",
   "metadata": {},
   "source": [
    "### 2.3 Cache L1"
   ]
  },
  {
   "cell_type": "markdown",
   "metadata": {},
   "source": [
    "#### 2.3.1 Theory of Cache"
   ]
  },
  {
   "cell_type": "markdown",
   "metadata": {},
   "source": [
    "1. Explain the different types of cache misses: compulsory, capacity, and conflict\n",
    "\n"
   ]
  },
  {
   "cell_type": "markdown",
   "metadata": {},
   "source": [
    "2. Explain the different types of cache writing-policies.\n"
   ]
  },
  {
   "cell_type": "markdown",
   "metadata": {},
   "source": [
    "### 2.3.2 Cache L1: dimension and block size"
   ]
  },
  {
   "cell_type": "markdown",
   "metadata": {},
   "source": [
    "a) Consider a memory hierarchy composed of a single cache memory (L1), which interconnects the\n",
    "SDRAM frame memory and the CPU.\\\n",
    "Considering the characteristics of the available memory devices (see Table 1), and the maximum total cost of the memory hierarchy, determine the maximum\n",
    "storage space of cache L1.\n",
    "- NOTES:\n",
    "    - the size of any of the memory modules (frame buffer, any cache) must be an integer power of 2:\n",
    "        - L1_size = $2^{MAX}$;\n",
    "    - do not forget to consider the cost of the 128 kByte frame memory."
   ]
  },
  {
   "cell_type": "code",
   "execution_count": 29,
   "metadata": {},
   "outputs": [
    {
     "name": "stdout",
     "output_type": "stream",
     "text": [
      "SDRAM price:  0.00125\n",
      "Budget antes de L1:  0.01875\n",
      "Valor do i é:  10\n"
     ]
    }
   ],
   "source": [
    "from math import pow\n",
    "\n",
    "BUDGET = 0.02\n",
    "PRICE_PER_MBYTE_L1 = 10\n",
    "PRICE_PER_MBYTE_SDRAM = 0.01\n",
    "SIZE_SDRAM = pow(2,17)\n",
    "\n",
    "def calculate_price(size_in_bytes, price_per_Mbyte):\n",
    "    \n",
    "    price_per_byte = price_per_Mbyte / pow(2,20)\n",
    "\n",
    "    return price_per_byte * size_in_bytes\n",
    "\n",
    "\n",
    "sdram_price = calculate_price(SIZE_SDRAM,PRICE_PER_MBYTE_SDRAM)\n",
    "\n",
    "print(\"SDRAM price: \", sdram_price)\n",
    "\n",
    "final_budget = BUDGET - sdram_price\n",
    "\n",
    "print(\"Budget antes de L1: \" ,final_budget)\n",
    "\n",
    "i = 0\n",
    "while (calculate_price(pow(2,i),PRICE_PER_MBYTE_L1) < final_budget):\n",
    "    i += 1 \n",
    "i -=1\n",
    "\n",
    "print(\"Valor do i é: \" , i)\n",
    "\n"
   ]
  },
  {
   "cell_type": "markdown",
   "metadata": {},
   "source": [
    "b) Consider three different dimensions for the L1 data cache: L1_size $\\in$ {$ 2^{MAX}, 2^{MAX−1}, 2^{MAX−2} $}.\\\n",
    "For each of these dimensions, and assuming a direct mapping configuration, use the dineroIV\n",
    "simulator to evaluate the resulting average data miss-rate considering the following block sizes:\n",
    "- Block_size $\\in$ {$8, 16, 32, 64$}.\\\n",
    "Fill the following table with the obtained data:"
   ]
  },
  {
   "cell_type": "markdown",
   "metadata": {},
   "source": [
    "$$\n",
    "\\begin{matrix}\n",
    "& L1\\_size = 2^{10} & L1\\_size = 2^{9} & L1\\_size = 2^{8}\\\\\n",
    "Block size = 8\\ Bytes & 0.0305 & 0.1247 & 0.1960\\\\\n",
    "Block size = 16\\ Bytes & 0.0363 & 0.1184 & 0.1829\\\\\n",
    "Block size = 32\\ Bytes & 0.0770 & 0.1492 & 0.2288\\\\\n",
    "Block size = 64\\ Bytes & 0.1181 & 0.2021 & 0.3340\n",
    "\\end{matrix}\n",
    "$$"
   ]
  },
  {
   "cell_type": "markdown",
   "metadata": {},
   "source": [
    "c) For each L1 cache size, plot the variation of the miss-rate with the size of the block. "
   ]
  },
  {
   "cell_type": "markdown",
   "metadata": {},
   "source": [
    "![Graph L1 cache size miss rate with size of the block](./plot1.png#gh-dark-mode-only)"
   ]
  },
  {
   "cell_type": "markdown",
   "metadata": {},
   "source": [
    "d) By considering the obtained results, select two L1 cache configurations (dimension and block size)\n",
    "that offer the best trade-off between the cost of the device and the resulting average miss-rate.\\\n",
    "Label in the previous plot the two configurations chosen."
   ]
  },
  {
   "cell_type": "code",
   "execution_count": 30,
   "metadata": {},
   "outputs": [
    {
     "name": "stdout",
     "output_type": "stream",
     "text": [
      "Size = 2¹⁰\n",
      "0.0002978515625\n",
      "0.0003544921875\n",
      "0.000751953125\n",
      "0.0011533203125\n",
      "Size = 2⁹\n",
      "0.00060888671875\n",
      "0.0005781250000000001\n",
      "0.000728515625\n",
      "0.00098681640625\n",
      "Size = 2⁸\n",
      "0.000478515625\n",
      "0.00044653320312500004\n",
      "0.0005585937500000001\n",
      "0.0008154296875000001\n"
     ]
    }
   ],
   "source": [
    "def cost(size_in_bytes, price_per_Mbyte, miss_rate):\n",
    "    price_per_byte = price_per_Mbyte / pow(2,20)\n",
    "\n",
    "    return price_per_byte * size_in_bytes * miss_rate\n",
    "\n",
    "print(\"Size = 2¹⁰\")\n",
    "print(cost(pow(2,10), PRICE_PER_MBYTE_L1, 0.0305))\n",
    "print(cost(pow(2,10), PRICE_PER_MBYTE_L1, 0.0363))\n",
    "print(cost(pow(2,10), PRICE_PER_MBYTE_L1, 0.0770))\n",
    "print(cost(pow(2,10), PRICE_PER_MBYTE_L1, 0.1181))\n",
    "print(\"Size = 2⁹\")\n",
    "print(cost(pow(2,9), PRICE_PER_MBYTE_L1, 0.1247))\n",
    "print(cost(pow(2,9), PRICE_PER_MBYTE_L1, 0.1184))\n",
    "print(cost(pow(2,9), PRICE_PER_MBYTE_L1, 0.1492))\n",
    "print(cost(pow(2,9), PRICE_PER_MBYTE_L1, 0.2021))\n",
    "print(\"Size = 2⁸\")\n",
    "print(cost(pow(2,8), PRICE_PER_MBYTE_L1, 0.1960))\n",
    "print(cost(pow(2,8), PRICE_PER_MBYTE_L1, 0.1829))\n",
    "print(cost(pow(2,8), PRICE_PER_MBYTE_L1, 0.2288))\n",
    "print(cost(pow(2,8), PRICE_PER_MBYTE_L1, 0.3340))"
   ]
  },
  {
   "cell_type": "code",
   "execution_count": 31,
   "metadata": {},
   "outputs": [
    {
     "name": "stdout",
     "output_type": "stream",
     "text": [
      "0.0015478515625\n",
      "0.0016044921875\n"
     ]
    }
   ],
   "source": [
    "L1_CONFIG_1_COST = cost(pow(2,10), PRICE_PER_MBYTE_L1, 0.0305)\n",
    "L1_CONFIG_2_COST = cost(pow(2,10), PRICE_PER_MBYTE_L1, 0.0363)\n",
    "\n",
    "final_price_config_1 = L1_CONFIG_1_COST + calculate_price(SIZE_SDRAM,PRICE_PER_MBYTE_SDRAM)\n",
    "final_price_config_2 = L1_CONFIG_2_COST + calculate_price(SIZE_SDRAM,PRICE_PER_MBYTE_SDRAM)\n",
    "\n",
    "print(final_price_config_1)\n",
    "print(final_price_config_2)"
   ]
  },
  {
   "cell_type": "markdown",
   "metadata": {},
   "source": [
    "$$\n",
    "\\begin{matrix}\n",
    " & L1\\ config 1\\\\\n",
    "Cache\\ size & 2^{10}\\\\\n",
    "Block\\ size & 2^{3}\\\\\n",
    "Miss\\ rate & 0.0305\\\\\n",
    "Cost & 0.0015478515625\n",
    "\\end{matrix}\n",
    "$$\n",
    "\n",
    "$$\n",
    "\\begin{matrix}\n",
    " & L1\\ config 2\\\\\n",
    "Cache\\ size & 2^{10}\\\\\n",
    "Block\\ size & 2^{4}\\\\\n",
    "Miss\\ rate & 0.0363\\\\\n",
    "Cost & 0.0016044921875\n",
    "\\end{matrix}\n",
    "$$"
   ]
  },
  {
   "cell_type": "markdown",
   "metadata": {},
   "source": [
    "#### 2.3.3 Cache L1: set associativity"
   ]
  },
  {
   "cell_type": "markdown",
   "metadata": {},
   "source": [
    "a) For each of the two L1 cache setups previously selected, evaluate the compulsory, capacity, conflict and total miss-rates when the following configurations are considered:\n",
    "- set associativity of 1 (direct-mapped), 2, 4, 8.\n",
    "\n",
    "Fill the following table with the obtained data:"
   ]
  },
  {
   "cell_type": "markdown",
   "metadata": {},
   "source": [
    "$$\n",
    "\\begin{matrix}\n",
    " &  & L1\\ config\\ 1 &  & \\\\\n",
    "Miss\\ rate & 1-way & 2-way & 4-way & 8-way\\\\\n",
    "Compulsory & 0.0007747 &  0.00077112 & 0.00077193 & 0.00077652\\\\\n",
    "Capacity & 0.0171105 & 0.00174216 & 0.00190593 & 0.0019116\\\\\n",
    "Conflict & 0.0280173 & 0.03318315 & 0.00002214 & 0.00001188 \\\\\n",
    "Total & 0.0305 & 0.0357 & 0.0027 & 0.0027\n",
    "\\end{matrix}\n",
    "$$\n",
    "\n",
    "$$\n",
    "\\begin{matrix}\n",
    " &  & L1\\ config\\ 2 &  & \\\\\n",
    "Miss\\ rate & 1-way & 2-way & 4-way & 8-way\\\\\n",
    "Compulsory & 0.00038478 & 0.00038584 & 0.00039104 & 0.00038608 \\\\\n",
    "Capacity & 0.0109989 & 0.00119756 & 0.00120896 & 0.00121392  \\\\\n",
    "Conflict & 0.03481533 & 0.0348166  & 0.0000 & 0.0000\\\\\n",
    "Total & 0.0363 & 0.0364 & 0.0016  & 0.0016\n",
    "\\end{matrix}\n",
    "$$"
   ]
  },
  {
   "cell_type": "markdown",
   "metadata": {},
   "source": [
    "b) For each L1 cache setup, draw a plot with the variation of the obtained compulsory, capacity,\n",
    "conflict and total miss-rates for the considered set associativity ways."
   ]
  },
  {
   "cell_type": "markdown",
   "metadata": {},
   "source": [
    "c) Comment the results above"
   ]
  },
  {
   "cell_type": "markdown",
   "metadata": {},
   "source": [
    "d) Write the expression that provides the mean access time as a function of the L1 cache hit\n",
    "and miss\n",
    "rates, the L1 cache hit\n",
    "and miss\n",
    "access times, and the time penalty\n",
    "associated to each associativity level, as expressed in Table 1.\\\n",
    " Consider a non-blocking criticalword-first load policy, where the bus occupancy rate has a lower impact in the performance of the\n",
    "cache."
   ]
  },
  {
   "cell_type": "code",
   "execution_count": 32,
   "metadata": {},
   "outputs": [],
   "source": [
    "from math import log2\n",
    "\n",
    "\n",
    "def mean_acess_time (miss_rate, num_of_ways):\n",
    "\n",
    "    hit_time = 2 * (0.7 + 0.35 * log2(num_of_ways))\n",
    "\n",
    "    miss_penalty = 140\n",
    "\n",
    "    return hit_time + miss_rate * miss_penalty\n"
   ]
  },
  {
   "cell_type": "markdown",
   "metadata": {},
   "source": [
    "e) Evaluate the mean access time of each configuration, considering the obtained miss-rates and the\n",
    "time penalty associated to each associativity level.\\\n",
    "Evaluate the resulting cost function, as defined\n",
    "in Eq. 1 (including the frame memory).\\\n",
    "Fill the following table with the obtained data:"
   ]
  },
  {
   "cell_type": "code",
   "execution_count": 35,
   "metadata": {},
   "outputs": [
    {
     "name": "stdout",
     "output_type": "stream",
     "text": [
      "####### Access Time #######\n",
      "L1 config 1\n",
      "5.67\n",
      "7.098\n",
      "3.178\n",
      "3.8779999999999997\n",
      "L1 config 2\n",
      "6.481999999999999\n",
      "7.196\n",
      "3.024\n",
      "3.7239999999999998\n",
      "\n",
      "####### Price #######\n",
      "L1 price\n",
      "0.009765625\n",
      "L2 price\n",
      "0.009765625\n",
      "\n",
      "####### Cost Function #######\n",
      "L1 config 1\n",
      "0.05537109375\n",
      "0.06931640625\n",
      "0.03103515625\n",
      "0.037871093749999994\n",
      "L1 config 2\n",
      "0.06330078125\n",
      "0.0702734375\n",
      "0.029531250000000002\n",
      "0.036367187499999995\n"
     ]
    }
   ],
   "source": [
    "print(\"####### Access Time #######\")\n",
    "print(\"L1 config 1\")\n",
    "print(mean_acess_time(0.0305,1))\n",
    "print(mean_acess_time(0.0357,2))\n",
    "print(mean_acess_time(0.0027,4))\n",
    "print(mean_acess_time(0.0027,8))\n",
    "print(\"L1 config 2\")\n",
    "print(mean_acess_time(0.0363,1))\n",
    "print(mean_acess_time(0.0364,2))\n",
    "print(mean_acess_time(0.0016,4))\n",
    "print(mean_acess_time(0.0016,8))\n",
    "print(\"\\n####### Price #######\")\n",
    "print(\"Config 1 and 2 price\")\n",
    "print(calculate_price(pow(2,10), PRICE_PER_MBYTE_L1))\n",
    "print(\"\\n####### Cost Function #######\")\n",
    "print(\"L1 config 1\")\n",
    "print( mean_acess_time(0.0305,1) *calculate_price(pow(2,10), PRICE_PER_MBYTE_L1))\n",
    "print( mean_acess_time(0.0357,2) *calculate_price(pow(2,10), PRICE_PER_MBYTE_L1))\n",
    "print( mean_acess_time(0.0027,4) *calculate_price(pow(2,10), PRICE_PER_MBYTE_L1))\n",
    "print( mean_acess_time(0.0027,8) *calculate_price(pow(2,10), PRICE_PER_MBYTE_L1))\n",
    "print(\"L1 config 2\")\n",
    "print(mean_acess_time(0.0363,1)*calculate_price(pow(2,10), PRICE_PER_MBYTE_L1) )\n",
    "print(mean_acess_time(0.0364,2)*calculate_price(pow(2,10), PRICE_PER_MBYTE_L1) )\n",
    "print(mean_acess_time(0.0016,4)*calculate_price(pow(2,10), PRICE_PER_MBYTE_L1) )\n",
    "print(mean_acess_time(0.0016,8)*calculate_price(pow(2,10), PRICE_PER_MBYTE_L1) )\n",
    "\n"
   ]
  },
  {
   "cell_type": "markdown",
   "metadata": {},
   "source": [
    "$$\n",
    "\\begin{matrix}\n",
    " &  & L1\\ config\\ 1 &  & \\\\\n",
    " & 1-way & 2-way & 4-way & 8-way\\\\\n",
    "Miss\\ rate &   0.0305 & 0.0357 & 0.0027 & 0.0027 \\\\\n",
    "Acess\\ time & 5.67 & 7.098 & 3.178 & 3.8779999\\\\\n",
    "Price & & 0.009765625  & & \\\\\n",
    "Cost\\ function &  &  &  & \n",
    "\\end{matrix}\n",
    "$$\n",
    "$$\n",
    "\\begin{matrix}\n",
    " &  & L1\\ config\\ 2 &  & \\\\\n",
    " & 1-way & 2-way & 4-way & 8-way\\\\\n",
    "Miss\\ rate &  0.0363 & 0.0364 & 0.0016  & 0.0016 \\\\\n",
    "Acess\\ time & 6.481999 & 7.196  & 3.024 & 3.723999\\\\\n",
    "Price & & 0.009765625 & &  \\\\\n",
    "Cost\\ function &  &  &  & \n",
    "\\end{matrix}\n",
    "$$"
   ]
  },
  {
   "cell_type": "markdown",
   "metadata": {},
   "source": [
    "f) Draw conclusions:"
   ]
  },
  {
   "cell_type": "markdown",
   "metadata": {},
   "source": [
    "#### 2.3.4 Cache L1: write policy"
   ]
  },
  {
   "cell_type": "markdown",
   "metadata": {},
   "source": [
    "a) By analyzing the sequence of memory accesses generated by the motion estimation algorithm (see\n",
    "Fig. 3), select the best setup for the cache writing-policy: write-back versus write-through, writeallocate versus write-not-allocate.\\\n",
    "Justify. (Note that the number of writes is much smaller than\n",
    "the number of reads.)"
   ]
  },
  {
   "cell_type": "markdown",
   "metadata": {},
   "source": [
    "#### 2.3.5 Cache L1: final selection"
   ]
  },
  {
   "cell_type": "markdown",
   "metadata": {},
   "source": [
    "a) By considering the obtained results, select the L1 cache setup that offers the best compromise\n",
    "between the cost of the device and the resulting average access time."
   ]
  },
  {
   "cell_type": "markdown",
   "metadata": {},
   "source": [
    "$$\n",
    "\\begin{matrix}\n",
    " & L1\\ config\\ 1\\\\\n",
    "Cache\\ dimension & \\\\\n",
    "Block\\ size & \\\\\n",
    "Associativity & \\\\\n",
    "Write\\ policy & \\\\\n",
    "Miss\\ rate & \\\\\n",
    "Acess\\ time & \\\\\n",
    "Price & \\\\\n",
    "Cost\\ function & \n",
    "\\end{matrix}\n",
    "$$"
   ]
  },
  {
   "cell_type": "markdown",
   "metadata": {},
   "source": [
    "### 2.4 Cache L2"
   ]
  },
  {
   "cell_type": "markdown",
   "metadata": {},
   "source": [
    "#### 2.4.1 Cache L2: dimension"
   ]
  },
  {
   "cell_type": "markdown",
   "metadata": {},
   "source": [
    "a) Considering the maximum cost of the whole memory hierarchy, as well as the price of L1 cache\n",
    "and the 128 kByte frame memory, determine the maximum storage space of L2 cache (an integer\n",
    "power of 2), considering the characteristics of the available memory devices (see Table 1)."
   ]
  },
  {
   "cell_type": "markdown",
   "metadata": {},
   "source": [
    "b) For the obtained maximum storage space for L2 cache, adopting a direct mapping configuration,\n",
    "use dineroIV simulator to evaluate the resulting average data miss-rate considering the following\n",
    "block sizes: (1 × L1_block), (2 × L1_block), (4 × L1_block) and (8 × L1_block).\\\n",
    "Fill the following table with the obtained data:"
   ]
  },
  {
   "cell_type": "markdown",
   "metadata": {},
   "source": [
    "c) Plot the variation of the miss-rate with the size of the block. "
   ]
  },
  {
   "cell_type": "markdown",
   "metadata": {},
   "source": [
    "d) From the obtained results, select the block size that offers the best trade-off between the resulting\n",
    "average miss-rate and the time penalty associated with each data fetch from the primary memory.\\\n",
    "Justify."
   ]
  },
  {
   "cell_type": "markdown",
   "metadata": {},
   "source": [
    "#### 2.4.2 Cache L2"
   ]
  },
  {
   "cell_type": "markdown",
   "metadata": {},
   "source": [
    "a) Evaluate the compulsory, capacity, conflict and total miss-rates for the direct-mapped L2 data\n",
    "cache.\\\n",
    "Fill the following table with the obtained data:\n"
   ]
  },
  {
   "cell_type": "markdown",
   "metadata": {},
   "source": [
    "$$\n",
    "\\begin{matrix}\n",
    "& Miss Rate\\\\\n",
    "Compulsory &   \\\\\n",
    "Capacity   & \\\\\n",
    "Conflict   & \\\\\n",
    "Total      &\n",
    "\\end{matrix}\n",
    "$$"
   ]
  },
  {
   "cell_type": "markdown",
   "metadata": {},
   "source": [
    "b) Plot the variation of the obtained compulsory, capacity, conflict and total miss-rate."
   ]
  },
  {
   "cell_type": "markdown",
   "metadata": {},
   "source": [
    "c) Write the expression which provides the mean access time as a function of the L1 and L2 cache\n",
    "hit and miss  rates, L1 and L2 cache hit and miss  access\n",
    "times, and the time penalty, as expressed in table 1."
   ]
  },
  {
   "cell_type": "markdown",
   "metadata": {},
   "source": [
    "d) Evaluate the mean access time provided by the chosen configuration, considering the obtained\n",
    "miss-rate and the time penalty. Evaluate the resulting cost function, as defined in Eq. 1.\\\n",
    "Fill the following table with the obtained data:"
   ]
  },
  {
   "cell_type": "markdown",
   "metadata": {},
   "source": [
    "$$\n",
    "\\begin{matrix}\n",
    " Miss Rate &\\\\\n",
    "Acess time &   \\\\\n",
    "Price   & \\\\\n",
    "Cost function   & \\\\\n",
    "\\end{matrix}\n",
    "$$"
   ]
  },
  {
   "cell_type": "markdown",
   "metadata": {},
   "source": [
    "### 2.5 Memory Hierarchy Configuration"
   ]
  },
  {
   "cell_type": "markdown",
   "metadata": {},
   "source": [
    "a) By considering the obtained results, fill the following table with the selected characteristics for L1\n",
    "and L2 cache memories, as well as the corresponding performance results of the overall memory\n",
    "hierarchy."
   ]
  },
  {
   "cell_type": "markdown",
   "metadata": {},
   "source": [
    "$$\n",
    "\\begin{matrix}\n",
    " & Cache\\ L1 & Cache\\ L2 & Frame\\ Memory\\\\\n",
    "Dimension\\ ( Bytes) &  &  & 128\\ *\\ 1024\\\\\n",
    "Block\\ size\\ ( Bytes) &  &  & -\\\\\n",
    "Associativity &  &  & -\\\\\n",
    "Write\\ policy &  &  & -\\\\\n",
    "Local\\ Miss\\ rate\\ ( \\%) &  &  & -\\\\\n",
    "Price\\ ( € ) &  &  & \\\\\n",
    "Global\\ Miss\\ rate\\ ( \\%) &  &  & \\\\\n",
    "Global\\ access\\ rate\\ ( ns) &  &  & \\\\\n",
    "Total\\ Price\\ ( € ) &  &  & \\\\\n",
    "Cost\\ function\\ ( € \\ *\\ ns) &  &  & \n",
    "\\end{matrix}\n",
    "$$"
   ]
  }
 ],
 "metadata": {
  "kernelspec": {
   "display_name": "Python 3.10.7 64-bit",
   "language": "python",
   "name": "python3"
  },
  "language_info": {
   "codemirror_mode": {
    "name": "ipython",
    "version": 3
   },
   "file_extension": ".py",
   "mimetype": "text/x-python",
   "name": "python",
   "nbconvert_exporter": "python",
   "pygments_lexer": "ipython3",
   "version": "3.10.7"
  },
  "orig_nbformat": 4,
  "vscode": {
   "interpreter": {
    "hash": "e7370f93d1d0cde622a1f8e1c04877d8463912d04d973331ad4851f04de6915a"
   }
  }
 },
 "nbformat": 4,
 "nbformat_minor": 2
}
