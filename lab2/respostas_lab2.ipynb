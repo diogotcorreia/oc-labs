{
 "cells": [
  {
   "cell_type": "markdown",
   "metadata": {},
   "source": [
    "# 2 - Exercise"
   ]
  },
  {
   "cell_type": "markdown",
   "metadata": {},
   "source": [
    "### 1. What is the cache capacity of the computer you used (please write the workstation name)?"
   ]
  },
  {
   "cell_type": "markdown",
   "metadata": {},
   "source": [
    "> TODO\n",
    "\n",
    "| **Array Size**     |   |   |   |   |   |   |   |\n",
    "|--------------------|---|---|---|---|---|---|---|\n",
    "| **t2-t1**          |   |   |   |   |   |   |   |\n",
    "| **# accesses a[i]**    |   |   |   |   |   |    |\n",
    "| **# mean access time** |   |   |   |   |   |   |"
   ]
  },
  {
   "cell_type": "markdown",
   "metadata": {},
   "source": [
    "### 2. What is the cache capacity of the computer?"
   ]
  },
  {
   "cell_type": "markdown",
   "metadata": {},
   "source": [
    "> TODO"
   ]
  },
  {
   "cell_type": "markdown",
   "metadata": {},
   "source": [
    "### 3. What is the size of each cache block?"
   ]
  },
  {
   "cell_type": "markdown",
   "metadata": {},
   "source": [
    "> TODO"
   ]
  },
  {
   "cell_type": "markdown",
   "metadata": {},
   "source": [
    "### 4. What is the L1 cache miss penalty time?"
   ]
  },
  {
   "cell_type": "markdown",
   "metadata": {},
   "source": [
    "> TODO"
   ]
  },
  {
   "cell_type": "markdown",
   "metadata": {},
   "source": [
    "# 3 - Procedure"
   ]
  },
  {
   "cell_type": "markdown",
   "metadata": {},
   "source": [
    "### 3.1 Modeling Computer Caches\n",
    "In the first part of this assignment, the goal is to model the characteristics of the L1 data cache and L2\n",
    "cache of the targeted computer platform. Next, we provide instructions for performing this analysis.\n",
    "Use the forms at the end to answer the questions below."
   ]
  },
  {
   "cell_type": "markdown",
   "metadata": {},
   "source": [
    "#### 3.1.1 Modeling the L1 Data Cache"
   ]
  },
  {
   "cell_type": "markdown",
   "metadata": {},
   "source": [
    "a) Change to directory cm1/, in the package lab2_kit.zip, and analyze de code of the program\n",
    "cm1.c. Identify its source code with the program described above.\n",
    "\n",
    "What are the processor events that will be analyzed during its execution? Explain their meaning."
   ]
  },
  {
   "cell_type": "markdown",
   "metadata": {},
   "source": [
    "> TODO"
   ]
  },
  {
   "cell_type": "markdown",
   "metadata": {},
   "source": [
    "b) Compile the program cm1.c using the provided Makefile and execute cm1. \n",
    "\n",
    "Plot the variation of\n",
    "the average number of misses (Avg Misses) with the stride size, for each considered dimension\n",
    "of the L1 data cache (8kB, 16kB, 32kB and 64kB).\n",
    "\n",
    "Note that, you may fill these tables and graphics (as well as the following ones in this report)\n",
    "on your computer and submit the printed version.\n",
    "\n",
    "NOTE: A fast sketch of these plots can be drawn in your computer by running the following commands:\n",
    "./cm1 > cm1.out\n",
    "./cm1_proc.sh\n",
    "\n",
    "NOTE 2: You can draw these tables and plots on your computer, print, and attach to the report. You do not have to fill them by hand on the printed report.\n",
    "\n",
    "NOTE 3: You may need to mark the script as executable before being able to run it."
   ]
  },
  {
   "cell_type": "markdown",
   "metadata": {},
   "source": [
    "> TODO\n",
    "\n",
    "|            |     8kBytes     |                    |\n",
    "|------------|-----------------|--------------------|\n",
    "| Strides    | Average Misses  | Average Cycle Time |\n",
    "|    1       |                 |                    |\n",
    "|    2       |                 |                    |\n",
    "|    4       |                 |                    |\n",
    "|    8       |                 |                    |\n",
    "|    16      |                 |                    |\n",
    "|    32      |                 |                    |\n",
    "|    64      |                 |                    |\n",
    "|    128     |                 |                    |\n",
    "|    256     |                 |                    |\n",
    "|    512     |                 |                    |\n",
    "|    1024    |                 |                    |\n",
    "|    2048    |                 |                    |\n",
    "|    4096    |                 |                    |"
   ]
  },
  {
   "cell_type": "markdown",
   "metadata": {},
   "source": [
    "|            |     16kBytes     |                    |\n",
    "|------------|-----------------|--------------------|\n",
    "| Strides    | Average Misses  | Average Cycle Time |\n",
    "|    1       |                 |                    |\n",
    "|    2       |                 |                    |\n",
    "|    4       |                 |                    |\n",
    "|    8       |                 |                    |\n",
    "|    16      |                 |                    |\n",
    "|    32      |                 |                    |\n",
    "|    64      |                 |                    |\n",
    "|    128     |                 |                    |\n",
    "|    256     |                 |                    |\n",
    "|    512     |                 |                    |\n",
    "|    1024    |                 |                    |\n",
    "|    2048    |                 |                    |\n",
    "|    4096    |                 |                    |"
   ]
  },
  {
   "cell_type": "markdown",
   "metadata": {},
   "source": [
    "|            |     32kBytes     |                    |\n",
    "|------------|-----------------|--------------------|\n",
    "| Strides    | Average Misses  | Average Cycle Time |\n",
    "|    1       |                 |                    |\n",
    "|    2       |                 |                    |\n",
    "|    4       |                 |                    |\n",
    "|    8       |                 |                    |\n",
    "|    16      |                 |                    |\n",
    "|    32      |                 |                    |\n",
    "|    64      |                 |                    |\n",
    "|    128     |                 |                    |\n",
    "|    256     |                 |                    |\n",
    "|    512     |                 |                    |\n",
    "|    1024    |                 |                    |\n",
    "|    2048    |                 |                    |\n",
    "|    4096    |                 |                    |"
   ]
  },
  {
   "cell_type": "markdown",
   "metadata": {},
   "source": [
    "|            |     64kBytes     |                    |\n",
    "|------------|-----------------|--------------------|\n",
    "| Strides    | Average Misses  | Average Cycle Time |\n",
    "|    1       |                 |                    |\n",
    "|    2       |                 |                    |\n",
    "|    4       |                 |                    |\n",
    "|    8       |                 |                    |\n",
    "|    16      |                 |                    |\n",
    "|    32      |                 |                    |\n",
    "|    64      |                 |                    |\n",
    "|    128     |                 |                    |\n",
    "|    256     |                 |                    |\n",
    "|    512     |                 |                    |\n",
    "|    1024    |                 |                    |\n",
    "|    2048    |                 |                    |\n",
    "|    4096    |                 |                    |"
   ]
  },
  {
   "cell_type": "markdown",
   "metadata": {},
   "source": [
    "c) By analyzing the obtained results:"
   ]
  },
  {
   "cell_type": "markdown",
   "metadata": {},
   "source": [
    "• Determine the **size** of the L1 data cache. Justify your answer."
   ]
  },
  {
   "cell_type": "markdown",
   "metadata": {},
   "source": [
    "> TODO"
   ]
  },
  {
   "cell_type": "markdown",
   "metadata": {},
   "source": [
    "• Determine the **block size** adopted in this cache. Justify your answer."
   ]
  },
  {
   "cell_type": "markdown",
   "metadata": {},
   "source": [
    "> TODO"
   ]
  },
  {
   "cell_type": "markdown",
   "metadata": {},
   "source": [
    "• Characterize the **associativity set size** adopted in this cache. Justify your answer."
   ]
  },
  {
   "cell_type": "markdown",
   "metadata": {},
   "source": [
    "> TODO"
   ]
  },
  {
   "cell_type": "markdown",
   "metadata": {},
   "source": [
    "#### 3.1.2 Modeling the L2 Cache\n",
    "In this part of the assignment, the goal is to experimentally model the characteristics of the L2 cache of the targeted computer platform. To analyze the computer’s L2 cache, we will use the same methodology that was introduced in the previous section to model the L1 data cache."
   ]
  },
  {
   "cell_type": "markdown",
   "metadata": {},
   "source": [
    "a) Modify the program cm1.c in order to analyze the characteristics of the L2 cache. (Hint: use the\n",
    "event PAPI_L2_DCM.)\n",
    "\n",
    "_Describe and justify the changes introduced in this program._"
   ]
  },
  {
   "cell_type": "markdown",
   "metadata": {},
   "source": [
    "> TODO"
   ]
  },
  {
   "cell_type": "markdown",
   "metadata": {},
   "source": [
    "b) Compile the program cm1.c, execute cm1, and plot the variation of the average number of misses\n",
    "(Avg Misses) with the stride size, for each considered dimension of the L2 cache."
   ]
  },
  {
   "cell_type": "markdown",
   "metadata": {},
   "source": [
    "> TODO"
   ]
  },
  {
   "cell_type": "markdown",
   "metadata": {},
   "source": [
    "c) By analyzing the obtained results:"
   ]
  },
  {
   "cell_type": "markdown",
   "metadata": {},
   "source": [
    "• Determine the size of the L2 cache. Justify your answer."
   ]
  },
  {
   "cell_type": "markdown",
   "metadata": {},
   "source": [
    "> TODO"
   ]
  },
  {
   "cell_type": "markdown",
   "metadata": {},
   "source": [
    "• Determine the block size adopted in this cache. Justify your answer."
   ]
  },
  {
   "cell_type": "markdown",
   "metadata": {},
   "source": [
    "> TODO"
   ]
  },
  {
   "cell_type": "markdown",
   "metadata": {},
   "source": [
    "• Characterize the associativity set size adopted in this cache. Justify your answer."
   ]
  },
  {
   "cell_type": "markdown",
   "metadata": {},
   "source": [
    "> TODO"
   ]
  },
  {
   "cell_type": "markdown",
   "metadata": {},
   "source": [
    "### 3.2 Profiling and Optimizing Data Cache Accesses"
   ]
  },
  {
   "cell_type": "markdown",
   "metadata": {},
   "source": [
    "#### 3.2.1 Straightforward implementation"
   ]
  },
  {
   "cell_type": "markdown",
   "metadata": {},
   "source": [
    "a) Change to directory mm1/ and analyze de code of the program mm1.c. Identify its source code\n",
    "with the program described above.\n",
    "\n",
    "What is the total amount of memory that is required to accommodate each of these matrices?"
   ]
  },
  {
   "cell_type": "markdown",
   "metadata": {},
   "source": [
    "> TODO"
   ]
  },
  {
   "cell_type": "markdown",
   "metadata": {},
   "source": [
    "b) Compile the source file mm1.c using the provided Makefile and execute it. \n",
    "\n",
    "Fill the table with the obtained data."
   ]
  },
  {
   "cell_type": "markdown",
   "metadata": {},
   "source": [
    "> TODO\n",
    "\n",
    "|                                                       |     **Data**    |\n",
    "|-------------------------------------------------------|-----------------|\n",
    "| **Total number of L1 data cache misses**              |    $\\times 10^6$|\n",
    "|**Total number of load / store instructions completed**|    $\\times 10^6$|\n",
    "| **Total number of clock cycles**                      |    $\\times 10^6$|\n",
    "| **Elapsed time**                                      |          seconds|"
   ]
  },
  {
   "cell_type": "markdown",
   "metadata": {},
   "source": [
    "c) Evaluate the resulting L1 data cache Hit-Rate."
   ]
  },
  {
   "cell_type": "markdown",
   "metadata": {},
   "source": [
    "> TODO"
   ]
  },
  {
   "cell_type": "markdown",
   "metadata": {},
   "source": [
    "### 3.2.2 First Optimization: Matrix transpose before multiplication [2]"
   ]
  },
  {
   "cell_type": "markdown",
   "metadata": {},
   "source": [
    "a) Change to directory mm2/ and analyze the code of the program mm2.c. Identify its source code\n",
    "with the program described above. Compile this program using the provided Makefile and execute it.\n",
    "\n",
    "Fill the table with the obtained data"
   ]
  },
  {
   "cell_type": "markdown",
   "metadata": {},
   "source": [
    "> TODO\n",
    "\n",
    "|                                                       |     **Data**    |\n",
    "|-------------------------------------------------------|-----------------|\n",
    "| **Total number of L1 data cache misses**              |    $\\times 10^6$|\n",
    "|**Total number of load / store instructions completed**|    $\\times 10^6$|\n",
    "| **Total number of clock cycles**                      |    $\\times 10^6$|\n",
    "| **Elapsed time**                                      |          seconds|"
   ]
  },
  {
   "cell_type": "markdown",
   "metadata": {},
   "source": [
    "b) Evaluate the resulting L1 data cache Hit-Rate."
   ]
  },
  {
   "cell_type": "markdown",
   "metadata": {},
   "source": [
    "> TODO"
   ]
  },
  {
   "cell_type": "markdown",
   "metadata": {},
   "source": [
    "c) Change the code in the program mm2.c in order to include the matrix transposition in the execution\n",
    "time. Compile this program using the provided Makefile and execute it.\n",
    "\n",
    "Fill the table with the obtained data.\n",
    "\n",
    "Comment on the obtained results when including the matrix transposition in the execution time."
   ]
  },
  {
   "cell_type": "markdown",
   "metadata": {},
   "source": [
    "> TODO\n",
    "\n",
    "|                                                       |     **Data**    |\n",
    "|-------------------------------------------------------|-----------------|\n",
    "| **Total number of L1 data cache misses**              |    $\\times 10^6$|\n",
    "|**Total number of load / store instructions completed**|    $\\times 10^6$|\n",
    "| **Total number of clock cycles**                      |    $\\times 10^6$|\n",
    "| **Elapsed time**                                      |          seconds|"
   ]
  },
  {
   "cell_type": "markdown",
   "metadata": {},
   "source": [
    "d) Compare the obtained results with those that were obtained for the straightforward implementation,\n",
    "by calculating the difference of the resulting hit-rates (∆HitRate) and the obtained speedups."
   ]
  },
  {
   "cell_type": "markdown",
   "metadata": {},
   "source": [
    "> TODO"
   ]
  },
  {
   "cell_type": "markdown",
   "metadata": {},
   "source": [
    "### 3.2.3 Second Optimization: Blocked (tiled) matrix multiply [2"
   ]
  },
  {
   "cell_type": "markdown",
   "metadata": {},
   "source": [
    "a) Change to directory mm3/ and analyze the code of the program mm3.c. Identify its source code\n",
    "with the program described above.\n",
    "\n",
    "Change the program source code in order to comply the algorithm parameterization (sub-matrix\n",
    "line size) with the block size (CLS) that was determined in Section 3.1.\n",
    "\n",
    "How many matrix elements can be accommodated in each cache line?"
   ]
  },
  {
   "cell_type": "markdown",
   "metadata": {},
   "source": [
    "> TODO"
   ]
  },
  {
   "cell_type": "markdown",
   "metadata": {},
   "source": [
    "b) Compile this program using the provided Makefile and execute it. \n",
    "\n",
    "Fill the table with the obtained data"
   ]
  },
  {
   "cell_type": "markdown",
   "metadata": {},
   "source": [
    "> TODO\n",
    "\n",
    "|                                                       |     **Data**    |\n",
    "|-------------------------------------------------------|-----------------|\n",
    "| **Total number of L1 data cache misses**              |    $\\times 10^6$|\n",
    "|**Total number of load / store instructions completed**|    $\\times 10^6$|\n",
    "| **Total number of clock cycles**                      |    $\\times 10^6$|\n",
    "| **Elapsed time**                                      |          seconds|"
   ]
  },
  {
   "cell_type": "markdown",
   "metadata": {},
   "source": [
    "c) Evaluate the resulting L1 data cache Hit-Rate."
   ]
  },
  {
   "cell_type": "markdown",
   "metadata": {},
   "source": [
    "> TODO"
   ]
  },
  {
   "cell_type": "markdown",
   "metadata": {},
   "source": [
    "d) Compare the obtained results with those that were obtained for the straightforward implementation,\n",
    "by calculating the difference of the resulting hit-rates (∆HitRate) and the obtained speedup."
   ]
  },
  {
   "cell_type": "markdown",
   "metadata": {},
   "source": [
    "> TODO"
   ]
  },
  {
   "cell_type": "markdown",
   "metadata": {},
   "source": [
    "e) Compare the obtained results with those that were obtained for the matrix transpose implementation by calculating the difference of the resulting hit-rates (∆HitRate) and the obtained speedup.\n",
    "\n",
    "If the obtained speedup is positive, but the difference of the resulting hit-rates is negative, how\n",
    "do you explain the performance improvement? \n",
    "\n",
    "(Hint: study the hit-rates of the L2 cache for both\n",
    "implementations; You may use the following PAPI events PAPI_L2_DCH (or PAPI_L2_DCM)\n",
    "and PAPI_L2_DCA. Run papi_avail to check for available events and understand their meaning.)"
   ]
  },
  {
   "cell_type": "markdown",
   "metadata": {},
   "source": [
    "> TODO"
   ]
  }
 ],
 "metadata": {},
 "nbformat": 4,
 "nbformat_minor": 2
}
