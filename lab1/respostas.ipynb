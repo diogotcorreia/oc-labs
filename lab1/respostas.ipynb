{
 "cells": [
  {
   "cell_type": "markdown",
   "metadata": {},
   "source": [
    "# Memory Hierarchy"
   ]
  },
  {
   "cell_type": "markdown",
   "metadata": {},
   "source": [
    "## 2 Procedure"
   ]
  },
  {
   "cell_type": "markdown",
   "metadata": {},
   "source": [
    "### 2.1 Understanding the Program\n",
    "Without delving into the details of the signal processing application, analyze the flow of the C program.\n",
    "Observe the data access patterns and identify the critical sequence of accesses which may have a larger\n",
    "impact on the performance of the system."
   ]
  },
  {
   "cell_type": "markdown",
   "metadata": {},
   "source": [
    "```\n",
    "R: Acessos feitos no processamento dos Macroblocks (L241 a L281).\n",
    "```"
   ]
  },
  {
   "cell_type": "markdown",
   "metadata": {},
   "source": [
    "### 2.3 Cache L1"
   ]
  },
  {
   "cell_type": "markdown",
   "metadata": {},
   "source": [
    "#### 2.3.1 Theory of Cache"
   ]
  },
  {
   "cell_type": "markdown",
   "metadata": {},
   "source": [
    "1. Explain the different types of cache misses: compulsory, capacity, and conflict\n",
    "\n"
   ]
  },
  {
   "cell_type": "markdown",
   "metadata": {},
   "source": [
    "```\n",
    "Compulsory: Cache misses inevitáveis por conteúdos que nunca foram carregados ao iniciar uma dada execução pela primeira vez (cold start).\n",
    "Capacity: Ocorrem quando um dado nível de cache não tem capacidade para armazenar toda a informação que uma dada execução necessita, sendo necessário substituir blocos.\n",
    "Conflict: Dão-se em caches de mapeamento direto ou set-associative quando uma dada execução pretende guardar um bloco num endereço onde já reside outro bloco, sendo necessário substituí-lo.\n",
    "\n",
    "```"
   ]
  },
  {
   "cell_type": "markdown",
   "metadata": {},
   "source": [
    "2. Explain the different types of cache writing-policies.\n"
   ]
  },
  {
   "cell_type": "markdown",
   "metadata": {},
   "source": [
    "```\n",
    "Há dois tipos de cache writing-policies:\n",
    "Write-through: As escritas são imediatamente replicadas em memória. Por este motivo, as escritas são mais lentas.\n",
    "Write-back: As escritas são guardadas em cache. Apenas são replicadas em memória quando é necessário libertar o respetivo bloco da cache.\n",
    "```"
   ]
  },
  {
   "cell_type": "markdown",
   "metadata": {},
   "source": [
    "### 2.3.2 Cache L1: dimension and block size"
   ]
  },
  {
   "cell_type": "markdown",
   "metadata": {},
   "source": [
    "a) Consider a memory hierarchy composed of a single cache memory (L1), which interconnects the\n",
    "SDRAM frame memory and the CPU.\\\n",
    "Considering the characteristics of the available memory devices (see Table 1), and the maximum total cost of the memory hierarchy, determine the maximum\n",
    "storage space of cache L1.\n",
    "- NOTES:\n",
    "    - the size of any of the memory modules (frame buffer, any cache) must be an integer power of 2:\n",
    "        - L1_size = $2^{MAX}$;\n",
    "    - do not forget to consider the cost of the 128 kByte frame memory."
   ]
  },
  {
   "cell_type": "code",
   "execution_count": 1,
   "metadata": {},
   "outputs": [
    {
     "name": "stdout",
     "output_type": "stream",
     "text": [
      "SDRAM price: 0.00125€\n",
      "Budget antes de L1: 0.01875€\n",
      "Valor de MAX é: 10\n",
      "Ou seja, L1_size = 1024.0B\n",
      "Fun fact: Sobra 0.008984375€ de budget, ou seja, o preço total é 0.011015625000000001€\n"
     ]
    }
   ],
   "source": [
    "from math import pow\n",
    "\n",
    "BUDGET = 0.02\n",
    "PRICE_PER_MBYTE_L1 = 10\n",
    "PRICE_PER_MBYTE_SDRAM = 0.01\n",
    "SIZE_SDRAM = pow(2, 17)\n",
    "\n",
    "def calculate_price(size_in_bytes, price_per_Mbyte):\n",
    "    price_per_byte = price_per_Mbyte / pow(2,20)\n",
    "\n",
    "    return price_per_byte * size_in_bytes\n",
    "\n",
    "\n",
    "SDRAM_PRICE = calculate_price(SIZE_SDRAM, PRICE_PER_MBYTE_SDRAM)\n",
    "\n",
    "print(f\"SDRAM price: {SDRAM_PRICE}€\")\n",
    "\n",
    "final_budget = BUDGET - SDRAM_PRICE\n",
    "\n",
    "print(f\"Budget antes de L1: {final_budget}€\")\n",
    "\n",
    "i = 0\n",
    "while (calculate_price(pow(2, i), PRICE_PER_MBYTE_L1) < final_budget):\n",
    "    i += 1\n",
    "i -=1\n",
    "\n",
    "print(f\"Valor de MAX é: {i}\")\n",
    "print(f\"Ou seja, L1_size = {pow(2, i)}B\")\n",
    "\n",
    "remaining_budget = final_budget - calculate_price(pow(2, i), PRICE_PER_MBYTE_L1)\n",
    "\n",
    "print(f\"Fun fact: Sobra {remaining_budget}€ de budget, ou seja, o preço total é {BUDGET - remaining_budget}€\")"
   ]
  },
  {
   "cell_type": "markdown",
   "metadata": {},
   "source": [
    "b) Consider three different dimensions for the L1 data cache: L1_size $\\in$ {$ 2^{MAX}, 2^{MAX−1}, 2^{MAX−2} $}.\\\n",
    "For each of these dimensions, and assuming a direct mapping configuration, use the dineroIV\n",
    "simulator to evaluate the resulting average data miss-rate considering the following block sizes:\n",
    "- Block_size $\\in$ {$8, 16, 32, 64$}.\\\n",
    "Fill the following table with the obtained data:"
   ]
  },
  {
   "cell_type": "markdown",
   "metadata": {},
   "source": [
    "$$\n",
    "\\begin{matrix}\n",
    "& L1\\_size = 2^{10} & L1\\_size = 2^{9} & L1\\_size = 2^{8}\\\\\n",
    "Block size = 8\\ Bytes & 0.0305 & 0.1247 & 0.1960\\\\\n",
    "Block size = 16\\ Bytes & 0.0363 & 0.1184 & 0.1829\\\\\n",
    "Block size = 32\\ Bytes & 0.0770 & 0.1492 & 0.2288\\\\\n",
    "Block size = 64\\ Bytes & 0.1181 & 0.2021 & 0.3340\n",
    "\\end{matrix}\n",
    "$$"
   ]
  },
  {
   "cell_type": "markdown",
   "metadata": {},
   "source": [
    "c) For each L1 cache size, plot the variation of the miss-rate with the size of the block. "
   ]
  },
  {
   "cell_type": "markdown",
   "metadata": {},
   "source": [
    "![Graph L1 cache size miss rate with size of the block](./plot1.png#gh-dark-mode-only)"
   ]
  },
  {
   "cell_type": "markdown",
   "metadata": {},
   "source": [
    "d) By considering the obtained results, select two L1 cache configurations (dimension and block size)\n",
    "that offer the best trade-off between the cost of the device and the resulting average miss-rate.\\\n",
    "Label in the previous plot the two configurations chosen."
   ]
  },
  {
   "cell_type": "code",
   "execution_count": 2,
   "metadata": {},
   "outputs": [
    {
     "name": "stdout",
     "output_type": "stream",
     "text": [
      "Size = 2¹⁰\n",
      "0.0015478515625\n",
      "0.0016044921875\n",
      "0.002001953125\n",
      "0.0024033203125000003\n",
      "Size = 2⁹\n",
      "0.0018588867187500002\n",
      "0.001828125\n",
      "0.001978515625\n",
      "0.0022368164062499998\n",
      "Size = 2⁸\n",
      "0.001728515625\n",
      "0.001696533203125\n",
      "0.00180859375\n",
      "0.0020654296875\n"
     ]
    }
   ],
   "source": [
    "print(\"Size = 2¹⁰\")\n",
    "print(calculate_price(pow(2,10), PRICE_PER_MBYTE_L1) * 0.0305 + SDRAM_PRICE)\n",
    "print(calculate_price(pow(2,10), PRICE_PER_MBYTE_L1) * 0.0363 + SDRAM_PRICE)\n",
    "print(calculate_price(pow(2,10), PRICE_PER_MBYTE_L1) * 0.0770 + SDRAM_PRICE)\n",
    "print(calculate_price(pow(2,10), PRICE_PER_MBYTE_L1) * 0.1181 + SDRAM_PRICE)\n",
    "print(\"Size = 2⁹\")\n",
    "print(calculate_price(pow(2,9), PRICE_PER_MBYTE_L1) * 0.1247 + SDRAM_PRICE)\n",
    "print(calculate_price(pow(2,9), PRICE_PER_MBYTE_L1) * 0.1184 + SDRAM_PRICE)\n",
    "print(calculate_price(pow(2,9), PRICE_PER_MBYTE_L1) * 0.1492 + SDRAM_PRICE)\n",
    "print(calculate_price(pow(2,9), PRICE_PER_MBYTE_L1) * 0.2021 + SDRAM_PRICE)\n",
    "print(\"Size = 2⁸\")\n",
    "print(calculate_price(pow(2,8), PRICE_PER_MBYTE_L1) * 0.1960 + SDRAM_PRICE)\n",
    "print(calculate_price(pow(2,8), PRICE_PER_MBYTE_L1) * 0.1829 + SDRAM_PRICE)\n",
    "print(calculate_price(pow(2,8), PRICE_PER_MBYTE_L1) * 0.2288 + SDRAM_PRICE)\n",
    "print(calculate_price(pow(2,8), PRICE_PER_MBYTE_L1) * 0.3340 + SDRAM_PRICE)"
   ]
  },
  {
   "cell_type": "code",
   "execution_count": 3,
   "metadata": {},
   "outputs": [
    {
     "name": "stdout",
     "output_type": "stream",
     "text": [
      "0.0015478515625\n",
      "0.0016044921875\n"
     ]
    }
   ],
   "source": [
    "L1_CONFIG_1_COST = calculate_price(pow(2,10), PRICE_PER_MBYTE_L1) * 0.0305\n",
    "L1_CONFIG_2_COST = calculate_price(pow(2,10), PRICE_PER_MBYTE_L1) * 0.0363\n",
    "\n",
    "price_miss_rate_config_1 = L1_CONFIG_1_COST + SDRAM_PRICE # Não concordo que a SDRAM_PRICE seja incluída\n",
    "price_miss_rate_config_2 = L1_CONFIG_2_COST + SDRAM_PRICE # Não concordo que a SDRAM_PRICE seja incluída\n",
    "\n",
    "print(price_miss_rate_config_1)\n",
    "print(price_miss_rate_config_2)"
   ]
  },
  {
   "cell_type": "markdown",
   "metadata": {},
   "source": [
    "$$\n",
    "\\begin{matrix}\n",
    " & L1\\ config \\ 1\\\\\n",
    "Cache\\ size & 2^{10}\\\\\n",
    "Block\\ size & 2^{3}\\\\\n",
    "Miss\\ rate & 0.0305\\\\\n",
    "Cost & 0.0015478515625\n",
    "\\end{matrix}\n",
    "$$\n",
    "\n",
    "$$\n",
    "\\begin{matrix}\n",
    " & L1\\ config \\ 2\\\\\n",
    "Cache\\ size & 2^{10}\\\\\n",
    "Block\\ size & 2^{4}\\\\\n",
    "Miss\\ rate & 0.0363\\\\\n",
    "Cost & 0.0016044921875\n",
    "\\end{matrix}\n",
    "$$"
   ]
  },
  {
   "cell_type": "markdown",
   "metadata": {},
   "source": [
    "#### 2.3.3 Cache L1: set associativity"
   ]
  },
  {
   "cell_type": "markdown",
   "metadata": {},
   "source": [
    "a) For each of the two L1 cache setups previously selected, evaluate the compulsory, capacity, conflict and total miss-rates when the following configurations are considered:\n",
    "- set associativity of 1 (direct-mapped), 2, 4, 8.\n",
    "\n",
    "Fill the following table with the obtained data:"
   ]
  },
  {
   "cell_type": "code",
   "execution_count": 4,
   "metadata": {},
   "outputs": [
    {
     "name": "stdout",
     "output_type": "stream",
     "text": [
      "L1 Config 1\n",
      " Miss Rate |  1-way  |  2-way  |  4-way  |  8-way\n",
      "--------------------------------------------------\n",
      "Compulsory | 0.00077 | 0.00077 | 0.00077 | 0.00077\n",
      "  Capacity | 0.00171 | 0.00174 | 0.00191 | 0.00190\n",
      "  Conflict | 0.02798 | 0.03317 | 0.00002 | 0.00001\n",
      "     Total | 0.03045 | 0.03568 | 0.00270 | 0.00269\n",
      "\n",
      "L1 Config 2\n",
      " Miss Rate |  1-way  |  2-way  |  4-way  |  8-way\n",
      "--------------------------------------------------\n",
      "Compulsory | 0.00039 | 0.00039 | 0.00039 | 0.00039\n",
      "  Capacity | 0.00110 | 0.00120 | 0.00119 | 0.00121\n",
      "  Conflict | 0.03484 | 0.03481 | 0.00000 | 0.00000\n",
      "     Total | 0.03632 | 0.03639 | 0.00158 | 0.00160\n"
     ]
    }
   ],
   "source": [
    "from functools import reduce\n",
    "import operator\n",
    "\n",
    "# data [total compulsory, total capacity, total conflict]\n",
    "total_fetches = 12304896\n",
    "l1_c1_n_ways_data = [\n",
    "  [9504, 21010, 344230], # 1-way\n",
    "  [9504, 21436, 408141], # 2-way\n",
    "  [9504, 23465, 272], # 4-way\n",
    "  [9504, 23401, 145], # 8-way\n",
    "]\n",
    "l1_c2_n_ways_data = [\n",
    "  [4752, 13540, 428645], # 1-way\n",
    "  [4752, 14715, 428356], # 2-way\n",
    "  [4752, 14695, 0], # 4-way\n",
    "  [4752, 14939, 0], # 8-way\n",
    "]\n",
    "\n",
    "# obtained fraction to miss rate, as x is to 1\n",
    "def adjust_fraction(obtained, miss_rate):\n",
    "  return obtained * miss_rate\n",
    "\n",
    "def print_l1_n_way_table(total_fetches, data):\n",
    "  # convert to fractions\n",
    "  data_fractions = list(map(lambda x: list(map(lambda y: y / total_fetches, x)), data))\n",
    "\n",
    "  print(\" Miss Rate |  1-way  |  2-way  |  4-way  |  8-way\")\n",
    "  print(\"--------------------------------------------------\")\n",
    "  for row, row_name in enumerate((\"Compulsory\", \"  Capacity\", \"  Conflict\")):\n",
    "    row_data = list(map(lambda x: x[row], data_fractions))\n",
    "    print(\"{} | {:.5f} | {:.5f} | {:.5f} | {:.5f}\".format(row_name, *row_data))\n",
    "  total_data = list(map(lambda x: reduce(operator.add, x) / total_fetches, data))\n",
    "  print(\"     Total | {:.5f} | {:.5f} | {:.5f} | {:.5f}\".format(*total_data))\n",
    "\n",
    "print(\"L1 Config 1\")\n",
    "print_l1_n_way_table(total_fetches, l1_c1_n_ways_data)\n",
    "print()\n",
    "print(\"L1 Config 2\")\n",
    "print_l1_n_way_table(total_fetches, l1_c2_n_ways_data)"
   ]
  },
  {
   "cell_type": "markdown",
   "metadata": {},
   "source": [
    "$$\n",
    "\\begin{matrix}\n",
    " &  & L1\\ config\\ 1 &  & \\\\\n",
    "Miss\\ rate & 1-way & 2-way & 4-way & 8-way\\\\\n",
    "Compulsory & 0.00077 & 0.00077 & 0.00077 & 0.00077\\\\\n",
    "Capacity   & 0.00171 & 0.00174 & 0.00191 & 0.00190\\\\\n",
    "Conflict   & 0.02798 & 0.03317 & 0.00002 & 0.00001\\\\\n",
    "Total      & 0.03046 & 0.03568 & 0.00270 & 0.00268\n",
    "\\end{matrix}\n",
    "$$\n",
    "\n",
    "$$\n",
    "\\begin{matrix}\n",
    " &  & L1\\ config\\ 2 &  & \\\\\n",
    "Miss\\ rate & 1-way & 2-way & 4-way & 8-way\\\\\n",
    "Compulsory & 0.00039 & 0.00039 & 0.00039 & 0.00039\\\\\n",
    "Capacity   & 0.00110 & 0.00120 & 0.00119 & 0.00121\\\\\n",
    "Conflict   & 0.03484 & 0.03481 & 0.00000 & 0.00000\\\\\n",
    "Total      & 0.03633 & 0.03640 & 0.00158 & 0.00160\n",
    "\\end{matrix}\n",
    "$$"
   ]
  },
  {
   "cell_type": "markdown",
   "metadata": {},
   "source": [
    "b) For each L1 cache setup, draw a plot with the variation of the obtained compulsory, capacity,\n",
    "conflict and total miss-rates for the considered set associativity ways."
   ]
  },
  {
   "cell_type": "markdown",
   "metadata": {},
   "source": [
    "![Graph L1 cache size miss rate (detailed) with n-way](./plot2.png#gh-dark-mode-only)"
   ]
  },
  {
   "cell_type": "markdown",
   "metadata": {},
   "source": [
    "c) Comment the results above"
   ]
  },
  {
   "cell_type": "markdown",
   "metadata": {},
   "source": []
  },
  {
   "cell_type": "markdown",
   "metadata": {},
   "source": [
    "> Em ambas as configurações, para 1-way e 2-way, existem muitos _cache misses_ devido a conflitos (azul).\n",
    "> Tal acontece porque se acede várias vezes a endereços que terminam na mesma combinação de bits, isto é, que partilham o mesmo _index_ na cache.  \n",
    "> No entanto, para 4-way e 8-way, deixam de haver conflitos, o que baixa consideravelmente a _miss rate_."
   ]
  },
  {
   "cell_type": "markdown",
   "metadata": {},
   "source": [
    "d) Write the expression that provides the mean access time as a function of the L1 cache hit\n",
    "and miss\n",
    "rates, the L1 cache hit\n",
    "and miss\n",
    "access times, and the time penalty\n",
    "associated to each associativity level, as expressed in Table 1.\\\n",
    " Consider a non-blocking critical word-first load policy, where the bus occupancy rate has a lower impact in the performance of the\n",
    "cache."
   ]
  },
  {
   "cell_type": "markdown",
   "metadata": {},
   "source": [
    "> // TODO"
   ]
  },
  {
   "cell_type": "code",
   "execution_count": 5,
   "metadata": {},
   "outputs": [],
   "source": [
    "def mean_acess_time(hit_rate, miss_rate, hit_time, miss_time, time_penalty_num_of_ways):\n",
    "    ## odeio de se ter de fzr assim\n",
    "    return (hit_time + time_penalty_num_of_ways) * hit_rate + (hit_time + time_penalty_num_of_ways + miss_time) * miss_rate\n"
   ]
  },
  {
   "cell_type": "markdown",
   "metadata": {},
   "source": [
    "e) Evaluate the mean access time of each configuration, considering the obtained miss-rates and the\n",
    "time penalty associated to each associativity level.\\\n",
    "Evaluate the resulting cost function, as defined\n",
    "in Eq. 1 (including the frame memory).\\\n",
    "Fill the following table with the obtained data:"
   ]
  },
  {
   "cell_type": "code",
   "execution_count": 6,
   "metadata": {},
   "outputs": [
    {
     "name": "stdout",
     "output_type": "stream",
     "text": [
      "####### Access Time #######\n",
      "L1 config 1\n",
      "5.67\n",
      "7.097999999999999\n",
      "3.1779999999999995\n",
      "3.8779999999999992\n",
      "L1 config 2\n",
      "6.481999999999999\n",
      "7.196\n",
      "3.024\n",
      "3.7239999999999993\n",
      "\n",
      "####### Price #######\n",
      "Config 1 and 2 price\n",
      "0.011015625\n",
      "\n",
      "####### Cost Function #######\n",
      "L1 config 1\n",
      "0.06245859374999999\n",
      "0.07818890624999998\n",
      "0.03500765624999999\n",
      "0.04271859374999999\n",
      "L1 config 2\n",
      "0.07140328124999999\n",
      "0.0792684375\n",
      "0.03331125\n",
      "0.04102218749999999\n"
     ]
    }
   ],
   "source": [
    "from math import log2\n",
    "\n",
    "TIME_PENALTY_1_WAY = 2 * 0.35 * log2(1)\n",
    "TIME_PENALTY_2_WAY = 2 * 0.35 * log2(2)\n",
    "TIME_PENALTY_4_WAY = 2 * 0.35 * log2(4)\n",
    "TIME_PENALTY_8_WAY = 2 * 0.35 * log2(8)\n",
    "TIME_PENALTIES = [TIME_PENALTY_1_WAY, TIME_PENALTY_2_WAY, TIME_PENALTY_4_WAY, TIME_PENALTY_8_WAY]\n",
    "\n",
    "HIT_TIME = 2 * 0.7\n",
    "MISS_TIME = 140\n",
    "\n",
    "l1_c1_miss_rates = [0.0305, 0.0357, 0.0027, 0.0027]\n",
    "l1_c2_miss_rates = [0.0363, 0.0364, 0.0016, 0.0016]\n",
    "\n",
    "print(\"####### Access Time #######\")\n",
    "print(\"L1 config 1\")\n",
    "for i, miss_rate in enumerate(l1_c1_miss_rates):\n",
    "    print(mean_acess_time(1 - miss_rate, miss_rate, HIT_TIME, MISS_TIME, TIME_PENALTIES[i]))\n",
    "print(\"L1 config 2\")\n",
    "for i, miss_rate in enumerate(l1_c2_miss_rates):\n",
    "    print(mean_acess_time(1 - miss_rate, miss_rate, HIT_TIME, MISS_TIME, TIME_PENALTIES[i]))\n",
    "print(\"\\n####### Price #######\")\n",
    "print(\"Config 1 and 2 price\")\n",
    "CONFIG_PRICE = calculate_price(pow(2, 10), PRICE_PER_MBYTE_L1) + SDRAM_PRICE\n",
    "print(CONFIG_PRICE)\n",
    "print(\"\\n####### Cost Function #######\")\n",
    "print(\"L1 config 1\")\n",
    "for i, miss_rate in enumerate(l1_c1_miss_rates):\n",
    "    print(mean_acess_time(1 - miss_rate, miss_rate, HIT_TIME, MISS_TIME, TIME_PENALTIES[i]) * CONFIG_PRICE)\n",
    "print(\"L1 config 2\")\n",
    "for i, miss_rate in enumerate(l1_c2_miss_rates):\n",
    "    print(mean_acess_time(1 - miss_rate, miss_rate, HIT_TIME, MISS_TIME, TIME_PENALTIES[i]) * CONFIG_PRICE)"
   ]
  },
  {
   "cell_type": "markdown",
   "metadata": {},
   "source": [
    "$$\n",
    "\\begin{matrix}\n",
    " &  & L1\\ config\\ 1 &  & \\\\\n",
    " & 1-way & 2-way & 4-way & 8-way\\\\\n",
    "Miss\\ rate &   0.0305 & 0.0357 & 0.0027 & 0.0027 \\\\\n",
    "Acess\\ time & 5.67 & 7.098 & 3.178 & 3.8779999\\\\\n",
    "Price & & 0.011015625  & & \\\\\n",
    "Cost\\ function & 0.06245859374999999 & 0.07818890625 & 0.03500765625  & 0.04271859374999999\n",
    "\\end{matrix}\n",
    "$$\n",
    "$$\n",
    "\\begin{matrix}\n",
    " &  & L1\\ config\\ 2 &  & \\\\\n",
    " & 1-way & 2-way & 4-way & 8-way\\\\\n",
    "Miss\\ rate &  0.0363 & 0.0364 & 0.0016  & 0.0016 \\\\\n",
    "Acess\\ time & 6.481999 & 7.196  & 3.024 & 3.723999\\\\\n",
    "Price & & 0.011015625 & &  \\\\\n",
    "Cost\\ function & 0.07140328124999999 & 0.0792684375  & 0.03331125 & 0.041022187499999994\n",
    "\\end{matrix}\n",
    "$$"
   ]
  },
  {
   "cell_type": "markdown",
   "metadata": {},
   "source": [
    "f) Draw conclusions:"
   ]
  },
  {
   "cell_type": "markdown",
   "metadata": {},
   "source": [
    "> O nosso objetivo é selecionar a configuração com a menor _cost function_.\n",
    "> Conseguimos facilmente observar que tanto na _config 1_ como na _config 2_, a cache com 4-way association é a que tem menor _cost function_, sendo a configuração ótima em termos de associatividade.  \n",
    "> Entre ambas, deveremos selecionar a L1 config 2 4-way, visto que é a que tem a menor _cost function_ de todas."
   ]
  },
  {
   "cell_type": "markdown",
   "metadata": {},
   "source": [
    "#### 2.3.4 Cache L1: write policy"
   ]
  },
  {
   "cell_type": "markdown",
   "metadata": {},
   "source": [
    "a) By analyzing the sequence of memory accesses generated by the motion estimation algorithm (see\n",
    "Fig. 3), select the best setup for the cache writing-policy: write-back versus write-through, writeallocate versus write-not-allocate.\\\n",
    "Justify. (Note that the number of writes is much smaller than\n",
    "the number of reads.)"
   ]
  },
  {
   "cell_type": "markdown",
   "metadata": {},
   "source": [
    "> // TODO"
   ]
  },
  {
   "cell_type": "markdown",
   "metadata": {},
   "source": [
    "#### 2.3.5 Cache L1: final selection"
   ]
  },
  {
   "cell_type": "markdown",
   "metadata": {},
   "source": [
    "a) By considering the obtained results, select the L1 cache setup that offers the best compromise\n",
    "between the cost of the device and the resulting average access time."
   ]
  },
  {
   "cell_type": "markdown",
   "metadata": {},
   "source": [
    "$$\n",
    "\\begin{matrix}\n",
    " & L1\\ config\\\\\n",
    "Cache\\ dimension & 2^{10}\\\\\n",
    "Block\\ size & 2^4\\\\\n",
    "Associativity & 4-ways\\\\\n",
    "Write\\ policy & TODO\\\\\n",
    "Miss\\ rate & 0.0016\\\\\n",
    "Acess\\ time & 3.024\\\\\n",
    "Price & 0.01102\\\\\n",
    "Cost\\ function & 0.03331\n",
    "\\end{matrix}\n",
    "$$"
   ]
  },
  {
   "cell_type": "markdown",
   "metadata": {},
   "source": [
    "### 2.4 Cache L2"
   ]
  },
  {
   "cell_type": "markdown",
   "metadata": {},
   "source": [
    "#### 2.4.1 Cache L2: dimension"
   ]
  },
  {
   "cell_type": "markdown",
   "metadata": {},
   "source": [
    "a) Considering the maximum cost of the whole memory hierarchy, as well as the price of L1 cache\n",
    "and the 128 kByte frame memory, determine the maximum storage space of L2 cache (an integer\n",
    "power of 2), considering the characteristics of the available memory devices (see Table 1)."
   ]
  },
  {
   "cell_type": "code",
   "execution_count": 7,
   "metadata": {},
   "outputs": [
    {
     "name": "stdout",
     "output_type": "stream",
     "text": [
      "SDRAM price:  0.00125\n",
      "L1 Price:  0.01102\n",
      "Budget antes de L2:  0.007730000000000001\n",
      "Tam. máximo de L2 é: 2^14\n",
      "Sanity check: Excedente orçamental: 0.0014800000000000004\n"
     ]
    }
   ],
   "source": [
    "from math import pow\n",
    "\n",
    "BUDGET = 0.02\n",
    "PRICE_PER_MBYTE_L2 = 0.4\n",
    "PRICE_PER_MBYTE_SDRAM = 0.01\n",
    "L1_FINAL_PRICE = 0.01102\n",
    "SIZE_SDRAM = pow(2,17)\n",
    "\n",
    "def calculate_price(size_in_bytes, price_per_Mbyte):\n",
    "    \n",
    "    price_per_byte = price_per_Mbyte / pow(2,20)\n",
    "\n",
    "    return price_per_byte * size_in_bytes\n",
    "\n",
    "\n",
    "SDRAM_PRICE = calculate_price(SIZE_SDRAM,PRICE_PER_MBYTE_SDRAM)\n",
    "\n",
    "print(\"SDRAM price: \", SDRAM_PRICE)\n",
    "\n",
    "print(\"L1 Price: \", L1_FINAL_PRICE )\n",
    "\n",
    "l2_budget = BUDGET - (SDRAM_PRICE + L1_FINAL_PRICE)\n",
    "print(\"Budget antes de L2: \", l2_budget)\n",
    "\n",
    "\n",
    "i = 0\n",
    "while (calculate_price(pow(2,i),PRICE_PER_MBYTE_L2) < l2_budget):\n",
    "    i += 1 \n",
    "i -=1\n",
    "\n",
    "print(f\"Tam. máximo de L2 é: 2^{i}\")\n",
    "\n",
    "l2_price = calculate_price(pow(2, i), PRICE_PER_MBYTE_L2)\n",
    "\n",
    "print(f\"Sanity check: Excedente orçamental: {l2_budget - l2_price}\")\n"
   ]
  },
  {
   "cell_type": "markdown",
   "metadata": {},
   "source": [
    "b) For the obtained maximum storage space for L2 cache, adopting a direct mapping configuration,\n",
    "use dineroIV simulator to evaluate the resulting average data miss-rate considering the following\n",
    "block sizes: (1 × L1_block), (2 × L1_block), (4 × L1_block) and (8 × L1_block).\\\n",
    "Fill the following table with the obtained data:"
   ]
  },
  {
   "cell_type": "markdown",
   "metadata": {},
   "source": [
    "|         | Block size    | # Miss-rate |\n",
    "|--------------|-----------|------------|\n",
    "| Block size = (1x L1_block) | 16 |0.4773      |        \n",
    "|  Block size = (2x L1_block)   | 32  | 0.2386  |   \n",
    "|  Block size = (4x L1_block)    | 64 | 0.1193  |         \n",
    "|  Block size = (8x L1_block)    | 128| 0.0598  |     \n",
    "\n",
    "> Miss rates obtained w/ `dineroIV -l1-usize 1k -l1-ubsize 16 -l1-uassoc 4 -l2-usize 16k -l2-ubsize <block-size> < trace.log` "
   ]
  },
  {
   "cell_type": "code",
   "execution_count": null,
   "metadata": {},
   "outputs": [],
   "source": []
  },
  {
   "cell_type": "markdown",
   "metadata": {},
   "source": [
    "c) Plot the variation of the miss-rate with the size of the block. "
   ]
  },
  {
   "cell_type": "markdown",
   "metadata": {},
   "source": [
    "![Graph L1 cache size miss rate with size of the block](./l2-cache-plot.png#gh-dark-mode-only)"
   ]
  },
  {
   "cell_type": "markdown",
   "metadata": {},
   "source": [
    "d) From the obtained results, select the block size that offers the best trade-off between the resulting\n",
    "average miss-rate and the time penalty associated with each data fetch from the primary memory.\\\n",
    "Justify."
   ]
  },
  {
   "cell_type": "markdown",
   "metadata": {},
   "source": [
    "> L2 Block Size = 128B\n",
    "\n",
    "> O time penalty é constante (visto que o tempo de acesso à Frame Memory é constante = 140ns - não depende do block size), pelo que escolhemos o block size com menor miss-rate."
   ]
  },
  {
   "cell_type": "markdown",
   "metadata": {},
   "source": [
    "#### 2.4.2 Cache L2"
   ]
  },
  {
   "cell_type": "markdown",
   "metadata": {},
   "source": [
    "a) Evaluate the compulsory, capacity, conflict and total miss-rates for the direct-mapped L2 data\n",
    "cache.\\\n",
    "Fill the following table with the obtained data:\n"
   ]
  },
  {
   "cell_type": "markdown",
   "metadata": {},
   "source": [
    "0.3741\n",
    "0.6259\n",
    "\n",
    "$$\n",
    "\\begin{matrix}\n",
    "& Miss-rate\\\\\n",
    "Compulsory &  0,02237118 \\\\\n",
    "Capacity   &  0,3742882 \\\\\n",
    "Conflict   & 0 \\\\\n",
    "Total      & 0.0598\n",
    "\\end{matrix}\n",
    "$$\n",
    "Obtained w/ `dineroIV -l1-usize 1024 -l1-ubsize 16 -l1-uassoc 4 -l2-usize 16k -l2-ubsize 128 -l2-uccc < trace.log`"
   ]
  },
  {
   "cell_type": "markdown",
   "metadata": {},
   "source": [
    "b) Plot the variation of the obtained compulsory, capacity, conflict and total miss-rate."
   ]
  },
  {
   "cell_type": "markdown",
   "metadata": {},
   "source": [
    "c) Write the expression which provides the mean access time as a function of the L1 and L2 cache\n",
    "hit and miss  rates, L1 and L2 cache hit and miss  access\n",
    "times, and the time penalty, as expressed in table 1."
   ]
  },
  {
   "cell_type": "code",
   "execution_count": 8,
   "metadata": {},
   "outputs": [],
   "source": [
    "def mean_acess_time_L2(\n",
    "    L1_hit_rate,\n",
    "    L2_hit_rate,\n",
    "    L1_miss_rate,\n",
    "    L2_miss_rate,\n",
    "    L1_hit_time,\n",
    "    L2_hit_time,\n",
    "    L1_miss_time,\n",
    "    L2_miss_time,\n",
    "    time_penalty_num_of_ways_L1,\n",
    "    time_penalty_num_of_ways_L2\n",
    "):\n",
    "\n",
    "    # Obg diogo correia por me obrigares a escrever este monstro\n",
    "    return (L1_hit_time + time_penalty_num_of_ways_L1) * L1_hit_rate + (\n",
    "        (\n",
    "            L1_hit_time\n",
    "            + time_penalty_num_of_ways_L1\n",
    "            + L2_hit_time\n",
    "            + time_penalty_num_of_ways_L2\n",
    "        )\n",
    "        * L2_hit_rate\n",
    "        + (L1_hit_time + time_penalty_num_of_ways_L1 + L2_hit_time + L2_miss_time)\n",
    "        * L2_miss_rate\n",
    "    ) * L1_miss_rate"
   ]
  },
  {
   "cell_type": "code",
   "execution_count": 9,
   "metadata": {},
   "outputs": [
    {
     "name": "stdout",
     "output_type": "stream",
     "text": [
      "2.8245951999999996\n"
     ]
    }
   ],
   "source": [
    "from math import log2\n",
    "\n",
    "TIME_PENALTY_4_WAY = 2 * 0.35 * log2(4)\n",
    "TIME_PENALTY_1_WAY = 10 * 0.55 * log2(1)\n",
    "HIT_TIME_L1 = 2 * 0.7\n",
    "MISS_TIME_L2 = 140\n",
    "MISS_TIME_L1 = 0 # not used\n",
    "HIT_TIME_L2 = 10*0.7\n",
    "\n",
    "print(mean_acess_time_L2(1 - 0.0016, 1 - 0.0598, 0.0016, 0.0598, HIT_TIME_L1, HIT_TIME_L2,MISS_TIME_L1,MISS_TIME_L2 , TIME_PENALTY_4_WAY, TIME_PENALTY_1_WAY))"
   ]
  },
  {
   "cell_type": "markdown",
   "metadata": {},
   "source": [
    "d) Evaluate the mean access time provided by the chosen configuration, considering the obtained\n",
    "miss-rate and the time penalty. Evaluate the resulting cost function, as defined in Eq. 1.\\\n",
    "Fill the following table with the obtained data:"
   ]
  },
  {
   "cell_type": "markdown",
   "metadata": {},
   "source": [
    "$$\n",
    "\\begin{matrix}\n",
    " Miss Rate &\\\\\n",
    "Acess time & 2.8245951999999996\\\\\n",
    "Price   & \\\\\n",
    "Cost function   & \\\\\n",
    "\\end{matrix}\n",
    "$$"
   ]
  },
  {
   "cell_type": "markdown",
   "metadata": {},
   "source": [
    "### 2.5 Memory Hierarchy Configuration"
   ]
  },
  {
   "cell_type": "markdown",
   "metadata": {},
   "source": [
    "a) By considering the obtained results, fill the following table with the selected characteristics for L1\n",
    "and L2 cache memories, as well as the corresponding performance results of the overall memory\n",
    "hierarchy."
   ]
  },
  {
   "cell_type": "markdown",
   "metadata": {},
   "source": [
    "$$\n",
    "\\begin{matrix}\n",
    " & Cache\\ L1 & Cache\\ L2 & Frame\\ Memory\\\\\n",
    "Dimension\\ ( Bytes) & 2^{10} &  & 128\\ *\\ 1024\\\\\n",
    "Block\\ size\\ ( Bytes) & 2^{4} &  & -\\\\\n",
    "Associativity & 4-ways &  & -\\\\\n",
    "Write\\ policy & TODO &  & -\\\\\n",
    "Local\\ Miss\\ rate\\ ( \\%) & 0.16 &  & -\\\\\n",
    "Price\\ ( € ) & 0.01102 &  & \\\\\n",
    "Global\\ Miss\\ rate\\ ( \\%) &  &  & \\\\\n",
    "Global\\ access\\ rate\\ ( ns) &  &  & \\\\\n",
    "Total\\ Price\\ ( € ) &  &  & \\\\\n",
    "Cost\\ function\\ ( € \\ *\\ ns) &  &  & \n",
    "\\end{matrix}\n",
    "$$"
   ]
  }
 ],
 "metadata": {
  "kernelspec": {
   "display_name": "Python 3.8.10 64-bit",
   "language": "python",
   "name": "python3"
  },
  "language_info": {
   "codemirror_mode": {
    "name": "ipython",
    "version": 3
   },
   "file_extension": ".py",
   "mimetype": "text/x-python",
   "name": "python",
   "nbconvert_exporter": "python",
   "pygments_lexer": "ipython3",
   "version": "3.8.10"
  },
  "orig_nbformat": 4,
  "vscode": {
   "interpreter": {
    "hash": "916dbcbb3f70747c44a77c7bcd40155683ae19c65e1c03b4aa3499c5328201f1"
   }
  }
 },
 "nbformat": 4,
 "nbformat_minor": 2
}
