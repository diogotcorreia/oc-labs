{
 "cells": [
  {
   "cell_type": "markdown",
   "metadata": {},
   "source": [
    "# 2 - Procedure"
   ]
  },
  {
   "cell_type": "markdown",
   "metadata": {},
   "source": [
    "## 2.1 Simple execution, without data forwarding techniques"
   ]
  },
  {
   "cell_type": "markdown",
   "metadata": {},
   "source": [
    "### e) Compute the CPI while the program is executing this loop. \n",
    "\n",
    "Select an arbitrarily loop iteration (avoid the first and the last ones) of the executed program. For each instruction of such iteration represent in Table 5 the several executed stages of the pipeline:\n",
    "F, D, Xn, M, W. \n",
    "Compute the CPI while the program is executing this loop. \n",
    "Make sure to include in the diagram the first fetch of the next loop iteration, this is what defines the total clock cycles that a single loop iteration takes."
   ]
  },
  {
   "cell_type": "markdown",
   "metadata": {},
   "source": [
    "| Clock Cycles | 15      |\n",
    "| ------------ |---------|\n",
    "| Instructions |  8      |\n",
    "| Average CPI  |  1.875  |\n"
   ]
  },
  {
   "cell_type": "markdown",
   "metadata": {},
   "source": [
    "### f) Summarize the program execution profile, by filling the table in the answer sheet at the end."
   ]
  },
  {
   "cell_type": "markdown",
   "metadata": {},
   "source": [
    "| Clock Cycles | 136 |\n",
    "| ------------ |--|\n",
    "| Instructions | 61 |\n",
    "| Average CPI  | 2.230 |\n"
   ]
  },
  {
   "cell_type": "markdown",
   "metadata": {},
   "source": [
    "|               |   Stalls  |\n",
    "| ------------  |-----------|\n",
    "| Data          |     63    |\n",
    "| Structural    |      9    |\n",
    "| Branch Taken  |      8    |"
   ]
  },
  {
   "cell_type": "markdown",
   "metadata": {},
   "source": [
    "### g) By analyzing the program execution, characterize the branch prediction policy that is adopted by this simulator. Justify."
   ]
  },
  {
   "cell_type": "markdown",
   "metadata": {},
   "source": [
    "Predict not taken – always predict branches will not be\n",
    "taken, continue to fetch from the sequential instruction\n",
    "stream, only when branch is taken does the pipeline\n",
    "stall\n",
    "\n",
    "Ver slide 16 do pdf 13 de MIPS"
   ]
  },
  {
   "cell_type": "markdown",
   "metadata": {},
   "source": [
    "## 2.2 Application of data forwarding techniques"
   ]
  },
  {
   "cell_type": "markdown",
   "metadata": {},
   "source": [
    "### c) Summarize the program execution profile, by filling the table in the answer sheet."
   ]
  },
  {
   "cell_type": "markdown",
   "metadata": {},
   "source": [
    "| Clock Cycles |  |\n",
    "| ------------ |--|\n",
    "| Instructions |  |\n",
    "| Average CPI  |  |\n"
   ]
  },
  {
   "cell_type": "markdown",
   "metadata": {},
   "source": [
    "|               |   Stalls  |\n",
    "| ------------  |-----------|\n",
    "| Data          |           |\n",
    "| Structural    |           |\n",
    "| Branch Taken  |           |"
   ]
  },
  {
   "cell_type": "markdown",
   "metadata": {},
   "source": [
    "### d) Evaluate the obtained speedup, when compared to the base setup, considered in Section 2.1."
   ]
  },
  {
   "cell_type": "markdown",
   "metadata": {},
   "source": [
    "> TODO"
   ]
  },
  {
   "cell_type": "markdown",
   "metadata": {},
   "source": [
    "## 2.3 Source code optimization: minimization of data and structural hazards"
   ]
  },
  {
   "cell_type": "markdown",
   "metadata": {},
   "source": [
    "### a) Attach a copy of the new assembly program.\n",
    "\n",
    "One common approach to reduce the still existing data and structural hazards is to apply re-order techniques [3] to the instruction sequence of the program.\n",
    "Keeping the simulator’s data forwarding option asserted, analyze the time diagram of the previous section and apply the necessary reordering optimization techniques in order to minimize the Structural and Data Stalls.\n",
    "Make sure that the resulting output is kept unchanged."
   ]
  },
  {
   "cell_type": "markdown",
   "metadata": {},
   "source": [
    "> TODO"
   ]
  },
  {
   "cell_type": "markdown",
   "metadata": {},
   "source": [
    "### c) Summarize the program execution profile, by filling the table in the answer sheet."
   ]
  },
  {
   "cell_type": "markdown",
   "metadata": {},
   "source": [
    "| Clock Cycles |  |\n",
    "| ------------ |--|\n",
    "| Instructions |  |\n",
    "| Average CPI  |  |\n"
   ]
  },
  {
   "cell_type": "markdown",
   "metadata": {},
   "source": [
    "|               |   Stalls  |\n",
    "| ------------  |-----------|\n",
    "| Data          |           |\n",
    "| Structural    |           |\n",
    "| Branch Taken  |           |"
   ]
  },
  {
   "cell_type": "markdown",
   "metadata": {},
   "source": [
    "### d) Compute the obtained speedup, when compared to the base setup, considered in Section 2.1."
   ]
  },
  {
   "cell_type": "markdown",
   "metadata": {},
   "source": [
    ">TODO"
   ]
  },
  {
   "cell_type": "markdown",
   "metadata": {},
   "source": [
    "## 2.4 Source code optimization: loop unrolling"
   ]
  },
  {
   "cell_type": "markdown",
   "metadata": {},
   "source": [
    "### a) Attach a copy of the new assembly program.\n",
    "\n",
    "One approach that is usually adopted to reduce the control hazards is to apply loop unrolling\n",
    "techniques [3] to the program instruction sequence.\n",
    "By analyzing the time diagram of the previous section, apply the loop unrolling technique in order to reduce by a factor of 4 the amount of resulting control hazards. \n",
    "Try to optimize as much as possible the body of the loop."
   ]
  },
  {
   "cell_type": "markdown",
   "metadata": {},
   "source": [
    ">TODO"
   ]
  },
  {
   "cell_type": "markdown",
   "metadata": {},
   "source": [
    "### c) Summarize the program execution profile, by filling the table in the answer sheet."
   ]
  },
  {
   "cell_type": "markdown",
   "metadata": {},
   "source": [
    "| Clock Cycles |  |\n",
    "| ------------ |--|\n",
    "| Instructions |  |\n",
    "| Average CPI  |  |\n"
   ]
  },
  {
   "cell_type": "markdown",
   "metadata": {},
   "source": [
    "|               |   Stalls  |\n",
    "| ------------  |-----------|\n",
    "| Data          |           |\n",
    "| Structural    |           |\n",
    "| Branch Taken  |           |"
   ]
  },
  {
   "cell_type": "markdown",
   "metadata": {},
   "source": [
    "### d) Compute the obtained speedup, when compared with the base setup, considered in Section 2.1."
   ]
  },
  {
   "cell_type": "markdown",
   "metadata": {},
   "source": [
    ">TODO"
   ]
  },
  {
   "cell_type": "markdown",
   "metadata": {},
   "source": [
    "## 2.5 Source code optimization: branch delay slot"
   ]
  },
  {
   "cell_type": "markdown",
   "metadata": {},
   "source": [
    "### a) Attach a copy of the new assembly program.\n",
    "\n",
    "One alternative approach that is frequently made available by most pipeline processor implementations to reduce the control hazards penalty is based on the usage of the Branch Delay Slot [3]. \n",
    "By analyzing the time diagram of the program sequence considered in Section 2.3, repeat the application of the re-order techniques to the program considered in Section 2.3 in order to take advantage of the branch delay slot."
   ]
  },
  {
   "cell_type": "markdown",
   "metadata": {},
   "source": [
    ">TODO"
   ]
  },
  {
   "cell_type": "markdown",
   "metadata": {},
   "source": [
    "### d) Summarize the program execution profile, by filling the table in the answer sheet."
   ]
  },
  {
   "cell_type": "markdown",
   "metadata": {},
   "source": [
    "| Clock Cycles |  |\n",
    "| ------------ |--|\n",
    "| Instructions |  |\n",
    "| Average CPI  |  |\n"
   ]
  },
  {
   "cell_type": "markdown",
   "metadata": {},
   "source": [
    "|               |   Stalls  |\n",
    "| ------------  |-----------|\n",
    "| Data          |           |\n",
    "| Structural    |           |\n",
    "| Branch Taken  |           |"
   ]
  },
  {
   "cell_type": "markdown",
   "metadata": {},
   "source": [
    "### e) Compute the obtained speedup, when compared with the base setup, considered in Section 2.1."
   ]
  },
  {
   "cell_type": "markdown",
   "metadata": {},
   "source": [
    ">TODO"
   ]
  }
 ],
 "metadata": {},
 "nbformat": 4,
 "nbformat_minor": 2
}
