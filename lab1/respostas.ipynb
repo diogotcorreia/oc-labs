{
 "cells": [
  {
   "cell_type": "markdown",
   "metadata": {},
   "source": [
    "# Memory Hierarchy"
   ]
  },
  {
   "cell_type": "markdown",
   "metadata": {},
   "source": [
    "## 2 Procedure"
   ]
  },
  {
   "cell_type": "markdown",
   "metadata": {},
   "source": [
    "### 2.1 Understanding the Program\n",
    "Without delving into the details of the signal processing application, analyze the flow of the C program.\n",
    "Observe the data access patterns and identify the critical sequence of accesses which may have a larger\n",
    "impact on the performance of the system."
   ]
  },
  {
   "cell_type": "markdown",
   "metadata": {},
   "source": [
    "### 2.3 Cache L1"
   ]
  },
  {
   "cell_type": "markdown",
   "metadata": {},
   "source": [
    "#### 2.3.1 Theory of Cache"
   ]
  },
  {
   "cell_type": "markdown",
   "metadata": {},
   "source": [
    "1. Explain the different types of cache misses: compulsory, capacity, and conflict\n",
    "\n"
   ]
  },
  {
   "cell_type": "markdown",
   "metadata": {},
   "source": [
    "2. Explain the different types of cache writing-policies.\n"
   ]
  },
  {
   "cell_type": "markdown",
   "metadata": {},
   "source": [
    "### 2.3.2 Cache L1: dimension and block size"
   ]
  },
  {
   "cell_type": "markdown",
   "metadata": {},
   "source": [
    "a) Consider a memory hierarchy composed of a single cache memory (L1), which interconnects the\n",
    "SDRAM frame memory and the CPU.\\\n",
    "Considering the characteristics of the available memory devices (see Table 1), and the maximum total cost of the memory hierarchy, determine the maximum\n",
    "storage space of cache L1.\n",
    "- NOTES:\n",
    "    - the size of any of the memory modules (frame buffer, any cache) must be an integer power of 2:\n",
    "        - L1_size = $2^{MAX}$;\n",
    "    - do not forget to consider the cost of the 128 kByte frame memory."
   ]
  },
  {
   "cell_type": "code",
   "execution_count": 3,
   "metadata": {},
   "outputs": [
    {
     "name": "stdout",
     "output_type": "stream",
     "text": [
      "Budget antes de L1:  0.01875\n",
      "Valor do i é:  10\n"
     ]
    }
   ],
   "source": [
    "from math import pow\n",
    "\n",
    "BUDGET = 0.02\n",
    "PRICE_PER_MBYTE_L1 = 10\n",
    "PRICE_PER_MBYTE_SDRAM = 0.01\n",
    "SIZE_SDRAM = pow(2,17)\n",
    "\n",
    "def calculate_price(size_in_bytes, price_per_Mbyte):\n",
    "    \n",
    "    price_per_byte = price_per_Mbyte / pow(2,20)\n",
    "\n",
    "    return price_per_byte * size_in_bytes\n",
    "\n",
    "\n",
    "final_budget = BUDGET - calculate_price(SIZE_SDRAM,0.01)\n",
    "\n",
    "print(\"Budget antes de L1: \" ,final_budget)\n",
    "\n",
    "i = 0\n",
    "while (calculate_price(pow(2,i),PRICE_PER_MBYTE_L1) < final_budget):\n",
    "    i += 1 \n",
    "i -=1\n",
    "\n",
    "print(\"Valor do i é: \" , i)\n",
    "\n"
   ]
  },
  {
   "cell_type": "markdown",
   "metadata": {},
   "source": [
    "b) Consider three different dimensions for the L1 data cache: L1_size $\\in$ {$ 2^{MAX}, 2^{MAX−1}, 2^{MAX−2} $}.\\\n",
    "For each of these dimensions, and assuming a direct mapping configuration, use the dineroIV\n",
    "simulator to evaluate the resulting average data miss-rate considering the following block sizes:\n",
    "- Block_size $\\in$ {$8, 16, 32, 64$}.\\\n",
    "Fill the following table with the obtained data:"
   ]
  },
  {
   "cell_type": "markdown",
   "metadata": {},
   "source": [
    "$$\n",
    "\\begin{matrix}\n",
    "& L1\\_size = 2^{10} & L1\\_size = 2^{9} & L1\\_size = 2^{8}\\\\\n",
    "Block size = 8\\ Bytes & 0.0305 & 0.1247 & 0.1960\\\\\n",
    "Block size = 16\\ Bytes & 0.0363 & 0.1184 & 0.1829\\\\\n",
    "Block size = 32\\ Bytes & 0.0770 & 0.1492 & 0.2288\\\\\n",
    "Block size = 64\\ Bytes & 0.1181 & 0.2021 & 0.3340\n",
    "\\end{matrix}\n",
    "$$"
   ]
  },
  {
   "cell_type": "markdown",
   "metadata": {},
   "source": [
    "c) For each L1 cache size, plot the variation of the miss-rate with the size of the block. "
   ]
  },
  {
   "cell_type": "markdown",
   "metadata": {},
   "source": [
    "![Graph L1 cache size miss rate with size of the block](./plot1.png#gh-dark-mode-only)"
   ]
  },
  {
   "cell_type": "markdown",
   "metadata": {},
   "source": [
    "d) By considering the obtained results, select two L1 cache configurations (dimension and block size)\n",
    "that offer the best trade-off between the cost of the device and the resulting average miss-rate.\\\n",
    "Label in the previous plot the two configurations chosen."
   ]
  },
  {
   "cell_type": "code",
   "execution_count": 4,
   "metadata": {},
   "outputs": [
    {
     "name": "stdout",
     "output_type": "stream",
     "text": [
      "Size = 2¹⁰\n",
      "0.0002978515625\n",
      "0.0003544921875\n",
      "0.000751953125\n",
      "0.0011533203125\n",
      "Size = 2⁹\n",
      "0.00060888671875\n",
      "0.0005781250000000001\n",
      "0.000728515625\n",
      "0.00098681640625\n",
      "Size = 2⁸\n",
      "0.000478515625\n",
      "0.00044653320312500004\n",
      "0.0005585937500000001\n",
      "0.0008154296875000001\n"
     ]
    }
   ],
   "source": [
    "def cost(size_in_bytes, price_per_Mbyte, miss_rate):\n",
    "    price_per_byte = price_per_Mbyte / pow(2,20)\n",
    "\n",
    "    return price_per_byte * size_in_bytes * miss_rate\n",
    "\n",
    "print(\"Size = 2¹⁰\")\n",
    "print(cost(pow(2,10), PRICE_PER_MBYTE_L1, 0.0305))\n",
    "print(cost(pow(2,10), PRICE_PER_MBYTE_L1, 0.0363))\n",
    "print(cost(pow(2,10), PRICE_PER_MBYTE_L1, 0.0770))\n",
    "print(cost(pow(2,10), PRICE_PER_MBYTE_L1, 0.1181))\n",
    "print(\"Size = 2⁹\")\n",
    "print(cost(pow(2,9), PRICE_PER_MBYTE_L1, 0.1247))\n",
    "print(cost(pow(2,9), PRICE_PER_MBYTE_L1, 0.1184))\n",
    "print(cost(pow(2,9), PRICE_PER_MBYTE_L1, 0.1492))\n",
    "print(cost(pow(2,9), PRICE_PER_MBYTE_L1, 0.2021))\n",
    "print(\"Size = 2⁸\")\n",
    "print(cost(pow(2,8), PRICE_PER_MBYTE_L1, 0.1960))\n",
    "print(cost(pow(2,8), PRICE_PER_MBYTE_L1, 0.1829))\n",
    "print(cost(pow(2,8), PRICE_PER_MBYTE_L1, 0.2288))\n",
    "print(cost(pow(2,8), PRICE_PER_MBYTE_L1, 0.3340))"
   ]
  },
  {
   "cell_type": "markdown",
   "metadata": {},
   "source": [
    "$$\n",
    "\\begin{matrix}\n",
    " & L1\\ config 1\\\\\n",
    "Cache\\ size & 2^{10}\\\\\n",
    "Block\\ size & 2^{3}\\\\\n",
    "Miss\\ rate & 0.0305\\\\\n",
    "Cost & 0.000298828125\n",
    "\\end{matrix}\n",
    "$$\n",
    "\n",
    "$$\n",
    "\\begin{matrix}\n",
    " & L1\\ config 2\\\\\n",
    "Cache\\ size & 2^{10}\\\\\n",
    "Block\\ size & 2^{4}\\\\\n",
    "Miss\\ rate & 0.0363\\\\\n",
    "Cost & 0.0003544921875\n",
    "\\end{matrix}\n",
    "$$"
   ]
  },
  {
   "cell_type": "markdown",
   "metadata": {},
   "source": [
    "#### 2.3.3 Cache L1: set associativity"
   ]
  },
  {
   "cell_type": "markdown",
   "metadata": {},
   "source": [
    "a) For each of the two L1 cache setups previously selected, evaluate the compulsory, capacity, conflict and total miss-rates when the following configurations are considered:\n",
    "- set associativity of 1 (direct-mapped), 2, 4, 8.\n",
    "\n",
    "Fill the following table with the obtained data:"
   ]
  },
  {
   "cell_type": "markdown",
   "metadata": {},
   "source": [
    "$$\n",
    "\\begin{matrix}\n",
    " &  & L1\\ config\\ 1 &  & \\\\\n",
    "Miss\\ rate & 1-way & 2-way & 4-way & 8-way\\\\\n",
    "Compulsory & 0.0254 &  0.0216 & 0.2859 & 0.2876\\\\\n",
    "Capacity & 0.0561 & 0.0488 & 0.7059 & 0.7080\\\\\n",
    "Conflict & 0.9186 & 0.9295 & 0.0082 & 0.0044 \\\\\n",
    "Total & 0.0305 & 0.0357 & 0.0027 & 0.0027\n",
    "\\end{matrix}\n",
    "$$\n",
    "\n",
    "$$\n",
    "\\begin{matrix}\n",
    " &  & L1\\ config\\ 2 &  & \\\\\n",
    "Miss\\ rate & 1-way & 2-way & 4-way & 8-way\\\\\n",
    "Compulsory & 0.0106 & 0.0106 & 0.2444 & 0.2413 \\\\\n",
    "Capacity & 0.0303 & 0.0329 & 0.7556 & 0.7587  \\\\\n",
    "Conflict & 0.9591 & 0.9565  & 0.0000 & 0.0000\\\\\n",
    "Total & 0.0363 & 0.0364 & 0.0016  & 0.0016\n",
    "\\end{matrix}\n",
    "$$"
   ]
  },
  {
   "cell_type": "markdown",
   "metadata": {},
   "source": [
    "b) For each L1 cache setup, draw a plot with the variation of the obtained compulsory, capacity,\n",
    "conflict and total miss-rates for the considered set associativity ways."
   ]
  },
  {
   "cell_type": "markdown",
   "metadata": {},
   "source": [
    "c) Comment the results above"
   ]
  },
  {
   "cell_type": "markdown",
   "metadata": {},
   "source": [
    "d) Write the expression that provides the mean access time as a function of the L1 cache hit\n",
    "and miss\n",
    "rates, the L1 cache hit\n",
    "and miss\n",
    "access times, and the time penalty\n",
    "associated to each associativity level, as expressed in Table 1.\\\n",
    " Consider a non-blocking criticalword-first load policy, where the bus occupancy rate has a lower impact in the performance of the\n",
    "cache."
   ]
  },
  {
   "cell_type": "markdown",
   "metadata": {},
   "source": [
    "e) Evaluate the mean access time of each configuration, considering the obtained miss-rates and the\n",
    "time penalty associated to each associativity level.\\\n",
    "Evaluate the resulting cost function, as defined\n",
    "in Eq. 1 (including the frame memory).\\\n",
    "Fill the following table with the obtained data:"
   ]
  },
  {
   "cell_type": "markdown",
   "metadata": {},
   "source": [
    "$$\n",
    "\\begin{matrix}\n",
    " &  & L1\\ config\\ 1 &  & \\\\\n",
    " & 1-way & 2-way & 4-way & 8-way\\\\\n",
    "Miss\\ rate &  &  &  & \\\\\n",
    "Acess\\ time &  &  &  & \\\\\n",
    "Price &  &  &  & \\\\\n",
    "Cost\\ function &  &  &  & \n",
    "\\end{matrix}\n",
    "$$\n",
    "$$\n",
    "\\begin{matrix}\n",
    " &  & L1\\ config\\ 2 &  & \\\\\n",
    " & 1-way & 2-way & 4-way & 8-way\\\\\n",
    "Miss\\ rate &  &  &  & \\\\\n",
    "Acess\\ time &  &  &  & \\\\\n",
    "Price &  &  &  & \\\\\n",
    "Cost\\ function &  &  &  & \n",
    "\\end{matrix}\n",
    "$$"
   ]
  },
  {
   "cell_type": "markdown",
   "metadata": {},
   "source": [
    "f) Draw conclusions:"
   ]
  },
  {
   "cell_type": "markdown",
   "metadata": {},
   "source": [
    "#### 2.3.4 Cache L1: write policy"
   ]
  },
  {
   "cell_type": "markdown",
   "metadata": {},
   "source": [
    "a) By analyzing the sequence of memory accesses generated by the motion estimation algorithm (see\n",
    "Fig. 3), select the best setup for the cache writing-policy: write-back versus write-through, writeallocate versus write-not-allocate.\\\n",
    "Justify. (Note that the number of writes is much smaller than\n",
    "the number of reads.)"
   ]
  },
  {
   "cell_type": "markdown",
   "metadata": {},
   "source": [
    "#### 2.3.5 Cache L1: final selection"
   ]
  },
  {
   "cell_type": "markdown",
   "metadata": {},
   "source": [
    "a) By considering the obtained results, select the L1 cache setup that offers the best compromise\n",
    "between the cost of the device and the resulting average access time."
   ]
  },
  {
   "cell_type": "markdown",
   "metadata": {},
   "source": [
    "$$\n",
    "\\begin{matrix}\n",
    " & L1\\ config\\ 1\\\\\n",
    "Cache\\ dimension & \\\\\n",
    "Block\\ size & \\\\\n",
    "Associativity & \\\\\n",
    "Write\\ policy & \\\\\n",
    "Miss\\ rate & \\\\\n",
    "Acess\\ time & \\\\\n",
    "Price & \\\\\n",
    "Cost\\ function & \n",
    "\\end{matrix}\n",
    "$$"
   ]
  },
  {
   "cell_type": "markdown",
   "metadata": {},
   "source": [
    "### 2.4 Cache L2"
   ]
  },
  {
   "cell_type": "markdown",
   "metadata": {},
   "source": [
    "#### 2.4.1 Cache L2: dimension"
   ]
  },
  {
   "cell_type": "markdown",
   "metadata": {},
   "source": [
    "a) Considering the maximum cost of the whole memory hierarchy, as well as the price of L1 cache\n",
    "and the 128 kByte frame memory, determine the maximum storage space of L2 cache (an integer\n",
    "power of 2), considering the characteristics of the available memory devices (see Table 1)."
   ]
  },
  {
   "cell_type": "markdown",
   "metadata": {},
   "source": [
    "b) For the obtained maximum storage space for L2 cache, adopting a direct mapping configuration,\n",
    "use dineroIV simulator to evaluate the resulting average data miss-rate considering the following\n",
    "block sizes: (1 × L1_block), (2 × L1_block), (4 × L1_block) and (8 × L1_block).\\\n",
    "Fill the following table with the obtained data:"
   ]
  },
  {
   "cell_type": "markdown",
   "metadata": {},
   "source": [
    "c) Plot the variation of the miss-rate with the size of the block. "
   ]
  },
  {
   "cell_type": "markdown",
   "metadata": {},
   "source": [
    "d) From the obtained results, select the block size that offers the best trade-off between the resulting\n",
    "average miss-rate and the time penalty associated with each data fetch from the primary memory.\\\n",
    "Justify."
   ]
  },
  {
   "cell_type": "markdown",
   "metadata": {},
   "source": [
    "#### 2.4.2 Cache L2"
   ]
  },
  {
   "cell_type": "markdown",
   "metadata": {},
   "source": [
    "a) Evaluate the compulsory, capacity, conflict and total miss-rates for the direct-mapped L2 data\n",
    "cache.\\\n",
    "Fill the following table with the obtained data:\n"
   ]
  },
  {
   "cell_type": "markdown",
   "metadata": {},
   "source": [
    "$$\n",
    "\\begin{matrix}\n",
    "& Miss Rate\\\\\n",
    "Compulsory &   \\\\\n",
    "Capacity   & \\\\\n",
    "Conflict   & \\\\\n",
    "Total      &\n",
    "\\end{matrix}\n",
    "$$"
   ]
  },
  {
   "cell_type": "markdown",
   "metadata": {},
   "source": [
    "b) Plot the variation of the obtained compulsory, capacity, conflict and total miss-rate."
   ]
  },
  {
   "cell_type": "markdown",
   "metadata": {},
   "source": [
    "c) Write the expression which provides the mean access time as a function of the L1 and L2 cache\n",
    "hit and miss  rates, L1 and L2 cache hit and miss  access\n",
    "times, and the time penalty, as expressed in table 1."
   ]
  },
  {
   "cell_type": "markdown",
   "metadata": {},
   "source": [
    "d) Evaluate the mean access time provided by the chosen configuration, considering the obtained\n",
    "miss-rate and the time penalty. Evaluate the resulting cost function, as defined in Eq. 1.\\\n",
    "Fill the following table with the obtained data:"
   ]
  },
  {
   "cell_type": "markdown",
   "metadata": {},
   "source": [
    "$$\n",
    "\\begin{matrix}\n",
    " Miss Rate &\\\\\n",
    "Acess time &   \\\\\n",
    "Price   & \\\\\n",
    "Cost function   & \\\\\n",
    "\\end{matrix}\n",
    "$$"
   ]
  },
  {
   "cell_type": "markdown",
   "metadata": {},
   "source": [
    "### 2.5 Memory Hierarchy Configuration"
   ]
  },
  {
   "cell_type": "markdown",
   "metadata": {},
   "source": [
    "a) By considering the obtained results, fill the following table with the selected characteristics for L1\n",
    "and L2 cache memories, as well as the corresponding performance results of the overall memory\n",
    "hierarchy."
   ]
  },
  {
   "cell_type": "markdown",
   "metadata": {},
   "source": [
    "$$\n",
    "\\begin{matrix}\n",
    " & Cache\\ L1 & Cache\\ L2 & Frame\\ Memory\\\\\n",
    "Dimension\\ ( Bytes) &  &  & 128\\ *\\ 1024\\\\\n",
    "Block\\ size\\ ( Bytes) &  &  & -\\\\\n",
    "Associativity &  &  & -\\\\\n",
    "Write\\ policy &  &  & -\\\\\n",
    "Local\\ Miss\\ rate\\ ( \\%) &  &  & -\\\\\n",
    "Price\\ ( € ) &  &  & \\\\\n",
    "Global\\ Miss\\ rate\\ ( \\%) &  &  & \\\\\n",
    "Global\\ access\\ rate\\ ( ns) &  &  & \\\\\n",
    "Total\\ Price\\ ( € ) &  &  & \\\\\n",
    "Cost\\ function\\ ( € \\ *\\ ns) &  &  & \n",
    "\\end{matrix}\n",
    "$$"
   ]
  }
 ],
 "metadata": {
  "kernelspec": {
   "display_name": "Python 3.10.7 64-bit",
   "language": "python",
   "name": "python3"
  },
  "language_info": {
   "codemirror_mode": {
    "name": "ipython",
    "version": 3
   },
   "file_extension": ".py",
   "mimetype": "text/x-python",
   "name": "python",
   "nbconvert_exporter": "python",
   "pygments_lexer": "ipython3",
   "version": "3.10.7"
  },
  "orig_nbformat": 4,
  "vscode": {
   "interpreter": {
    "hash": "e7370f93d1d0cde622a1f8e1c04877d8463912d04d973331ad4851f04de6915a"
   }
  }
 },
 "nbformat": 4,
 "nbformat_minor": 2
}
