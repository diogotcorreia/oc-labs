{
 "cells": [
  {
   "cell_type": "markdown",
   "metadata": {},
   "source": [
    "# 2 - Exercise"
   ]
  },
  {
   "cell_type": "markdown",
   "metadata": {},
   "source": [
    "### 1. What is the cache capacity of the computer you used (please write the workstation name)?"
   ]
  },
  {
   "cell_type": "markdown",
   "metadata": {},
   "source": [
    "lab6p1 ([i5-8500](https://www.cpu-world.com/CPUs/Core_i5/Intel-Core%20i5%20i5-8500.html))\n",
    "\n",
    "`lscpu`\n",
    "\n",
    "L1d cache:                       192 KiB\n",
    "L1i cache:                       192 KiB\n",
    "L2 cache:                        1.5 MiB\n",
    "L3 cache:                        9 MiB\n",
    "\n",
    "| **Array Size**        | 4k |8k | 16k | 32k|64k |  128k | 256k  | 512k  |  1024k | 2048k | 4096k |\n",
    "|-----------------------|-|--|-|-|-|-------|-------|-------|--------|-------|-------|\n",
    "| **t2-t1**             | 0.000930| 0.001814 |0.003572 |0.007087 |0.013366 |   0.026765    |   0.053982    |   0.107694    |    0.215276   |   0.430951  |   0.863898    |\n",
    "| **# accesses a[i]**   |400 | 800 |1600 | 3200|6400 |   12800    |   25600    |    51200   |    102400    |    204800   |    409600   |\n",
    "| **# mean access time**| 0.000002325 | 0.000002268 | 0.000002232 | 0.000002215| 0.000002088|   0.000002091    |   0.000002109    |   0.000002103    |    0.000002102    |    0,000002104   |    0.000002109   |"
   ]
  },
  {
   "cell_type": "code",
   "execution_count": 1,
   "metadata": {},
   "outputs": [
    {
     "name": "stdout",
     "output_type": "stream",
     "text": [
      "   4 KiB\t409600\n",
      "   8 KiB\t819200\n",
      "  16 KiB\t1638400\n",
      "  32 KiB\t3276800\n",
      "  64 KiB\t6553600\n",
      " 128 KiB\t13107200\n",
      " 256 KiB\t26214400\n",
      " 512 KiB\t52428800\n",
      "1024 KiB\t104857600\n",
      "2048 KiB\t209715200\n",
      "4096 KiB\t419430400\n"
     ]
    }
   ],
   "source": [
    "from itertools import count\n",
    "from math import log2\n",
    "\n",
    "\n",
    "memo_num_accesses = {}\n",
    "\n",
    "\n",
    "def num_accesses(array_size):\n",
    "    \"\"\"Array size in KiB\"\"\"\n",
    "\n",
    "    key = array_size\n",
    "    if key in memo_num_accesses:\n",
    "        return memo_num_accesses[key]\n",
    "\n",
    "    array_size = array_size << 10\n",
    "\n",
    "    N_REPETITIONS = 100\n",
    "\n",
    "    STRIDE_MAX = 2\n",
    "\n",
    "    counter = 0\n",
    "    stride = 1\n",
    "\n",
    "    for stride in range(1, STRIDE_MAX, stride):\n",
    "\n",
    "        limit = array_size - stride + 1\n",
    "\n",
    "        # warm up\n",
    "        ## for i in range(0, limit, stride ):\n",
    "        ## counter+= 1\n",
    "\n",
    "        # main loop\n",
    "        for repeat in range(0, N_REPETITIONS * stride):\n",
    "            counter += (limit - 0) / stride\n",
    "\n",
    "    counter = int(counter)\n",
    "    memo_num_accesses[key] = counter\n",
    "\n",
    "    return counter\n",
    "\n",
    "\n",
    "for size in range(2, 13):\n",
    "    size_kb = 1 << size\n",
    "    print(f\"{size_kb: >4} KiB\\t{num_accesses(size_kb)}\")"
   ]
  },
  {
   "cell_type": "code",
   "execution_count": 2,
   "metadata": {},
   "outputs": [],
   "source": [
    "import pandas as pd"
   ]
  },
  {
   "cell_type": "code",
   "execution_count": 3,
   "metadata": {},
   "outputs": [],
   "source": [
    "df = pd.DataFrame()\n",
    "for i in range(8):\n",
    "    df = pd.concat((df, pd.read_csv(f\"./data/spark{i:0>2}.tsv\", delimiter=\"\\t\")))\n",
    "\n",
    "df = df.reset_index()"
   ]
  },
  {
   "cell_type": "code",
   "execution_count": 4,
   "metadata": {},
   "outputs": [
    {
     "data": {
      "text/html": [
       "<div>\n",
       "<style scoped>\n",
       "    .dataframe tbody tr th:only-of-type {\n",
       "        vertical-align: middle;\n",
       "    }\n",
       "\n",
       "    .dataframe tbody tr th {\n",
       "        vertical-align: top;\n",
       "    }\n",
       "\n",
       "    .dataframe thead th {\n",
       "        text-align: right;\n",
       "    }\n",
       "</style>\n",
       "<table border=\"1\" class=\"dataframe\">\n",
       "  <thead>\n",
       "    <tr style=\"text-align: right;\">\n",
       "      <th></th>\n",
       "      <th>size</th>\n",
       "      <th>stride</th>\n",
       "      <th>elapsed(s)</th>\n",
       "      <th>cycles</th>\n",
       "    </tr>\n",
       "  </thead>\n",
       "  <tbody>\n",
       "    <tr>\n",
       "      <th>0</th>\n",
       "      <td>4096</td>\n",
       "      <td>1</td>\n",
       "      <td>0.000939</td>\n",
       "      <td>939.250</td>\n",
       "    </tr>\n",
       "    <tr>\n",
       "      <th>1</th>\n",
       "      <td>4096</td>\n",
       "      <td>2</td>\n",
       "      <td>0.000918</td>\n",
       "      <td>917.500</td>\n",
       "    </tr>\n",
       "    <tr>\n",
       "      <th>2</th>\n",
       "      <td>4096</td>\n",
       "      <td>4</td>\n",
       "      <td>0.000901</td>\n",
       "      <td>900.625</td>\n",
       "    </tr>\n",
       "    <tr>\n",
       "      <th>3</th>\n",
       "      <td>4096</td>\n",
       "      <td>8</td>\n",
       "      <td>0.000887</td>\n",
       "      <td>887.250</td>\n",
       "    </tr>\n",
       "    <tr>\n",
       "      <th>4</th>\n",
       "      <td>4096</td>\n",
       "      <td>16</td>\n",
       "      <td>0.000914</td>\n",
       "      <td>914.250</td>\n",
       "    </tr>\n",
       "    <tr>\n",
       "      <th>...</th>\n",
       "      <td>...</td>\n",
       "      <td>...</td>\n",
       "      <td>...</td>\n",
       "      <td>...</td>\n",
       "    </tr>\n",
       "    <tr>\n",
       "      <th>182</th>\n",
       "      <td>4194304</td>\n",
       "      <td>131072</td>\n",
       "      <td>3.450860</td>\n",
       "      <td>3450860.125</td>\n",
       "    </tr>\n",
       "    <tr>\n",
       "      <th>183</th>\n",
       "      <td>4194304</td>\n",
       "      <td>262144</td>\n",
       "      <td>2.549151</td>\n",
       "      <td>2549151.125</td>\n",
       "    </tr>\n",
       "    <tr>\n",
       "      <th>184</th>\n",
       "      <td>4194304</td>\n",
       "      <td>524288</td>\n",
       "      <td>0.961996</td>\n",
       "      <td>961996.000</td>\n",
       "    </tr>\n",
       "    <tr>\n",
       "      <th>185</th>\n",
       "      <td>4194304</td>\n",
       "      <td>1048576</td>\n",
       "      <td>0.891310</td>\n",
       "      <td>891309.750</td>\n",
       "    </tr>\n",
       "    <tr>\n",
       "      <th>186</th>\n",
       "      <td>4194304</td>\n",
       "      <td>2097152</td>\n",
       "      <td>0.851043</td>\n",
       "      <td>851043.500</td>\n",
       "    </tr>\n",
       "  </tbody>\n",
       "</table>\n",
       "<p>187 rows × 4 columns</p>\n",
       "</div>"
      ],
      "text/plain": [
       "        size   stride  elapsed(s)       cycles\n",
       "0       4096        1    0.000939      939.250\n",
       "1       4096        2    0.000918      917.500\n",
       "2       4096        4    0.000901      900.625\n",
       "3       4096        8    0.000887      887.250\n",
       "4       4096       16    0.000914      914.250\n",
       "..       ...      ...         ...          ...\n",
       "182  4194304   131072    3.450860  3450860.125\n",
       "183  4194304   262144    2.549151  2549151.125\n",
       "184  4194304   524288    0.961996   961996.000\n",
       "185  4194304  1048576    0.891310   891309.750\n",
       "186  4194304  2097152    0.851043   851043.500\n",
       "\n",
       "[187 rows x 4 columns]"
      ]
     },
     "execution_count": 4,
     "metadata": {},
     "output_type": "execute_result"
    }
   ],
   "source": [
    "df_avg = df.groupby([\"size\", \"stride\"], as_index=False).mean().drop(\"index\", axis=1)\n",
    "\n",
    "df_avg"
   ]
  },
  {
   "cell_type": "code",
   "execution_count": 5,
   "metadata": {},
   "outputs": [],
   "source": [
    "df_avg[\"accesses\"] = df_avg[\"size\"].apply(lambda x: num_accesses(x >> 10))\n",
    "df_avg[\"mean_access_time\"] = df_avg[\"elapsed(s)\"] / df_avg[\"accesses\"]"
   ]
  },
  {
   "cell_type": "code",
   "execution_count": 6,
   "metadata": {},
   "outputs": [
    {
     "data": {
      "text/html": [
       "<div>\n",
       "<style scoped>\n",
       "    .dataframe tbody tr th:only-of-type {\n",
       "        vertical-align: middle;\n",
       "    }\n",
       "\n",
       "    .dataframe tbody tr th {\n",
       "        vertical-align: top;\n",
       "    }\n",
       "\n",
       "    .dataframe thead th {\n",
       "        text-align: right;\n",
       "    }\n",
       "</style>\n",
       "<table border=\"1\" class=\"dataframe\">\n",
       "  <thead>\n",
       "    <tr style=\"text-align: right;\">\n",
       "      <th></th>\n",
       "      <th>size</th>\n",
       "      <th>stride</th>\n",
       "      <th>elapsed(s)</th>\n",
       "      <th>cycles</th>\n",
       "      <th>accesses</th>\n",
       "      <th>mean_access_time</th>\n",
       "    </tr>\n",
       "  </thead>\n",
       "  <tbody>\n",
       "    <tr>\n",
       "      <th>0</th>\n",
       "      <td>4096</td>\n",
       "      <td>1</td>\n",
       "      <td>0.000939</td>\n",
       "      <td>939.250</td>\n",
       "      <td>409600</td>\n",
       "      <td>2.292480e-09</td>\n",
       "    </tr>\n",
       "    <tr>\n",
       "      <th>12</th>\n",
       "      <td>8192</td>\n",
       "      <td>1</td>\n",
       "      <td>0.001844</td>\n",
       "      <td>1847.125</td>\n",
       "      <td>819200</td>\n",
       "      <td>2.250366e-09</td>\n",
       "    </tr>\n",
       "    <tr>\n",
       "      <th>25</th>\n",
       "      <td>16384</td>\n",
       "      <td>1</td>\n",
       "      <td>0.003591</td>\n",
       "      <td>3591.125</td>\n",
       "      <td>1638400</td>\n",
       "      <td>2.191772e-09</td>\n",
       "    </tr>\n",
       "    <tr>\n",
       "      <th>39</th>\n",
       "      <td>32768</td>\n",
       "      <td>1</td>\n",
       "      <td>0.007141</td>\n",
       "      <td>7141.250</td>\n",
       "      <td>3276800</td>\n",
       "      <td>2.179222e-09</td>\n",
       "    </tr>\n",
       "    <tr>\n",
       "      <th>54</th>\n",
       "      <td>65536</td>\n",
       "      <td>1</td>\n",
       "      <td>0.013441</td>\n",
       "      <td>13440.500</td>\n",
       "      <td>6553600</td>\n",
       "      <td>2.050877e-09</td>\n",
       "    </tr>\n",
       "    <tr>\n",
       "      <th>70</th>\n",
       "      <td>131072</td>\n",
       "      <td>1</td>\n",
       "      <td>0.026922</td>\n",
       "      <td>26921.375</td>\n",
       "      <td>13107200</td>\n",
       "      <td>2.053967e-09</td>\n",
       "    </tr>\n",
       "    <tr>\n",
       "      <th>87</th>\n",
       "      <td>262144</td>\n",
       "      <td>1</td>\n",
       "      <td>0.053918</td>\n",
       "      <td>53918.500</td>\n",
       "      <td>26214400</td>\n",
       "      <td>2.056823e-09</td>\n",
       "    </tr>\n",
       "    <tr>\n",
       "      <th>105</th>\n",
       "      <td>524288</td>\n",
       "      <td>1</td>\n",
       "      <td>0.107772</td>\n",
       "      <td>107771.625</td>\n",
       "      <td>52428800</td>\n",
       "      <td>2.055581e-09</td>\n",
       "    </tr>\n",
       "    <tr>\n",
       "      <th>124</th>\n",
       "      <td>1048576</td>\n",
       "      <td>1</td>\n",
       "      <td>0.215631</td>\n",
       "      <td>215630.750</td>\n",
       "      <td>104857600</td>\n",
       "      <td>2.056419e-09</td>\n",
       "    </tr>\n",
       "    <tr>\n",
       "      <th>144</th>\n",
       "      <td>2097152</td>\n",
       "      <td>1</td>\n",
       "      <td>0.431647</td>\n",
       "      <td>431646.875</td>\n",
       "      <td>209715200</td>\n",
       "      <td>2.058253e-09</td>\n",
       "    </tr>\n",
       "    <tr>\n",
       "      <th>165</th>\n",
       "      <td>4194304</td>\n",
       "      <td>1</td>\n",
       "      <td>0.863217</td>\n",
       "      <td>863217.000</td>\n",
       "      <td>419430400</td>\n",
       "      <td>2.058070e-09</td>\n",
       "    </tr>\n",
       "  </tbody>\n",
       "</table>\n",
       "</div>"
      ],
      "text/plain": [
       "        size  stride  elapsed(s)      cycles   accesses  mean_access_time\n",
       "0       4096       1    0.000939     939.250     409600      2.292480e-09\n",
       "12      8192       1    0.001844    1847.125     819200      2.250366e-09\n",
       "25     16384       1    0.003591    3591.125    1638400      2.191772e-09\n",
       "39     32768       1    0.007141    7141.250    3276800      2.179222e-09\n",
       "54     65536       1    0.013441   13440.500    6553600      2.050877e-09\n",
       "70    131072       1    0.026922   26921.375   13107200      2.053967e-09\n",
       "87    262144       1    0.053918   53918.500   26214400      2.056823e-09\n",
       "105   524288       1    0.107772  107771.625   52428800      2.055581e-09\n",
       "124  1048576       1    0.215631  215630.750  104857600      2.056419e-09\n",
       "144  2097152       1    0.431647  431646.875  209715200      2.058253e-09\n",
       "165  4194304       1    0.863217  863217.000  419430400      2.058070e-09"
      ]
     },
     "execution_count": 6,
     "metadata": {},
     "output_type": "execute_result"
    }
   ],
   "source": [
    "df_avg[df_avg[\"stride\"] == 1].sort_values(\"size\")"
   ]
  },
  {
   "cell_type": "markdown",
   "metadata": {},
   "source": [
    "### 2. What is the cache capacity of the computer?"
   ]
  },
  {
   "cell_type": "markdown",
   "metadata": {},
   "source": [
    "64kiB"
   ]
  },
  {
   "cell_type": "markdown",
   "metadata": {},
   "source": [
    "### 3. What is the size of each cache block?"
   ]
  },
  {
   "cell_type": "markdown",
   "metadata": {},
   "source": [
    "16B"
   ]
  },
  {
   "cell_type": "markdown",
   "metadata": {},
   "source": [
    "### 4. What is the L1 cache miss penalty time?"
   ]
  },
  {
   "cell_type": "code",
   "execution_count": 7,
   "metadata": {},
   "outputs": [
    {
     "data": {
      "text/plain": [
       "640"
      ]
     },
     "execution_count": 7,
     "metadata": {},
     "output_type": "execute_result"
    }
   ],
   "source": [
    "1000 - 360"
   ]
  },
  {
   "cell_type": "markdown",
   "metadata": {},
   "source": [
    "# 3 - Procedure"
   ]
  },
  {
   "cell_type": "markdown",
   "metadata": {},
   "source": [
    "### 3.1 Modeling Computer Caches\n",
    "In the first part of this assignment, the goal is to model the characteristics of the L1 data cache and L2\n",
    "cache of the targeted computer platform. Next, we provide instructions for performing this analysis.\n",
    "Use the forms at the end to answer the questions below."
   ]
  },
  {
   "cell_type": "markdown",
   "metadata": {},
   "source": [
    "#### 3.1.1 Modeling the L1 Data Cache"
   ]
  },
  {
   "cell_type": "markdown",
   "metadata": {},
   "source": [
    "a) Change to directory cm1/, in the package lab2_kit.zip, and analyze de code of the program\n",
    "cm1.c. Identify its source code with the program described above.\n",
    "\n",
    "What are the processor events that will be analyzed during its execution? Explain their meaning."
   ]
  },
  {
   "cell_type": "markdown",
   "metadata": {},
   "source": [
    "> The event analized in the `cm1.c` program is `PAPI_L1_DCM`, which means, \"L1 Data Cache Misses\".  \n",
    "> This means that we will analize how many data cache misses, that is, how many times we tried to fetch data that was not in the L1 cache, during the execution of the program."
   ]
  },
  {
   "cell_type": "markdown",
   "metadata": {},
   "source": [
    "b) Compile the program cm1.c using the provided Makefile and execute cm1. \n",
    "\n",
    "Plot the variation of\n",
    "the average number of misses (Avg Misses) with the stride size, for each considered dimension\n",
    "of the L1 data cache (8kB, 16kB, 32kB and 64kB).\n",
    "\n",
    "Note that, you may fill these tables and graphics (as well as the following ones in this report)\n",
    "on your computer and submit the printed version.\n",
    "\n",
    "NOTE: A fast sketch of these plots can be drawn in your computer by running the following commands:\n",
    "./cm1 > cm1.out\n",
    "./cm1_proc.sh\n",
    "\n",
    "NOTE 2: You can draw these tables and plots on your computer, print, and attach to the report. You do not have to fill them by hand on the printed report.\n",
    "\n",
    "NOTE 3: You may need to mark the script as executable before being able to run it."
   ]
  },
  {
   "cell_type": "code",
   "execution_count": 8,
   "metadata": {},
   "outputs": [],
   "source": [
    "def strip_labels(val):\n",
    "    value = val.split(\"=\")[1]\n",
    "    return float(value) if \".\" in value else int(value)\n",
    "\n",
    "\n",
    "df = pd.DataFrame()\n",
    "for i in range(10):\n",
    "    df = pd.concat(\n",
    "        (\n",
    "            df,\n",
    "            pd.read_csv(\n",
    "                f\"./data/cm1_data{i:0>2}.tsv\",\n",
    "                delimiter=\"\\t\",\n",
    "                names=[\"cache_size\", \"stride\", \"avg_misses\", \"avg_time\"],\n",
    "                converters={\n",
    "                    \"cache_size\": strip_labels,\n",
    "                    \"stride\": strip_labels,\n",
    "                    \"avg_misses\": strip_labels,\n",
    "                    \"avg_time\": strip_labels,\n",
    "                },\n",
    "            ),\n",
    "        )\n",
    "    )\n",
    "\n",
    "df = df.reset_index()"
   ]
  },
  {
   "cell_type": "code",
   "execution_count": 9,
   "metadata": {},
   "outputs": [
    {
     "data": {
      "text/html": [
       "<div>\n",
       "<style scoped>\n",
       "    .dataframe tbody tr th:only-of-type {\n",
       "        vertical-align: middle;\n",
       "    }\n",
       "\n",
       "    .dataframe tbody tr th {\n",
       "        vertical-align: top;\n",
       "    }\n",
       "\n",
       "    .dataframe thead th {\n",
       "        text-align: right;\n",
       "    }\n",
       "</style>\n",
       "<table border=\"1\" class=\"dataframe\">\n",
       "  <thead>\n",
       "    <tr style=\"text-align: right;\">\n",
       "      <th></th>\n",
       "      <th>cache_size</th>\n",
       "      <th>stride</th>\n",
       "      <th>avg_misses</th>\n",
       "      <th>avg_time</th>\n",
       "    </tr>\n",
       "  </thead>\n",
       "  <tbody>\n",
       "    <tr>\n",
       "      <th>0</th>\n",
       "      <td>8192</td>\n",
       "      <td>1</td>\n",
       "      <td>0.000217</td>\n",
       "      <td>0.004070</td>\n",
       "    </tr>\n",
       "    <tr>\n",
       "      <th>1</th>\n",
       "      <td>8192</td>\n",
       "      <td>2</td>\n",
       "      <td>0.000213</td>\n",
       "      <td>0.004347</td>\n",
       "    </tr>\n",
       "    <tr>\n",
       "      <th>2</th>\n",
       "      <td>8192</td>\n",
       "      <td>4</td>\n",
       "      <td>0.000098</td>\n",
       "      <td>0.004082</td>\n",
       "    </tr>\n",
       "    <tr>\n",
       "      <th>3</th>\n",
       "      <td>8192</td>\n",
       "      <td>8</td>\n",
       "      <td>0.000106</td>\n",
       "      <td>0.003149</td>\n",
       "    </tr>\n",
       "    <tr>\n",
       "      <th>4</th>\n",
       "      <td>8192</td>\n",
       "      <td>16</td>\n",
       "      <td>0.000131</td>\n",
       "      <td>0.002867</td>\n",
       "    </tr>\n",
       "  </tbody>\n",
       "</table>\n",
       "</div>"
      ],
      "text/plain": [
       "   cache_size  stride  avg_misses  avg_time\n",
       "0        8192       1    0.000217  0.004070\n",
       "1        8192       2    0.000213  0.004347\n",
       "2        8192       4    0.000098  0.004082\n",
       "3        8192       8    0.000106  0.003149\n",
       "4        8192      16    0.000131  0.002867"
      ]
     },
     "execution_count": 9,
     "metadata": {},
     "output_type": "execute_result"
    }
   ],
   "source": [
    "df_avg = (\n",
    "    df.groupby([\"cache_size\", \"stride\"], as_index=False).median().drop(\"index\", axis=1)\n",
    ")\n",
    "\n",
    "df_avg.head()"
   ]
  },
  {
   "cell_type": "code",
   "execution_count": 10,
   "metadata": {},
   "outputs": [],
   "source": [
    "import drawSvg as draw"
   ]
  },
  {
   "cell_type": "code",
   "execution_count": 11,
   "metadata": {},
   "outputs": [
    {
     "data": {
      "image/svg+xml": "<?xml version=\"1.0\" encoding=\"UTF-8\"?>\n<svg xmlns=\"http://www.w3.org/2000/svg\" xmlns:xlink=\"http://www.w3.org/1999/xlink\"\n     width=\"528.0\" height=\"563.2\" viewBox=\"0 -320 300 320\">\n<defs>\n</defs>\n<text x=\"0\" y=\"-310\" font-size=\"8\" style=\"font-family: 'monospace'\">0.000217</text>\n<text x=\"0\" y=\"-300\" font-size=\"8\" style=\"font-family: 'monospace'\">0.000213</text>\n<text x=\"0\" y=\"-290\" font-size=\"8\" style=\"font-family: 'monospace'\">0.000098</text>\n<text x=\"0\" y=\"-280\" font-size=\"8\" style=\"font-family: 'monospace'\">0.000106</text>\n<text x=\"0\" y=\"-270\" font-size=\"8\" style=\"font-family: 'monospace'\">0.000131</text>\n<text x=\"0\" y=\"-260\" font-size=\"8\" style=\"font-family: 'monospace'\">0.000087</text>\n<text x=\"0\" y=\"-250\" font-size=\"8\" style=\"font-family: 'monospace'\">0.000093</text>\n<text x=\"0\" y=\"-240\" font-size=\"8\" style=\"font-family: 'monospace'\">0.000048</text>\n<text x=\"0\" y=\"-230\" font-size=\"8\" style=\"font-family: 'monospace'\">0.000044</text>\n<text x=\"0\" y=\"-220\" font-size=\"8\" style=\"font-family: 'monospace'\">0.000027</text>\n<text x=\"0\" y=\"-210\" font-size=\"8\" style=\"font-family: 'monospace'\">0.000015</text>\n<text x=\"0\" y=\"-200\" font-size=\"8\" style=\"font-family: 'monospace'\">0.000015</text>\n<text x=\"0\" y=\"-190\" font-size=\"8\" style=\"font-family: 'monospace'\">0.000012</text>\n<text x=\"0\" y=\"-180\" font-size=\"8\" style=\"font-family: 'monospace'\">0.000320</text>\n<text x=\"0\" y=\"-170\" font-size=\"8\" style=\"font-family: 'monospace'\">0.000247</text>\n<text x=\"0\" y=\"-160\" font-size=\"8\" style=\"font-family: 'monospace'\">0.000249</text>\n<text x=\"0\" y=\"-150\" font-size=\"8\" style=\"font-family: 'monospace'\">0.000229</text>\n<text x=\"0\" y=\"-140\" font-size=\"8\" style=\"font-family: 'monospace'\">0.000226</text>\n<text x=\"0\" y=\"-130\" font-size=\"8\" style=\"font-family: 'monospace'\">0.000234</text>\n<text x=\"0\" y=\"-120\" font-size=\"8\" style=\"font-family: 'monospace'\">0.000202</text>\n<text x=\"0\" y=\"-110\" font-size=\"8\" style=\"font-family: 'monospace'\">0.000110</text>\n<text x=\"0\" y=\"-100\" font-size=\"8\" style=\"font-family: 'monospace'\">0.000048</text>\n<text x=\"0\" y=\"-90\" font-size=\"8\" style=\"font-family: 'monospace'\">0.000039</text>\n<text x=\"0\" y=\"-80\" font-size=\"8\" style=\"font-family: 'monospace'\">0.000018</text>\n<text x=\"0\" y=\"-70\" font-size=\"8\" style=\"font-family: 'monospace'\">0.000015</text>\n<text x=\"0\" y=\"-60\" font-size=\"8\" style=\"font-family: 'monospace'\">0.000011</text>\n<text x=\"0\" y=\"-50\" font-size=\"8\" style=\"font-family: 'monospace'\">0.000012</text>\n<text x=\"50\" y=\"-310\" font-size=\"8\" style=\"font-family: 'monospace'\">0.004070</text>\n<text x=\"50\" y=\"-300\" font-size=\"8\" style=\"font-family: 'monospace'\">0.004347</text>\n<text x=\"50\" y=\"-290\" font-size=\"8\" style=\"font-family: 'monospace'\">0.004082</text>\n<text x=\"50\" y=\"-280\" font-size=\"8\" style=\"font-family: 'monospace'\">0.003149</text>\n<text x=\"50\" y=\"-270\" font-size=\"8\" style=\"font-family: 'monospace'\">0.002867</text>\n<text x=\"50\" y=\"-260\" font-size=\"8\" style=\"font-family: 'monospace'\">0.002625</text>\n<text x=\"50\" y=\"-250\" font-size=\"8\" style=\"font-family: 'monospace'\">0.002383</text>\n<text x=\"50\" y=\"-240\" font-size=\"8\" style=\"font-family: 'monospace'\">0.002125</text>\n<text x=\"50\" y=\"-230\" font-size=\"8\" style=\"font-family: 'monospace'\">0.002043</text>\n<text x=\"50\" y=\"-220\" font-size=\"8\" style=\"font-family: 'monospace'\">0.001982</text>\n<text x=\"50\" y=\"-210\" font-size=\"8\" style=\"font-family: 'monospace'\">0.001943</text>\n<text x=\"50\" y=\"-200\" font-size=\"8\" style=\"font-family: 'monospace'\">0.002038</text>\n<text x=\"50\" y=\"-190\" font-size=\"8\" style=\"font-family: 'monospace'\">0.002065</text>\n<text x=\"50\" y=\"-180\" font-size=\"8\" style=\"font-family: 'monospace'\">0.002254</text>\n<text x=\"50\" y=\"-170\" font-size=\"8\" style=\"font-family: 'monospace'\">0.002237</text>\n<text x=\"50\" y=\"-160\" font-size=\"8\" style=\"font-family: 'monospace'\">0.002236</text>\n<text x=\"50\" y=\"-150\" font-size=\"8\" style=\"font-family: 'monospace'\">0.002183</text>\n<text x=\"50\" y=\"-140\" font-size=\"8\" style=\"font-family: 'monospace'\">0.002249</text>\n<text x=\"50\" y=\"-130\" font-size=\"8\" style=\"font-family: 'monospace'\">0.002250</text>\n<text x=\"50\" y=\"-120\" font-size=\"8\" style=\"font-family: 'monospace'\">0.002201</text>\n<text x=\"50\" y=\"-110\" font-size=\"8\" style=\"font-family: 'monospace'\">0.002147</text>\n<text x=\"50\" y=\"-100\" font-size=\"8\" style=\"font-family: 'monospace'\">0.002033</text>\n<text x=\"50\" y=\"-90\" font-size=\"8\" style=\"font-family: 'monospace'\">0.002010</text>\n<text x=\"50\" y=\"-80\" font-size=\"8\" style=\"font-family: 'monospace'\">0.001974</text>\n<text x=\"50\" y=\"-70\" font-size=\"8\" style=\"font-family: 'monospace'\">0.002083</text>\n<text x=\"50\" y=\"-60\" font-size=\"8\" style=\"font-family: 'monospace'\">0.002159</text>\n<text x=\"50\" y=\"-50\" font-size=\"8\" style=\"font-family: 'monospace'\">0.002074</text>\n<text x=\"183\" y=\"-310\" font-size=\"8\" style=\"font-family: 'monospace'\">0.001360</text>\n<text x=\"183\" y=\"-300\" font-size=\"8\" style=\"font-family: 'monospace'\">0.001707</text>\n<text x=\"183\" y=\"-290\" font-size=\"8\" style=\"font-family: 'monospace'\">0.003210</text>\n<text x=\"183\" y=\"-280\" font-size=\"8\" style=\"font-family: 'monospace'\">0.005926</text>\n<text x=\"183\" y=\"-270\" font-size=\"8\" style=\"font-family: 'monospace'\">0.010628</text>\n<text x=\"183\" y=\"-260\" font-size=\"8\" style=\"font-family: 'monospace'\">0.015426</text>\n<text x=\"183\" y=\"-250\" font-size=\"8\" style=\"font-family: 'monospace'\">0.012214</text>\n<text x=\"183\" y=\"-240\" font-size=\"8\" style=\"font-family: 'monospace'\">0.024327</text>\n<text x=\"183\" y=\"-230\" font-size=\"8\" style=\"font-family: 'monospace'\">0.000462</text>\n<text x=\"183\" y=\"-220\" font-size=\"8\" style=\"font-family: 'monospace'\">0.000186</text>\n<text x=\"183\" y=\"-210\" font-size=\"8\" style=\"font-family: 'monospace'\">0.000048</text>\n<text x=\"183\" y=\"-200\" font-size=\"8\" style=\"font-family: 'monospace'\">0.000021</text>\n<text x=\"183\" y=\"-190\" font-size=\"8\" style=\"font-family: 'monospace'\">0.000015</text>\n<text x=\"183\" y=\"-180\" font-size=\"8\" style=\"font-family: 'monospace'\">0.000010</text>\n<text x=\"183\" y=\"-170\" font-size=\"8\" style=\"font-family: 'monospace'\">0.000006</text>\n<text x=\"183\" y=\"-160\" font-size=\"8\" style=\"font-family: 'monospace'\">0.015631</text>\n<text x=\"183\" y=\"-150\" font-size=\"8\" style=\"font-family: 'monospace'\">0.031268</text>\n<text x=\"183\" y=\"-140\" font-size=\"8\" style=\"font-family: 'monospace'\">0.062564</text>\n<text x=\"183\" y=\"-130\" font-size=\"8\" style=\"font-family: 'monospace'\">0.125092</text>\n<text x=\"183\" y=\"-120\" font-size=\"8\" style=\"font-family: 'monospace'\">0.250163</text>\n<text x=\"183\" y=\"-110\" font-size=\"8\" style=\"font-family: 'monospace'\">0.500211</text>\n<text x=\"183\" y=\"-100\" font-size=\"8\" style=\"font-family: 'monospace'\">0.999570</text>\n<text x=\"183\" y=\"-90\" font-size=\"8\" style=\"font-family: 'monospace'\">1.026989</text>\n<text x=\"183\" y=\"-80\" font-size=\"8\" style=\"font-family: 'monospace'\">1.038420</text>\n<text x=\"183\" y=\"-70\" font-size=\"8\" style=\"font-family: 'monospace'\">1.051983</text>\n<text x=\"183\" y=\"-60\" font-size=\"8\" style=\"font-family: 'monospace'\">1.009025</text>\n<text x=\"183\" y=\"-50\" font-size=\"8\" style=\"font-family: 'monospace'\">1.022305</text>\n<text x=\"183\" y=\"-40\" font-size=\"8\" style=\"font-family: 'monospace'\">1.049079</text>\n<text x=\"183\" y=\"-30\" font-size=\"8\" style=\"font-family: 'monospace'\">0.000021</text>\n<text x=\"183\" y=\"-20\" font-size=\"8\" style=\"font-family: 'monospace'\">0.000007</text>\n<text x=\"183\" y=\"-10\" font-size=\"8\" style=\"font-family: 'monospace'\">0.000005</text>\n<text x=\"233\" y=\"-310\" font-size=\"8\" style=\"font-family: 'monospace'\">0.002244</text>\n<text x=\"233\" y=\"-300\" font-size=\"8\" style=\"font-family: 'monospace'\">0.002232</text>\n<text x=\"233\" y=\"-290\" font-size=\"8\" style=\"font-family: 'monospace'\">0.002224</text>\n<text x=\"233\" y=\"-280\" font-size=\"8\" style=\"font-family: 'monospace'\">0.002162</text>\n<text x=\"233\" y=\"-270\" font-size=\"8\" style=\"font-family: 'monospace'\">0.002131</text>\n<text x=\"233\" y=\"-260\" font-size=\"8\" style=\"font-family: 'monospace'\">0.002203</text>\n<text x=\"233\" y=\"-250\" font-size=\"8\" style=\"font-family: 'monospace'\">0.002191</text>\n<text x=\"233\" y=\"-240\" font-size=\"8\" style=\"font-family: 'monospace'\">0.002191</text>\n<text x=\"233\" y=\"-230\" font-size=\"8\" style=\"font-family: 'monospace'\">0.002154</text>\n<text x=\"233\" y=\"-220\" font-size=\"8\" style=\"font-family: 'monospace'\">0.002057</text>\n<text x=\"233\" y=\"-210\" font-size=\"8\" style=\"font-family: 'monospace'\">0.001996</text>\n<text x=\"233\" y=\"-200\" font-size=\"8\" style=\"font-family: 'monospace'\">0.002050</text>\n<text x=\"233\" y=\"-190\" font-size=\"8\" style=\"font-family: 'monospace'\">0.002198</text>\n<text x=\"233\" y=\"-180\" font-size=\"8\" style=\"font-family: 'monospace'\">0.002158</text>\n<text x=\"233\" y=\"-170\" font-size=\"8\" style=\"font-family: 'monospace'\">0.002062</text>\n<text x=\"233\" y=\"-160\" font-size=\"8\" style=\"font-family: 'monospace'\">0.001978</text>\n<text x=\"233\" y=\"-150\" font-size=\"8\" style=\"font-family: 'monospace'\">0.001894</text>\n<text x=\"233\" y=\"-140\" font-size=\"8\" style=\"font-family: 'monospace'\">0.002144</text>\n<text x=\"233\" y=\"-130\" font-size=\"8\" style=\"font-family: 'monospace'\">0.002220</text>\n<text x=\"233\" y=\"-120\" font-size=\"8\" style=\"font-family: 'monospace'\">0.002244</text>\n<text x=\"233\" y=\"-110\" font-size=\"8\" style=\"font-family: 'monospace'\">0.002236</text>\n<text x=\"233\" y=\"-100\" font-size=\"8\" style=\"font-family: 'monospace'\">0.001925</text>\n<text x=\"233\" y=\"-90\" font-size=\"8\" style=\"font-family: 'monospace'\">0.001922</text>\n<text x=\"233\" y=\"-80\" font-size=\"8\" style=\"font-family: 'monospace'\">0.001911</text>\n<text x=\"233\" y=\"-70\" font-size=\"8\" style=\"font-family: 'monospace'\">0.001937</text>\n<text x=\"233\" y=\"-60\" font-size=\"8\" style=\"font-family: 'monospace'\">0.001879</text>\n<text x=\"233\" y=\"-50\" font-size=\"8\" style=\"font-family: 'monospace'\">0.002268</text>\n<text x=\"233\" y=\"-40\" font-size=\"8\" style=\"font-family: 'monospace'\">0.005076</text>\n<text x=\"233\" y=\"-30\" font-size=\"8\" style=\"font-family: 'monospace'\">0.002192</text>\n<text x=\"233\" y=\"-20\" font-size=\"8\" style=\"font-family: 'monospace'\">0.002164</text>\n<text x=\"233\" y=\"-10\" font-size=\"8\" style=\"font-family: 'monospace'\">0.002069</text>\n</svg>",
      "text/plain": [
       "<drawSvg.drawing.Drawing at 0x7f41ba292230>"
      ]
     },
     "execution_count": 11,
     "metadata": {},
     "output_type": "execute_result"
    }
   ],
   "source": [
    "d = draw.Drawing(300, 320)\n",
    "\n",
    "for y, i in zip(range(310, 40, -10), range(0, 27)):\n",
    "    d.append(\n",
    "        draw.Text(\n",
    "            f\"{df_avg['avg_misses'][i]:.6f}\", 8, 0, y, style=\"font-family: 'monospace'\"\n",
    "        )\n",
    "    )\n",
    "\n",
    "for y, i in zip(range(310, 40, -10), range(0, 27)):\n",
    "    d.append(\n",
    "        draw.Text(\n",
    "            f\"{df_avg['avg_time'][i]:.6f}\",\n",
    "            8,\n",
    "            0 + 50,\n",
    "            y,\n",
    "            style=\"font-family: 'monospace'\",\n",
    "        )\n",
    "    )\n",
    "\n",
    "for y, i in zip(range(310, 0, -10), range(27, 58)):\n",
    "    d.append(\n",
    "        draw.Text(\n",
    "            f\"{df_avg['avg_misses'][i]:.6f}\",\n",
    "            8,\n",
    "            183,\n",
    "            y,\n",
    "            style=\"font-family: 'monospace'\",\n",
    "        )\n",
    "    )\n",
    "\n",
    "for y, i in zip(range(310, 0, -10), range(27, 58)):\n",
    "    d.append(\n",
    "        draw.Text(\n",
    "            f\"{df_avg['avg_time'][i]:.6f}\",\n",
    "            8,\n",
    "            183 + 50,\n",
    "            y,\n",
    "            style=\"font-family: 'monospace'\",\n",
    "        )\n",
    "    )\n",
    "\n",
    "d.setPixelScale(1.76)\n",
    "\n",
    "d"
   ]
  },
  {
   "cell_type": "code",
   "execution_count": 12,
   "metadata": {},
   "outputs": [],
   "source": [
    "import seaborn as sns\n",
    "import matplotlib as mpl"
   ]
  },
  {
   "cell_type": "code",
   "execution_count": 13,
   "metadata": {},
   "outputs": [
    {
     "data": {
      "image/png": "[encoded data removed]",
      "text/plain": [
       "<Figure size 640x480 with 1 Axes>"
      ]
     },
     "metadata": {},
     "output_type": "display_data"
    }
   ],
   "source": [
    "g_results = sns.lineplot(\n",
    "    data=df_avg, x=\"stride\", y=\"avg_misses\", hue=\"cache_size\", palette=\"deep\"\n",
    ")\n",
    "g_results.set_xscale(\"log\", base=2)\n",
    "g_results.set_xlabel(\"Strides (Bytes)\")\n",
    "g_results.set_ylabel(\"Average Misses\")\n",
    "g_results.get_legend().set_title(\"Cache Size (Bytes)\")"
   ]
  },
  {
   "cell_type": "markdown",
   "metadata": {},
   "source": [
    "c) By analyzing the obtained results:"
   ]
  },
  {
   "cell_type": "markdown",
   "metadata": {},
   "source": [
    "• Determine the **size** of the L1 data cache. Justify your answer."
   ]
  },
  {
   "cell_type": "code",
   "execution_count": 14,
   "metadata": {},
   "outputs": [],
   "source": [
    "# DATA\n",
    "l1_max_cache_size = 1 << 5  # in KiB, the last line that stays flat"
   ]
  },
  {
   "cell_type": "code",
   "execution_count": 15,
   "metadata": {},
   "outputs": [
    {
     "name": "stdout",
     "output_type": "stream",
     "text": [
      "L1 cache size = 32 KiB\n"
     ]
    }
   ],
   "source": [
    "print(f\"L1 cache size = {l1_max_cache_size} KiB\")"
   ]
  },
  {
   "cell_type": "markdown",
   "metadata": {},
   "source": [
    "> We can determine the cache size by looking at the plot and finding the greatest\n",
    "> test cache size that always has \"average misses\" as zero.\n",
    "> In this case, the **green line (32KiB)** is the size that matches this description.\n",
    "> It has a small bump at stride 2^7, but it can be ignored due to the cache being occupied by other data from the program."
   ]
  },
  {
   "cell_type": "markdown",
   "metadata": {},
   "source": [
    "• Determine the **block size** adopted in this cache. Justify your answer."
   ]
  },
  {
   "cell_type": "code",
   "execution_count": 16,
   "metadata": {},
   "outputs": [],
   "source": [
    "# DATA\n",
    "l1_block_size = 1 << 6  # in bytes; when the line gets flat"
   ]
  },
  {
   "cell_type": "code",
   "execution_count": 17,
   "metadata": {},
   "outputs": [
    {
     "name": "stdout",
     "output_type": "stream",
     "text": [
      "L1 block size = 64 B\n"
     ]
    }
   ],
   "source": [
    "print(f\"L1 block size = {l1_block_size} B\")"
   ]
  },
  {
   "cell_type": "markdown",
   "metadata": {},
   "source": [
    "> When stride is less than **64 Bytes**, the miss rate keeps increasing, which means\n",
    "> that there are some accesses that keep hitting the cache, that is, they are inside\n",
    "> the same block as the previous access.  \n",
    "> Once the plot flattens, it means we've broken outside the bounds of the block,\n",
    "> that is, sequential accesses are on different blocks.\n",
    "> For this reason, we know that the block size is **64 Bytes**."
   ]
  },
  {
   "cell_type": "markdown",
   "metadata": {},
   "source": [
    "• Characterize the **associativity set size** adopted in this cache. Justify your answer."
   ]
  },
  {
   "cell_type": "code",
   "execution_count": 18,
   "metadata": {},
   "outputs": [],
   "source": [
    "# DATA\n",
    "l1_first_back_to_zero = (\n",
    "    13  # first stride where cache miss of largest cache (2^16) goes back to zero\n",
    ")"
   ]
  },
  {
   "cell_type": "code",
   "execution_count": 19,
   "metadata": {},
   "outputs": [
    {
     "name": "stdout",
     "output_type": "stream",
     "text": [
      "L1 associativity set size = 8\n"
     ]
    }
   ],
   "source": [
    "l1_associativity_set_size = 1 << (16 - l1_first_back_to_zero)\n",
    "\n",
    "print(f\"L1 associativity set size = {l1_associativity_set_size}\")"
   ]
  },
  {
   "cell_type": "markdown",
   "metadata": {},
   "source": [
    "To determine the associativity set size, we have to analyze in which stride size\n",
    "the miss rate decreases back to zero for the largest cache (that is, red line **64KiB**).\n",
    "Because the stride determines how many blocks of array data we're going to access, we\n",
    "know that for a stride of 2^15 (the maximum for this array size) we're only going\n",
    "to access 2 different blocks of this cache. If the cache is, at least, 2-way associative,\n",
    "we're going to have a near-zero miss rate.  \n",
    "If we repeat this process for lower strides, we notice that for 2^14 and 2^13 the\n",
    "miss rate is also near-zero. This must mean the cache is, at least, 4-way or 8-way associative,\n",
    "respectively.\n",
    "For a lower stride of 2^12, this is no longer the case, so we must have surpassed\n",
    "the number of ways of our cache.\n",
    "\n",
    "Therefore, the associativity set size must be 8."
   ]
  },
  {
   "cell_type": "markdown",
   "metadata": {},
   "source": [
    "#### 3.1.2 Modeling the L2 Cache\n",
    "In this part of the assignment, the goal is to experimentally model the characteristics of the L2 cache of the targeted computer platform. To analyze the computer’s L2 cache, we will use the same methodology that was introduced in the previous section to model the L1 data cache."
   ]
  },
  {
   "cell_type": "markdown",
   "metadata": {},
   "source": [
    "a) Modify the program cm1.c in order to analyze the characteristics of the L2 cache. (Hint: use the\n",
    "event PAPI_L2_DCM.)\n",
    "\n",
    "_Describe and justify the changes introduced in this program._"
   ]
  },
  {
   "cell_type": "markdown",
   "metadata": {},
   "source": [
    "> We've changed two things:\n",
    "> - the PAPI event, which we've changed from `PAPI_L1_DCM` to `PAPI_L2_DCM`,\n",
    ">   since we want to measure the miss rate of the L2 cache now.\n",
    "> - the `CACHE_MAX` value has been increased to 1MiB, since the L2 is much larger than the L1."
   ]
  },
  {
   "cell_type": "markdown",
   "metadata": {},
   "source": [
    "b) Compile the program cm1.c, execute cm1, and plot the variation of the average number of misses\n",
    "(Avg Misses) with the stride size, for each considered dimension of the L2 cache."
   ]
  },
  {
   "cell_type": "code",
   "execution_count": 20,
   "metadata": {},
   "outputs": [],
   "source": [
    "def strip_labels(val):\n",
    "    value = val.split(\"=\")[1]\n",
    "    return float(value) if \".\" in value else int(value)\n",
    "\n",
    "\n",
    "df = pd.DataFrame()\n",
    "for i in range(1):\n",
    "    df = pd.concat(\n",
    "        (\n",
    "            df,\n",
    "            pd.read_csv(\n",
    "                f\"./data/cm1_l2_data{i:0>2}.tsv\",\n",
    "                delimiter=\"\\t\",\n",
    "                names=[\"cache_size\", \"stride\", \"avg_misses\", \"avg_time\"],\n",
    "                converters={\n",
    "                    \"cache_size\": strip_labels,\n",
    "                    \"stride\": strip_labels,\n",
    "                    \"avg_misses\": strip_labels,\n",
    "                    \"avg_time\": strip_labels,\n",
    "                },\n",
    "            ),\n",
    "        )\n",
    "    )\n",
    "\n",
    "df = df.reset_index()"
   ]
  },
  {
   "cell_type": "code",
   "execution_count": 21,
   "metadata": {},
   "outputs": [
    {
     "data": {
      "text/html": [
       "<div>\n",
       "<style scoped>\n",
       "    .dataframe tbody tr th:only-of-type {\n",
       "        vertical-align: middle;\n",
       "    }\n",
       "\n",
       "    .dataframe tbody tr th {\n",
       "        vertical-align: top;\n",
       "    }\n",
       "\n",
       "    .dataframe thead th {\n",
       "        text-align: right;\n",
       "    }\n",
       "</style>\n",
       "<table border=\"1\" class=\"dataframe\">\n",
       "  <thead>\n",
       "    <tr style=\"text-align: right;\">\n",
       "      <th></th>\n",
       "      <th>cache_size</th>\n",
       "      <th>stride</th>\n",
       "      <th>avg_misses</th>\n",
       "      <th>avg_time</th>\n",
       "    </tr>\n",
       "  </thead>\n",
       "  <tbody>\n",
       "    <tr>\n",
       "      <th>0</th>\n",
       "      <td>8192</td>\n",
       "      <td>1</td>\n",
       "      <td>0.000090</td>\n",
       "      <td>0.004299</td>\n",
       "    </tr>\n",
       "    <tr>\n",
       "      <th>1</th>\n",
       "      <td>8192</td>\n",
       "      <td>2</td>\n",
       "      <td>0.000016</td>\n",
       "      <td>0.003986</td>\n",
       "    </tr>\n",
       "    <tr>\n",
       "      <th>2</th>\n",
       "      <td>8192</td>\n",
       "      <td>4</td>\n",
       "      <td>0.000001</td>\n",
       "      <td>0.002406</td>\n",
       "    </tr>\n",
       "    <tr>\n",
       "      <th>3</th>\n",
       "      <td>8192</td>\n",
       "      <td>8</td>\n",
       "      <td>0.000001</td>\n",
       "      <td>0.002403</td>\n",
       "    </tr>\n",
       "    <tr>\n",
       "      <th>4</th>\n",
       "      <td>8192</td>\n",
       "      <td>16</td>\n",
       "      <td>0.000000</td>\n",
       "      <td>0.002419</td>\n",
       "    </tr>\n",
       "  </tbody>\n",
       "</table>\n",
       "</div>"
      ],
      "text/plain": [
       "   cache_size  stride  avg_misses  avg_time\n",
       "0        8192       1    0.000090  0.004299\n",
       "1        8192       2    0.000016  0.003986\n",
       "2        8192       4    0.000001  0.002406\n",
       "3        8192       8    0.000001  0.002403\n",
       "4        8192      16    0.000000  0.002419"
      ]
     },
     "execution_count": 21,
     "metadata": {},
     "output_type": "execute_result"
    }
   ],
   "source": [
    "df_avg = (\n",
    "    df.groupby([\"cache_size\", \"stride\"], as_index=False).median().drop(\"index\", axis=1)\n",
    ")\n",
    "\n",
    "df_avg.head()"
   ]
  },
  {
   "cell_type": "code",
   "execution_count": 22,
   "metadata": {},
   "outputs": [
    {
     "data": {
      "image/png": "[encoded data removed]",
      "text/plain": [
       "<Figure size 640x480 with 1 Axes>"
      ]
     },
     "metadata": {},
     "output_type": "display_data"
    }
   ],
   "source": [
    "g_results = sns.lineplot(\n",
    "    data=df_avg, x=\"stride\", y=\"avg_misses\", hue=\"cache_size\", palette=\"deep\"\n",
    ")\n",
    "g_results.set_xscale(\"log\", base=2)\n",
    "g_results.set_xlabel(\"Strides (Bytes)\")\n",
    "g_results.set_ylabel(\"Average Misses\")\n",
    "g_results.get_legend().set_title(\"Cache Size (Bytes)\")"
   ]
  },
  {
   "cell_type": "markdown",
   "metadata": {},
   "source": [
    "c) By analyzing the obtained results:"
   ]
  },
  {
   "cell_type": "markdown",
   "metadata": {},
   "source": [
    "• Determine the size of the L2 cache. Justify your answer."
   ]
  },
  {
   "cell_type": "code",
   "execution_count": 23,
   "metadata": {},
   "outputs": [],
   "source": [
    "# DATA\n",
    "l2_max_cache_size = 1 << 8  # in KiB, the last line that doesn't have a miss rate of 1"
   ]
  },
  {
   "cell_type": "code",
   "execution_count": 24,
   "metadata": {},
   "outputs": [
    {
     "name": "stdout",
     "output_type": "stream",
     "text": [
      "L2 cache size = 256 KiB\n"
     ]
    }
   ],
   "source": [
    "print(f\"L2 cache size = {l2_max_cache_size} KiB\")"
   ]
  },
  {
   "cell_type": "markdown",
   "metadata": {},
   "source": [
    "> We can determine the cache size by looking at the plot and finding the greatest\n",
    "> test cache size that doesn't have a miss rate of 1 when it stabilizes.\n",
    "> In this case, the **brown line (256KiB)** is the size that matches this description."
   ]
  },
  {
   "cell_type": "markdown",
   "metadata": {},
   "source": [
    "• Determine the block size adopted in this cache. Justify your answer."
   ]
  },
  {
   "cell_type": "code",
   "execution_count": 25,
   "metadata": {},
   "outputs": [],
   "source": [
    "# DATA\n",
    "l2_block_size = 1 << 6  # in bytes; when the line gets flat"
   ]
  },
  {
   "cell_type": "code",
   "execution_count": 26,
   "metadata": {},
   "outputs": [
    {
     "name": "stdout",
     "output_type": "stream",
     "text": [
      "L2 block size = 64 B\n"
     ]
    }
   ],
   "source": [
    "print(f\"L2 block size = {l1_block_size} B\")"
   ]
  },
  {
   "cell_type": "markdown",
   "metadata": {},
   "source": [
    "> When stride is less than **64 Bytes**, the miss rate keeps increasing, which means\n",
    "> that there are some accesses that keep hitting the cache, that is, they are inside\n",
    "> the same block as the previous access.  \n",
    "> Once the plot flattens, it means we've broken outside the bounds of the block,\n",
    "> that is, sequential accesses are on different blocks.\n",
    "> For this reason, we know that the block size is **64 Bytes**."
   ]
  },
  {
   "cell_type": "markdown",
   "metadata": {},
   "source": [
    "• Characterize the associativity set size adopted in this cache. Justify your answer."
   ]
  },
  {
   "cell_type": "markdown",
   "metadata": {},
   "source": [
    "> // TODO!!  \n",
    "5 way"
   ]
  },
  {
   "cell_type": "markdown",
   "metadata": {},
   "source": [
    "### 3.2 Profiling and Optimizing Data Cache Accesses"
   ]
  },
  {
   "cell_type": "markdown",
   "metadata": {},
   "source": [
    "#### 3.2.1 Straightforward implementation"
   ]
  },
  {
   "cell_type": "markdown",
   "metadata": {},
   "source": [
    "a) Change to directory mm1/ and analyze de code of the program mm1.c. Identify its source code\n",
    "with the program described above.\n",
    "\n",
    "What is the total amount of memory that is required to accommodate each of these matrices?"
   ]
  },
  {
   "cell_type": "code",
   "execution_count": 27,
   "metadata": {},
   "outputs": [
    {
     "data": {
      "text/plain": [
       "2097152"
      ]
     },
     "execution_count": 27,
     "metadata": {},
     "output_type": "execute_result"
    }
   ],
   "source": [
    "1024 * 1024 * 2"
   ]
  },
  {
   "cell_type": "markdown",
   "metadata": {},
   "source": [
    "b) Compile the source file mm1.c using the provided Makefile and execute it. \n",
    "\n",
    "Fill the table with the obtained data."
   ]
  },
  {
   "cell_type": "code",
   "execution_count": 28,
   "metadata": {},
   "outputs": [
    {
     "data": {
      "text/plain": [
       "33295.450284"
      ]
     },
     "execution_count": 28,
     "metadata": {},
     "output_type": "execute_result"
    }
   ],
   "source": [
    "27922.538605 + 5372.911679"
   ]
  },
  {
   "cell_type": "markdown",
   "metadata": {},
   "source": [
    "|                                                       |     **Data**    |\n",
    "|-------------------------------------------------------|-----------------|\n",
    "| **Total number of L1 data cache misses**              |    $1073.613982 \\times 10^6$|\n",
    "|**Total number of load / store instructions completed**|    $33295.450284 \\times 10^6$|\n",
    "| **Total number of clock cycles**                      |    $21932.078232 \\times 10^6$|\n",
    "| **Elapsed time**                                      |      7.310727    seconds|"
   ]
  },
  {
   "cell_type": "markdown",
   "metadata": {},
   "source": [
    "c) Evaluate the resulting L1 data cache Hit-Rate."
   ]
  },
  {
   "cell_type": "code",
   "execution_count": 29,
   "metadata": {},
   "outputs": [
    {
     "data": {
      "text/plain": [
       "0.03224506570244287"
      ]
     },
     "execution_count": 29,
     "metadata": {},
     "output_type": "execute_result"
    }
   ],
   "source": [
    "1073.613982 / 33295.450284"
   ]
  },
  {
   "cell_type": "markdown",
   "metadata": {},
   "source": [
    "3,2% de data cache miss, as matrizes não cabem todss na L1."
   ]
  },
  {
   "cell_type": "markdown",
   "metadata": {},
   "source": [
    "### 3.2.2 First Optimization: Matrix transpose before multiplication [2]"
   ]
  },
  {
   "cell_type": "markdown",
   "metadata": {},
   "source": [
    "a) Change to directory mm2/ and analyze the code of the program mm2.c. Identify its source code\n",
    "with the program described above. Compile this program using the provided Makefile and execute it.\n",
    "\n",
    "Fill the table with the obtained data"
   ]
  },
  {
   "cell_type": "code",
   "execution_count": 30,
   "metadata": {},
   "outputs": [
    {
     "data": {
      "text/plain": [
       "4294.967451"
      ]
     },
     "execution_count": 30,
     "metadata": {},
     "output_type": "execute_result"
    }
   ],
   "source": [
    "3221.225575 + 1073.741876"
   ]
  },
  {
   "cell_type": "markdown",
   "metadata": {},
   "source": [
    "> TODO\n",
    "\n",
    "|                                                       |     **Data**    |\n",
    "|-------------------------------------------------------|-----------------|\n",
    "| **Total number of L1 data cache misses**              |    $33.635765 \\times 10^6$|\n",
    "|**Total number of load / store instructions completed**|    $4294.967451 \\times 10^6$|\n",
    "| **Total number of clock cycles**                      |    $4190.571197 \\times 10^6$|\n",
    "| **Elapsed time**                                      |       1.396863   seconds|"
   ]
  },
  {
   "cell_type": "markdown",
   "metadata": {},
   "source": [
    "b) Evaluate the resulting L1 data cache Hit-Rate."
   ]
  },
  {
   "cell_type": "code",
   "execution_count": 31,
   "metadata": {},
   "outputs": [
    {
     "data": {
      "text/plain": [
       "0.007831436532113547"
      ]
     },
     "execution_count": 31,
     "metadata": {},
     "output_type": "execute_result"
    }
   ],
   "source": [
    "33.635765 / 4294.967451"
   ]
  },
  {
   "cell_type": "markdown",
   "metadata": {},
   "source": [
    "0.7% de data cache misses"
   ]
  },
  {
   "cell_type": "markdown",
   "metadata": {},
   "source": [
    "c) Change the code in the program mm2.c in order to include the matrix transposition in the execution\n",
    "time. Compile this program using the provided Makefile and execute it.\n",
    "\n",
    "Fill the table with the obtained data.\n",
    "\n",
    "Comment on the obtained results when including the matrix transposition in the execution time."
   ]
  },
  {
   "cell_type": "code",
   "execution_count": 32,
   "metadata": {},
   "outputs": [
    {
     "data": {
      "text/plain": [
       "138.434169"
      ]
     },
     "execution_count": 32,
     "metadata": {},
     "output_type": "execute_result"
    }
   ],
   "source": [
    "4.216389 + 134.217780"
   ]
  },
  {
   "cell_type": "markdown",
   "metadata": {},
   "source": [
    "> TODO\n",
    "\n",
    "|                                                       |     **Data**    |\n",
    "|-------------------------------------------------------|-----------------|\n",
    "| **Total number of L1 data cache misses**              |    $4.216389 \\times 10^6$|\n",
    "|**Total number of load / store instructions completed**|    $138.434169 \\times 10^6$|\n",
    "| **Total number of clock cycles**                      |    $613.837153 \\times 10^6$|\n",
    "| **Elapsed time**                                      |        0.204612  seconds|"
   ]
  },
  {
   "cell_type": "code",
   "execution_count": 33,
   "metadata": {},
   "outputs": [
    {
     "data": {
      "text/plain": [
       "0.0304577188598575"
      ]
     },
     "execution_count": 33,
     "metadata": {},
     "output_type": "execute_result"
    }
   ],
   "source": [
    "4.216389 / 138.434169"
   ]
  },
  {
   "cell_type": "markdown",
   "metadata": {},
   "source": [
    "3% de data cache miss"
   ]
  },
  {
   "cell_type": "markdown",
   "metadata": {},
   "source": [
    "d) Compare the obtained results with those that were obtained for the straightforward implementation,\n",
    "by calculating the difference of the resulting hit-rates (∆HitRate) and the obtained speedups."
   ]
  },
  {
   "cell_type": "code",
   "execution_count": 34,
   "metadata": {},
   "outputs": [
    {
     "data": {
      "text/plain": [
       "0.022626282327743955"
      ]
     },
     "execution_count": 34,
     "metadata": {},
     "output_type": "execute_result"
    }
   ],
   "source": [
    "0.0304577188598575 - 0.007831436532113547"
   ]
  },
  {
   "cell_type": "code",
   "execution_count": 35,
   "metadata": {},
   "outputs": [
    {
     "data": {
      "text/plain": [
       "6.826845160022435"
      ]
     },
     "execution_count": 35,
     "metadata": {},
     "output_type": "execute_result"
    }
   ],
   "source": [
    "4190.571197 / 613.837153"
   ]
  },
  {
   "cell_type": "code",
   "execution_count": 36,
   "metadata": {},
   "outputs": [
    {
     "data": {
      "text/plain": [
       "6.826886986100522"
      ]
     },
     "execution_count": 36,
     "metadata": {},
     "output_type": "execute_result"
    }
   ],
   "source": [
    "1.396863 / 0.204612"
   ]
  },
  {
   "cell_type": "markdown",
   "metadata": {},
   "source": [
    "|                                                       |     **Data**    |\n",
    "|-------------------------------------------------------|-----------------|\n",
    "| **$\\Delta$ Hit Rate = HitRate mm2 - HitRate mm1**              |    0.022626282327743955|\n",
    "|**Speedup(#Clocks) = #Clocks mm1 / #Clocks mm2**|    6.826845160022435|\n",
    "| **Speedup(Time) = Time mm1 / Time mm2**                      |    6.826886986100522|\n"
   ]
  },
  {
   "cell_type": "markdown",
   "metadata": {},
   "source": [
    "> TODO"
   ]
  },
  {
   "cell_type": "markdown",
   "metadata": {},
   "source": [
    "### 3.2.3 Second Optimization: Blocked (tiled) matrix multiply [2"
   ]
  },
  {
   "cell_type": "markdown",
   "metadata": {},
   "source": [
    "a) Change to directory mm3/ and analyze the code of the program mm3.c. Identify its source code\n",
    "with the program described above.\n",
    "\n",
    "Change the program source code in order to comply the algorithm parameterization (sub-matrix\n",
    "line size) with the block size (CLS) that was determined in Section 3.1.\n",
    "\n",
    "How many matrix elements can be accommodated in each cache line?"
   ]
  },
  {
   "cell_type": "markdown",
   "metadata": {},
   "source": [
    "> TODO"
   ]
  },
  {
   "cell_type": "markdown",
   "metadata": {},
   "source": [
    "b) Compile this program using the provided Makefile and execute it. \n",
    "\n",
    "Fill the table with the obtained data"
   ]
  },
  {
   "cell_type": "markdown",
   "metadata": {},
   "source": [
    "> TODO\n",
    "\n",
    "|                                                       |     **Data**    |\n",
    "|-------------------------------------------------------|-----------------|\n",
    "| **Total number of L1 data cache misses**              |    $\\times 10^6$|\n",
    "|**Total number of load / store instructions completed**|    $\\times 10^6$|\n",
    "| **Total number of clock cycles**                      |    $\\times 10^6$|\n",
    "| **Elapsed time**                                      |          seconds|"
   ]
  },
  {
   "cell_type": "markdown",
   "metadata": {},
   "source": [
    "c) Evaluate the resulting L1 data cache Hit-Rate."
   ]
  },
  {
   "cell_type": "markdown",
   "metadata": {},
   "source": [
    "> TODO"
   ]
  },
  {
   "cell_type": "markdown",
   "metadata": {},
   "source": [
    "d) Compare the obtained results with those that were obtained for the straightforward implementation,\n",
    "by calculating the difference of the resulting hit-rates (∆HitRate) and the obtained speedup."
   ]
  },
  {
   "cell_type": "markdown",
   "metadata": {},
   "source": [
    "> TODO"
   ]
  },
  {
   "cell_type": "markdown",
   "metadata": {},
   "source": [
    "e) Compare the obtained results with those that were obtained for the matrix transpose implementation by calculating the difference of the resulting hit-rates (∆HitRate) and the obtained speedup.\n",
    "\n",
    "If the obtained speedup is positive, but the difference of the resulting hit-rates is negative, how\n",
    "do you explain the performance improvement? \n",
    "\n",
    "(Hint: study the hit-rates of the L2 cache for both\n",
    "implementations; You may use the following PAPI events PAPI_L2_DCH (or PAPI_L2_DCM)\n",
    "and PAPI_L2_DCA. Run papi_avail to check for available events and understand their meaning.)"
   ]
  },
  {
   "cell_type": "markdown",
   "metadata": {},
   "source": [
    "> TODO"
   ]
  }
 ],
 "metadata": {
  "kernelspec": {
   "display_name": "Python 3.10.7 64-bit",
   "language": "python",
   "name": "python3"
  },
  "language_info": {
   "codemirror_mode": {
    "name": "ipython",
    "version": 3
   },
   "file_extension": ".py",
   "mimetype": "text/x-python",
   "name": "python",
   "nbconvert_exporter": "python",
   "pygments_lexer": "ipython3",
   "version": "3.10.7"
  },
  "vscode": {
   "interpreter": {
    "hash": "e7370f93d1d0cde622a1f8e1c04877d8463912d04d973331ad4851f04de6915a"
   }
  }
 },
 "nbformat": 4,
 "nbformat_minor": 2
}
