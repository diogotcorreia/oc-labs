{
 "cells": [
  {
   "cell_type": "markdown",
   "metadata": {},
   "source": [
    "# 2 - Exercise"
   ]
  },
  {
   "cell_type": "markdown",
   "metadata": {},
   "source": [
    "### 1. What is the cache capacity of the computer you used (please write the workstation name)?"
   ]
  },
  {
   "cell_type": "markdown",
   "metadata": {},
   "source": [
    "lab6p1 ([i5-8500](https://www.cpu-world.com/CPUs/Core_i5/Intel-Core%20i5%20i5-8500.html))\n",
    "\n",
    "`lscpu`\n",
    "\n",
    "L1d cache:                       192 KiB\n",
    "L1i cache:                       192 KiB\n",
    "L2 cache:                        1.5 MiB\n",
    "L3 cache:                        9 MiB\n",
    "\n",
    "| **Array Size**        | 4k |8k | 16k | 32k|64k |  128k | 256k  | 512k  |  1024k | 2048k | 4096k |\n",
    "|-----------------------|-|--|-|-|-|-------|-------|-------|--------|-------|-------|\n",
    "| **t2-t1**             | 0.000930| 0.001814 |0.003572 |0.007087 |0.013366 |   0.026765    |   0.053982    |   0.107694    |    0.215276   |   0.430951  |   0.863898    |\n",
    "| **# accesses a[i]**   |400 | 800 |1600 | 3200|6400 |   12800    |   25600    |    51200   |    102400    |    204800   |    409600   |\n",
    "| **# mean access time**| 0.000002325 | 0.000002268 | 0.000002232 | 0.000002215| 0.000002088|   0.000002091    |   0.000002109    |   0.000002103    |    0.000002102    |    0,000002104   |    0.000002109   |"
   ]
  },
  {
   "cell_type": "code",
   "execution_count": null,
   "metadata": {},
   "outputs": [],
   "source": [
    "from itertools import count\n",
    "from math import log2\n",
    "\n",
    "\n",
    "memo_num_accesses = {}\n",
    "\n",
    "\n",
    "def num_accesses(array_size):\n",
    "    \"\"\"Array size in KiB\"\"\"\n",
    "\n",
    "    key = array_size\n",
    "    if key in memo_num_accesses:\n",
    "        return memo_num_accesses[key]\n",
    "\n",
    "    array_size = array_size << 10\n",
    "\n",
    "    N_REPETITIONS = 100\n",
    "\n",
    "    STRIDE_MAX = 2\n",
    "\n",
    "    counter = 0\n",
    "    stride = 1\n",
    "\n",
    "    for stride in range(1, STRIDE_MAX, stride):\n",
    "\n",
    "        limit = array_size - stride + 1\n",
    "\n",
    "        # warm up\n",
    "        ## for i in range(0, limit, stride ):\n",
    "        ## counter+= 1\n",
    "\n",
    "        # main loop\n",
    "        for repeat in range(0, N_REPETITIONS * stride):\n",
    "            counter += (limit - 0) / stride\n",
    "\n",
    "    counter = int(counter)\n",
    "    memo_num_accesses[key] = counter\n",
    "\n",
    "    return counter\n",
    "\n",
    "\n",
    "for size in range(2, 13):\n",
    "    size_kb = 1 << size\n",
    "    print(f\"{size_kb: >4} KiB\\t{num_accesses(size_kb)}\")"
   ]
  },
  {
   "cell_type": "code",
   "execution_count": null,
   "metadata": {},
   "outputs": [],
   "source": [
    "import pandas as pd"
   ]
  },
  {
   "cell_type": "code",
   "execution_count": null,
   "metadata": {},
   "outputs": [],
   "source": [
    "df = pd.DataFrame()\n",
    "for i in range(8):\n",
    "    df = pd.concat((df, pd.read_csv(f\"./data/spark{i:0>2}.tsv\", delimiter=\"\\t\")))\n",
    "\n",
    "df = df.reset_index()"
   ]
  },
  {
   "cell_type": "code",
   "execution_count": null,
   "metadata": {},
   "outputs": [],
   "source": [
    "df_avg = df.groupby([\"size\", \"stride\"], as_index=False).mean().drop(\"index\", axis=1)\n",
    "\n",
    "df_avg"
   ]
  },
  {
   "cell_type": "code",
   "execution_count": null,
   "metadata": {},
   "outputs": [],
   "source": [
    "df_avg[\"accesses\"] = df_avg[\"size\"].apply(lambda x: num_accesses(x >> 10))\n",
    "df_avg[\"mean_access_time\"] = df_avg[\"elapsed(s)\"] / df_avg[\"accesses\"]"
   ]
  },
  {
   "cell_type": "code",
   "execution_count": null,
   "metadata": {},
   "outputs": [],
   "source": [
    "df_avg[df_avg[\"stride\"] == 1].sort_values(\"size\")"
   ]
  },
  {
   "cell_type": "markdown",
   "metadata": {},
   "source": [
    "### 2. What is the cache capacity of the computer?"
   ]
  },
  {
   "cell_type": "markdown",
   "metadata": {},
   "source": [
    "64k * 4 = 256kb"
   ]
  },
  {
   "cell_type": "markdown",
   "metadata": {},
   "source": [
    "### 3. What is the size of each cache block?"
   ]
  },
  {
   "cell_type": "markdown",
   "metadata": {},
   "source": [
    "8 ou 16 ) *4 = kb"
   ]
  },
  {
   "cell_type": "markdown",
   "metadata": {},
   "source": [
    "### 4. What is the L1 cache miss penalty time?"
   ]
  },
  {
   "cell_type": "code",
   "execution_count": null,
   "metadata": {},
   "outputs": [],
   "source": [
    "1000 - 360"
   ]
  },
  {
   "cell_type": "markdown",
   "metadata": {},
   "source": [
    "# 3 - Procedure"
   ]
  },
  {
   "cell_type": "markdown",
   "metadata": {},
   "source": [
    "### 3.1 Modeling Computer Caches\n",
    "In the first part of this assignment, the goal is to model the characteristics of the L1 data cache and L2\n",
    "cache of the targeted computer platform. Next, we provide instructions for performing this analysis.\n",
    "Use the forms at the end to answer the questions below."
   ]
  },
  {
   "cell_type": "markdown",
   "metadata": {},
   "source": [
    "#### 3.1.1 Modeling the L1 Data Cache"
   ]
  },
  {
   "cell_type": "markdown",
   "metadata": {},
   "source": [
    "a) Change to directory cm1/, in the package lab2_kit.zip, and analyze de code of the program\n",
    "cm1.c. Identify its source code with the program described above.\n",
    "\n",
    "What are the processor events that will be analyzed during its execution? Explain their meaning."
   ]
  },
  {
   "cell_type": "markdown",
   "metadata": {},
   "source": [
    "> The event analized in the `cm1.c` program is `PAPI_L1_DCM`, which means, \"L1 Data Cache Misses\".  \n",
    "> This means that we will analize how many data cache misses, that is, how many times we tried to fetch data that was not in the L1 cache, during the execution of the program."
   ]
  },
  {
   "cell_type": "markdown",
   "metadata": {},
   "source": [
    "b) Compile the program cm1.c using the provided Makefile and execute cm1. \n",
    "\n",
    "Plot the variation of\n",
    "the average number of misses (Avg Misses) with the stride size, for each considered dimension\n",
    "of the L1 data cache (8kB, 16kB, 32kB and 64kB).\n",
    "\n",
    "Note that, you may fill these tables and graphics (as well as the following ones in this report)\n",
    "on your computer and submit the printed version.\n",
    "\n",
    "NOTE: A fast sketch of these plots can be drawn in your computer by running the following commands:\n",
    "./cm1 > cm1.out\n",
    "./cm1_proc.sh\n",
    "\n",
    "NOTE 2: You can draw these tables and plots on your computer, print, and attach to the report. You do not have to fill them by hand on the printed report.\n",
    "\n",
    "NOTE 3: You may need to mark the script as executable before being able to run it."
   ]
  },
  {
   "cell_type": "code",
   "execution_count": null,
   "metadata": {},
   "outputs": [],
   "source": [
    "def strip_labels(val):\n",
    "    value = val.split(\"=\")[1]\n",
    "    return float(value) if \".\" in value else int(value)\n",
    "\n",
    "\n",
    "df = pd.DataFrame()\n",
    "for i in range(10):\n",
    "    df = pd.concat(\n",
    "        (\n",
    "            df,\n",
    "            pd.read_csv(\n",
    "                f\"./data/cm1_data{i:0>2}.tsv\",\n",
    "                delimiter=\"\\t\",\n",
    "                names=[\"cache_size\", \"stride\", \"avg_misses\", \"avg_time\"],\n",
    "                converters={\n",
    "                    \"cache_size\": strip_labels,\n",
    "                    \"stride\": strip_labels,\n",
    "                    \"avg_misses\": strip_labels,\n",
    "                    \"avg_time\": strip_labels,\n",
    "                },\n",
    "            ),\n",
    "        )\n",
    "    )\n",
    "\n",
    "df = df.reset_index()"
   ]
  },
  {
   "cell_type": "code",
   "execution_count": null,
   "metadata": {},
   "outputs": [],
   "source": [
    "df_avg = (\n",
    "    df.groupby([\"cache_size\", \"stride\"], as_index=False).median().drop(\"index\", axis=1)\n",
    ")\n",
    "\n",
    "df_avg.head()"
   ]
  },
  {
   "cell_type": "code",
   "execution_count": null,
   "metadata": {},
   "outputs": [],
   "source": [
    "import drawSvg as draw"
   ]
  },
  {
   "cell_type": "code",
   "execution_count": null,
   "metadata": {},
   "outputs": [],
   "source": [
    "d = draw.Drawing(300, 320)\n",
    "\n",
    "for y, i in zip(range(310, 40, -10), range(0, 27)):\n",
    "    d.append(\n",
    "        draw.Text(\n",
    "            f\"{df_avg['avg_misses'][i]:.6f}\", 8, 0, y, style=\"font-family: 'monospace'\"\n",
    "        )\n",
    "    )\n",
    "\n",
    "for y, i in zip(range(310, 40, -10), range(0, 27)):\n",
    "    d.append(\n",
    "        draw.Text(\n",
    "            f\"{df_avg['avg_time'][i]:.6f}\",\n",
    "            8,\n",
    "            0 + 50,\n",
    "            y,\n",
    "            style=\"font-family: 'monospace'\",\n",
    "        )\n",
    "    )\n",
    "\n",
    "for y, i in zip(range(310, 0, -10), range(27, 58)):\n",
    "    d.append(\n",
    "        draw.Text(\n",
    "            f\"{df_avg['avg_misses'][i]:.6f}\",\n",
    "            8,\n",
    "            183,\n",
    "            y,\n",
    "            style=\"font-family: 'monospace'\",\n",
    "        )\n",
    "    )\n",
    "\n",
    "for y, i in zip(range(310, 0, -10), range(27, 58)):\n",
    "    d.append(\n",
    "        draw.Text(\n",
    "            f\"{df_avg['avg_time'][i]:.6f}\",\n",
    "            8,\n",
    "            183 + 50,\n",
    "            y,\n",
    "            style=\"font-family: 'monospace'\",\n",
    "        )\n",
    "    )\n",
    "\n",
    "d.setPixelScale(1.76)\n",
    "\n",
    "d"
   ]
  },
  {
   "cell_type": "code",
   "execution_count": null,
   "metadata": {},
   "outputs": [],
   "source": [
    "import seaborn as sns\n",
    "import matplotlib as mpl"
   ]
  },
  {
   "cell_type": "code",
   "execution_count": null,
   "metadata": {},
   "outputs": [],
   "source": [
    "g_results = sns.lineplot(\n",
    "    data=df_avg, x=\"stride\", y=\"avg_misses\", hue=\"cache_size\", palette=\"deep\"\n",
    ")\n",
    "g_results.set_xscale(\"log\", base=2)\n",
    "g_results.set_xlabel(\"Strides (Bytes)\")\n",
    "g_results.set_ylabel(\"Average Misses\")\n",
    "g_results.get_legend().set_title(\"Cache Size (Bytes)\")"
   ]
  },
  {
   "cell_type": "markdown",
   "metadata": {},
   "source": [
    "c) By analyzing the obtained results:"
   ]
  },
  {
   "cell_type": "markdown",
   "metadata": {},
   "source": [
    "• Determine the **size** of the L1 data cache. Justify your answer."
   ]
  },
  {
   "cell_type": "code",
   "execution_count": null,
   "metadata": {},
   "outputs": [],
   "source": [
    "# DATA\n",
    "l1_max_cache_size = 1 << 5  # in KiB, the last line that stays flat"
   ]
  },
  {
   "cell_type": "code",
   "execution_count": null,
   "metadata": {},
   "outputs": [],
   "source": [
    "print(f\"L1 cache size = {l1_max_cache_size} KiB\")"
   ]
  },
  {
   "cell_type": "markdown",
   "metadata": {},
   "source": [
    "> We can determine the cache size by looking at the plot and finding the greatest\n",
    "> test cache size that always has \"average misses\" as zero.\n",
    "> In this case, the **green line (32KiB)** is the size that matches this description.\n",
    "> It has a small bump at stride 2^7, but it can be ignored due to the cache being occupied by other data from the program."
   ]
  },
  {
   "cell_type": "markdown",
   "metadata": {},
   "source": [
    "• Determine the **block size** adopted in this cache. Justify your answer."
   ]
  },
  {
   "cell_type": "code",
   "execution_count": null,
   "metadata": {},
   "outputs": [],
   "source": [
    "# DATA\n",
    "l1_block_size = 1 << 6  # in bytes; when the line gets flat"
   ]
  },
  {
   "cell_type": "code",
   "execution_count": null,
   "metadata": {},
   "outputs": [],
   "source": [
    "print(f\"L1 block size = {l1_block_size} B\")"
   ]
  },
  {
   "cell_type": "markdown",
   "metadata": {},
   "source": [
    "> When stride is less than **64 Bytes**, the miss rate keeps increasing, which means\n",
    "> that there are some accesses that keep hitting the cache, that is, they are inside\n",
    "> the same block as the previous access.  \n",
    "> Once the plot flattens, it means we've broken outside the bounds of the block,\n",
    "> that is, sequential accesses are on different blocks.\n",
    "> For this reason, we know that the block size is **64 Bytes**."
   ]
  },
  {
   "cell_type": "markdown",
   "metadata": {},
   "source": [
    "• Characterize the **associativity set size** adopted in this cache. Justify your answer."
   ]
  },
  {
   "cell_type": "code",
   "execution_count": null,
   "metadata": {},
   "outputs": [],
   "source": [
    "# DATA\n",
    "l1_first_back_to_zero = (\n",
    "    13  # first stride where cache miss of largest cache (2^16) goes back to zero\n",
    ")"
   ]
  },
  {
   "cell_type": "code",
   "execution_count": null,
   "metadata": {},
   "outputs": [],
   "source": [
    "l1_associativity_set_size = 1 << (16 - l1_first_back_to_zero)\n",
    "\n",
    "print(f\"L1 associativity set size = {l1_associativity_set_size}\")"
   ]
  },
  {
   "cell_type": "markdown",
   "metadata": {},
   "source": [
    "To determine the associativity set size, we have to analyze in which stride size\n",
    "the miss rate decreases back to zero for the largest cache (that is, red line **64KiB**).\n",
    "Because the stride determines how many blocks of array data we're going to access, we\n",
    "know that for a stride of 2^15 (the maximum for this array size) we're only going\n",
    "to access 2 different blocks of this cache. If the cache is, at least, 2-way associative,\n",
    "we're going to have a near-zero miss rate.  \n",
    "If we repeat this process for lower strides, we notice that for 2^14 and 2^13 the\n",
    "miss rate is also near-zero. This must mean the cache is, at least, 4-way or 8-way associative,\n",
    "respectively.\n",
    "For a lower stride of 2^12, this is no longer the case, so we must have surpassed\n",
    "the number of ways of our cache.\n",
    "\n",
    "Therefore, the associativity set size must be 8."
   ]
  },
  {
   "cell_type": "markdown",
   "metadata": {},
   "source": [
    "#### 3.1.2 Modeling the L2 Cache\n",
    "In this part of the assignment, the goal is to experimentally model the characteristics of the L2 cache of the targeted computer platform. To analyze the computer’s L2 cache, we will use the same methodology that was introduced in the previous section to model the L1 data cache."
   ]
  },
  {
   "cell_type": "markdown",
   "metadata": {},
   "source": [
    "a) Modify the program cm1.c in order to analyze the characteristics of the L2 cache. (Hint: use the\n",
    "event PAPI_L2_DCM.)\n",
    "\n",
    "_Describe and justify the changes introduced in this program._"
   ]
  },
  {
   "cell_type": "markdown",
   "metadata": {},
   "source": [
    "> We've changed two things:\n",
    "> - the PAPI event, which we've changed from `PAPI_L1_DCM` to `PAPI_L2_DCM`,\n",
    ">   since we want to measure the miss rate of the L2 cache now.\n",
    "> - the `CACHE_MAX` value has been increased to 1MiB, since the L2 is much larger than the L1."
   ]
  },
  {
   "cell_type": "markdown",
   "metadata": {},
   "source": [
    "b) Compile the program cm1.c, execute cm1, and plot the variation of the average number of misses\n",
    "(Avg Misses) with the stride size, for each considered dimension of the L2 cache."
   ]
  },
  {
   "cell_type": "code",
   "execution_count": null,
   "metadata": {},
   "outputs": [],
   "source": [
    "def strip_labels(val):\n",
    "    value = val.split(\"=\")[1]\n",
    "    return float(value) if \".\" in value else int(value)\n",
    "\n",
    "\n",
    "df = pd.DataFrame()\n",
    "for i in range(1):\n",
    "    df = pd.concat(\n",
    "        (\n",
    "            df,\n",
    "            pd.read_csv(\n",
    "                f\"./data/cm1_l2_data{i:0>2}.tsv\",\n",
    "                delimiter=\"\\t\",\n",
    "                names=[\"cache_size\", \"stride\", \"avg_misses\", \"avg_time\"],\n",
    "                converters={\n",
    "                    \"cache_size\": strip_labels,\n",
    "                    \"stride\": strip_labels,\n",
    "                    \"avg_misses\": strip_labels,\n",
    "                    \"avg_time\": strip_labels,\n",
    "                },\n",
    "            ),\n",
    "        )\n",
    "    )\n",
    "\n",
    "df = df.reset_index()"
   ]
  },
  {
   "cell_type": "code",
   "execution_count": null,
   "metadata": {},
   "outputs": [],
   "source": [
    "df_avg = (\n",
    "    df.groupby([\"cache_size\", \"stride\"], as_index=False).median().drop(\"index\", axis=1)\n",
    ")\n",
    "\n",
    "df_avg.head()"
   ]
  },
  {
   "cell_type": "code",
   "execution_count": null,
   "metadata": {},
   "outputs": [],
   "source": [
    "g_results = sns.lineplot(\n",
    "    data=df_avg, x=\"stride\", y=\"avg_misses\", hue=\"cache_size\", palette=\"deep\"\n",
    ")\n",
    "g_results.set_xscale(\"log\", base=2)\n",
    "g_results.set_xlabel(\"Strides (Bytes)\")\n",
    "g_results.set_ylabel(\"Average Misses\")\n",
    "g_results.get_legend().set_title(\"Cache Size (Bytes)\")"
   ]
  },
  {
   "cell_type": "markdown",
   "metadata": {},
   "source": [
    "c) By analyzing the obtained results:"
   ]
  },
  {
   "cell_type": "markdown",
   "metadata": {},
   "source": [
    "• Determine the size of the L2 cache. Justify your answer."
   ]
  },
  {
   "cell_type": "code",
   "execution_count": null,
   "metadata": {},
   "outputs": [],
   "source": [
    "# DATA\n",
    "l2_max_cache_size = 1 << 8  # in KiB, the last line that doesn't have a miss rate of 1"
   ]
  },
  {
   "cell_type": "code",
   "execution_count": null,
   "metadata": {},
   "outputs": [],
   "source": [
    "print(f\"L2 cache size = {l2_max_cache_size} KiB\")"
   ]
  },
  {
   "cell_type": "markdown",
   "metadata": {},
   "source": [
    "> We can determine the cache size by looking at the plot and finding the greatest\n",
    "> test cache size that doesn't have a miss rate of 1 when it stabilizes.\n",
    "> In this case, the **brown line (256KiB)** is the size that matches this description."
   ]
  },
  {
   "cell_type": "markdown",
   "metadata": {},
   "source": [
    "• Determine the block size adopted in this cache. Justify your answer."
   ]
  },
  {
   "cell_type": "code",
   "execution_count": null,
   "metadata": {},
   "outputs": [],
   "source": [
    "# DATA\n",
    "l2_block_size = 1 << 6  # in bytes; when the line gets flat"
   ]
  },
  {
   "cell_type": "code",
   "execution_count": null,
   "metadata": {},
   "outputs": [],
   "source": [
    "print(f\"L2 block size = {l1_block_size} B\")"
   ]
  },
  {
   "cell_type": "markdown",
   "metadata": {},
   "source": [
    "> When stride is less than **64 Bytes**, the miss rate keeps increasing, which means\n",
    "> that there are some accesses that keep hitting the cache, that is, they are inside\n",
    "> the same block as the previous access.  \n",
    "> Once the plot flattens, it means we've broken outside the bounds of the block,\n",
    "> that is, sequential accesses are on different blocks.\n",
    "> For this reason, we know that the block size is **64 Bytes**."
   ]
  },
  {
   "cell_type": "markdown",
   "metadata": {},
   "source": [
    "• Characterize the associativity set size adopted in this cache. Justify your answer."
   ]
  },
  {
   "cell_type": "markdown",
   "metadata": {},
   "source": [
    "> // TODO!!  \n",
    "5 way"
   ]
  },
  {
   "cell_type": "markdown",
   "metadata": {},
   "source": [
    "### 3.2 Profiling and Optimizing Data Cache Accesses"
   ]
  },
  {
   "cell_type": "markdown",
   "metadata": {},
   "source": [
    "#### 3.2.1 Straightforward implementation"
   ]
  },
  {
   "cell_type": "markdown",
   "metadata": {},
   "source": [
    "a) Change to directory mm1/ and analyze de code of the program mm1.c. Identify its source code\n",
    "with the program described above.\n",
    "\n",
    "What is the total amount of memory that is required to accommodate each of these matrices?"
   ]
  },
  {
   "cell_type": "code",
   "execution_count": null,
   "metadata": {},
   "outputs": [],
   "source": [
    "1024 * 1024 * 2"
   ]
  },
  {
   "cell_type": "markdown",
   "metadata": {},
   "source": [
    "b) Compile the source file mm1.c using the provided Makefile and execute it. \n",
    "\n",
    "Fill the table with the obtained data."
   ]
  },
  {
   "cell_type": "code",
   "execution_count": null,
   "metadata": {},
   "outputs": [],
   "source": [
    "27922.538605 + 5372.911679"
   ]
  },
  {
   "cell_type": "markdown",
   "metadata": {},
   "source": [
    "|                                                       |     **Data**    |\n",
    "|-------------------------------------------------------|-----------------|\n",
    "| **Total number of L1 data cache misses**              |    $1073.613982 \\times 10^6$|\n",
    "|**Total number of load / store instructions completed**|    $33295.450284 \\times 10^6$|\n",
    "| **Total number of clock cycles**                      |    $21932.078232 \\times 10^6$|\n",
    "| **Elapsed time**                                      |      7.310727    seconds|"
   ]
  },
  {
   "cell_type": "markdown",
   "metadata": {},
   "source": [
    "c) Evaluate the resulting L1 data cache Hit-Rate."
   ]
  },
  {
   "cell_type": "code",
   "execution_count": null,
   "metadata": {},
   "outputs": [],
   "source": [
    "1073.613982 / 33295.450284"
   ]
  },
  {
   "cell_type": "markdown",
   "metadata": {},
   "source": [
    "3,2% de data cache miss, as matrizes não cabem todss na L1."
   ]
  },
  {
   "cell_type": "markdown",
   "metadata": {},
   "source": [
    "### 3.2.2 First Optimization: Matrix transpose before multiplication [2]"
   ]
  },
  {
   "cell_type": "markdown",
   "metadata": {},
   "source": [
    "a) Change to directory mm2/ and analyze the code of the program mm2.c. Identify its source code\n",
    "with the program described above. Compile this program using the provided Makefile and execute it.\n",
    "\n",
    "Fill the table with the obtained data"
   ]
  },
  {
   "cell_type": "code",
   "execution_count": null,
   "metadata": {},
   "outputs": [],
   "source": [
    "3221.225575 + 1073.741876"
   ]
  },
  {
   "cell_type": "markdown",
   "metadata": {},
   "source": [
    "> TODO\n",
    "\n",
    "|                                                       |     **Data**    |\n",
    "|-------------------------------------------------------|-----------------|\n",
    "| **Total number of L1 data cache misses**              |    $33.635765 \\times 10^6$|\n",
    "|**Total number of load / store instructions completed**|    $4294.967451 \\times 10^6$|\n",
    "| **Total number of clock cycles**                      |    $4190.571197 \\times 10^6$|\n",
    "| **Elapsed time**                                      |       1.396863   seconds|"
   ]
  },
  {
   "cell_type": "markdown",
   "metadata": {},
   "source": [
    "b) Evaluate the resulting L1 data cache Hit-Rate."
   ]
  },
  {
   "cell_type": "code",
   "execution_count": null,
   "metadata": {},
   "outputs": [],
   "source": [
    "33.635765 / 4294.967451"
   ]
  },
  {
   "cell_type": "markdown",
   "metadata": {},
   "source": [
    "0.7% de data cache misses"
   ]
  },
  {
   "cell_type": "markdown",
   "metadata": {},
   "source": [
    "c) Change the code in the program mm2.c in order to include the matrix transposition in the execution\n",
    "time. Compile this program using the provided Makefile and execute it.\n",
    "\n",
    "Fill the table with the obtained data.\n",
    "\n",
    "Comment on the obtained results when including the matrix transposition in the execution time."
   ]
  },
  {
   "cell_type": "code",
   "execution_count": null,
   "metadata": {},
   "outputs": [],
   "source": [
    "4.216389 + 134.217780"
   ]
  },
  {
   "cell_type": "markdown",
   "metadata": {},
   "source": [
    "> TODO\n",
    "\n",
    "|                                                       |     **Data**    |\n",
    "|-------------------------------------------------------|-----------------|\n",
    "| **Total number of L1 data cache misses**              |    $4.216389 \\times 10^6$|\n",
    "|**Total number of load / store instructions completed**|    $138.434169 \\times 10^6$|\n",
    "| **Total number of clock cycles**                      |    $613.837153 \\times 10^6$|\n",
    "| **Elapsed time**                                      |        0.204612  seconds|"
   ]
  },
  {
   "cell_type": "code",
   "execution_count": null,
   "metadata": {},
   "outputs": [],
   "source": [
    "4.216389 / 138.434169"
   ]
  },
  {
   "cell_type": "markdown",
   "metadata": {},
   "source": [
    "3% de data cache miss"
   ]
  },
  {
   "cell_type": "markdown",
   "metadata": {},
   "source": [
    "d) Compare the obtained results with those that were obtained for the straightforward implementation,\n",
    "by calculating the difference of the resulting hit-rates (∆HitRate) and the obtained speedups."
   ]
  },
  {
   "cell_type": "code",
   "execution_count": null,
   "metadata": {},
   "outputs": [],
   "source": [
    "0.0304577188598575 - 0.007831436532113547"
   ]
  },
  {
   "cell_type": "code",
   "execution_count": null,
   "metadata": {},
   "outputs": [],
   "source": [
    "4190.571197 / 613.837153"
   ]
  },
  {
   "cell_type": "code",
   "execution_count": null,
   "metadata": {},
   "outputs": [],
   "source": [
    "1.396863 / 0.204612"
   ]
  },
  {
   "cell_type": "markdown",
   "metadata": {},
   "source": [
    "|                                                       |     **Data**    |\n",
    "|-------------------------------------------------------|-----------------|\n",
    "| **$\\Delta$ Hit Rate = HitRate mm2 - HitRate mm1**              |    0.022626282327743955|\n",
    "|**Speedup(#Clocks) = #Clocks mm1 / #Clocks mm2**|    6.826845160022435|\n",
    "| **Speedup(Time) = Time mm1 / Time mm2**                      |    6.826886986100522|\n"
   ]
  },
  {
   "cell_type": "markdown",
   "metadata": {},
   "source": [
    "> TODO"
   ]
  },
  {
   "cell_type": "markdown",
   "metadata": {},
   "source": [
    "### 3.2.3 Second Optimization: Blocked (tiled) matrix multiply [2"
   ]
  },
  {
   "cell_type": "markdown",
   "metadata": {},
   "source": [
    "a) Change to directory mm3/ and analyze the code of the program mm3.c. Identify its source code\n",
    "with the program described above.\n",
    "\n",
    "Change the program source code in order to comply the algorithm parameterization (sub-matrix\n",
    "line size) with the block size (CLS) that was determined in Section 3.1.\n",
    "\n",
    "How many matrix elements can be accommodated in each cache line?"
   ]
  },
  {
   "cell_type": "markdown",
   "metadata": {},
   "source": [
    "> TODO"
   ]
  },
  {
   "cell_type": "markdown",
   "metadata": {},
   "source": [
    "b) Compile this program using the provided Makefile and execute it. \n",
    "\n",
    "Fill the table with the obtained data"
   ]
  },
  {
   "cell_type": "markdown",
   "metadata": {},
   "source": [
    "> TODO\n",
    "\n",
    "|                                                       |     **Data**    |\n",
    "|-------------------------------------------------------|-----------------|\n",
    "| **Total number of L1 data cache misses**              |    $\\times 10^6$|\n",
    "|**Total number of load / store instructions completed**|    $\\times 10^6$|\n",
    "| **Total number of clock cycles**                      |    $\\times 10^6$|\n",
    "| **Elapsed time**                                      |          seconds|"
   ]
  },
  {
   "cell_type": "markdown",
   "metadata": {},
   "source": [
    "c) Evaluate the resulting L1 data cache Hit-Rate."
   ]
  },
  {
   "cell_type": "markdown",
   "metadata": {},
   "source": [
    "> TODO"
   ]
  },
  {
   "cell_type": "markdown",
   "metadata": {},
   "source": [
    "d) Compare the obtained results with those that were obtained for the straightforward implementation,\n",
    "by calculating the difference of the resulting hit-rates (∆HitRate) and the obtained speedup."
   ]
  },
  {
   "cell_type": "markdown",
   "metadata": {},
   "source": [
    "> TODO"
   ]
  },
  {
   "cell_type": "markdown",
   "metadata": {},
   "source": [
    "e) Compare the obtained results with those that were obtained for the matrix transpose implementation by calculating the difference of the resulting hit-rates (∆HitRate) and the obtained speedup.\n",
    "\n",
    "If the obtained speedup is positive, but the difference of the resulting hit-rates is negative, how\n",
    "do you explain the performance improvement? \n",
    "\n",
    "(Hint: study the hit-rates of the L2 cache for both\n",
    "implementations; You may use the following PAPI events PAPI_L2_DCH (or PAPI_L2_DCM)\n",
    "and PAPI_L2_DCA. Run papi_avail to check for available events and understand their meaning.)"
   ]
  },
  {
   "cell_type": "markdown",
   "metadata": {},
   "source": [
    "> TODO"
   ]
  }
 ],
 "metadata": {},
 "nbformat": 4,
 "nbformat_minor": 2
}
